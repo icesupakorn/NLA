{
 "cells": [
  {
   "cell_type": "markdown",
   "id": "75463ead",
   "metadata": {},
   "source": [
    "# COMP42115: Natural Language Analysis\n",
    "## Sumative Assesment: Sentiment Analysis Model"
   ]
  },
  {
   "cell_type": "code",
   "execution_count": 478,
   "id": "97a6f823",
   "metadata": {},
   "outputs": [],
   "source": [
    "# Importing the nescessary libraies\n",
    "import pandas as pd\n",
    "import numpy as np\n",
    "import os\n",
    "import matplotlib.pyplot as plt\n",
    "import seaborn as sn\n",
    "\n",
    "\n",
    "%matplotlib inline\n",
    "\n",
    "from bs4 import BeautifulSoup\n",
    "import re\n",
    "import string\n",
    "from gensim.parsing.preprocessing import remove_stopwords\n",
    "\n",
    "from sklearn.feature_extraction.text import CountVectorizer\n",
    "from sklearn.feature_extraction.text import TfidfVectorizer, CountVectorizer\n",
    "from sklearn.model_selection import train_test_split\n",
    "\n",
    "from sklearn import metrics\n",
    "from sklearn.metrics import confusion_matrix,accuracy_score,roc_auc_score,roc_curve,auc,f1_score\n",
    "\n",
    "from imblearn.under_sampling import RandomUnderSampler\n",
    "from scipy.sparse import hstack\n",
    "\n",
    "from sklearn.svm import SVC\n",
    "from sklearn.model_selection import GridSearchCV\n",
    "\n",
    "import tensorflow as tf\n",
    "from tensorflow import keras\n",
    "from scipy.sparse import csr_matrix\n"
   ]
  },
  {
   "cell_type": "markdown",
   "id": "1de1b65b",
   "metadata": {},
   "source": [
    "### Data preprocessing"
   ]
  },
  {
   "cell_type": "code",
   "execution_count": 479,
   "id": "d62bb757",
   "metadata": {},
   "outputs": [],
   "source": [
    "# Random seed\n",
    "seed = 555"
   ]
  },
  {
   "cell_type": "code",
   "execution_count": 480,
   "id": "4b15586e",
   "metadata": {},
   "outputs": [],
   "source": [
    "# Loading the dataset\n",
    "body = pd.read_csv('data/train_bodies.csv')\n",
    "stance = pd.read_csv('data/train_stances.csv')"
   ]
  },
  {
   "cell_type": "code",
   "execution_count": 481,
   "id": "c72e710d",
   "metadata": {
    "scrolled": true
   },
   "outputs": [
    {
     "name": "stdout",
     "output_type": "stream",
     "text": [
      "(49972, 3)\n"
     ]
    },
    {
     "data": {
      "text/html": [
       "<div>\n",
       "<style scoped>\n",
       "    .dataframe tbody tr th:only-of-type {\n",
       "        vertical-align: middle;\n",
       "    }\n",
       "\n",
       "    .dataframe tbody tr th {\n",
       "        vertical-align: top;\n",
       "    }\n",
       "\n",
       "    .dataframe thead th {\n",
       "        text-align: right;\n",
       "    }\n",
       "</style>\n",
       "<table border=\"1\" class=\"dataframe\">\n",
       "  <thead>\n",
       "    <tr style=\"text-align: right;\">\n",
       "      <th></th>\n",
       "      <th>Headline</th>\n",
       "      <th>Body ID</th>\n",
       "      <th>Stance</th>\n",
       "    </tr>\n",
       "  </thead>\n",
       "  <tbody>\n",
       "    <tr>\n",
       "      <th>0</th>\n",
       "      <td>Police find mass graves with at least '15 bodi...</td>\n",
       "      <td>712</td>\n",
       "      <td>unrelated</td>\n",
       "    </tr>\n",
       "    <tr>\n",
       "      <th>1</th>\n",
       "      <td>Hundreds of Palestinians flee floods in Gaza a...</td>\n",
       "      <td>158</td>\n",
       "      <td>agree</td>\n",
       "    </tr>\n",
       "    <tr>\n",
       "      <th>2</th>\n",
       "      <td>Christian Bale passes on role of Steve Jobs, a...</td>\n",
       "      <td>137</td>\n",
       "      <td>unrelated</td>\n",
       "    </tr>\n",
       "    <tr>\n",
       "      <th>3</th>\n",
       "      <td>HBO and Apple in Talks for $15/Month Apple TV ...</td>\n",
       "      <td>1034</td>\n",
       "      <td>unrelated</td>\n",
       "    </tr>\n",
       "    <tr>\n",
       "      <th>4</th>\n",
       "      <td>Spider burrowed through tourist's stomach and ...</td>\n",
       "      <td>1923</td>\n",
       "      <td>disagree</td>\n",
       "    </tr>\n",
       "  </tbody>\n",
       "</table>\n",
       "</div>"
      ],
      "text/plain": [
       "                                            Headline  Body ID     Stance\n",
       "0  Police find mass graves with at least '15 bodi...      712  unrelated\n",
       "1  Hundreds of Palestinians flee floods in Gaza a...      158      agree\n",
       "2  Christian Bale passes on role of Steve Jobs, a...      137  unrelated\n",
       "3  HBO and Apple in Talks for $15/Month Apple TV ...     1034  unrelated\n",
       "4  Spider burrowed through tourist's stomach and ...     1923   disagree"
      ]
     },
     "execution_count": 481,
     "metadata": {},
     "output_type": "execute_result"
    }
   ],
   "source": [
    "print(stance.shape)\n",
    "stance.head()"
   ]
  },
  {
   "cell_type": "code",
   "execution_count": 482,
   "id": "563f7979",
   "metadata": {},
   "outputs": [
    {
     "name": "stdout",
     "output_type": "stream",
     "text": [
      "(1683, 2)\n"
     ]
    },
    {
     "data": {
      "text/html": [
       "<div>\n",
       "<style scoped>\n",
       "    .dataframe tbody tr th:only-of-type {\n",
       "        vertical-align: middle;\n",
       "    }\n",
       "\n",
       "    .dataframe tbody tr th {\n",
       "        vertical-align: top;\n",
       "    }\n",
       "\n",
       "    .dataframe thead th {\n",
       "        text-align: right;\n",
       "    }\n",
       "</style>\n",
       "<table border=\"1\" class=\"dataframe\">\n",
       "  <thead>\n",
       "    <tr style=\"text-align: right;\">\n",
       "      <th></th>\n",
       "      <th>Body ID</th>\n",
       "      <th>articleBody</th>\n",
       "    </tr>\n",
       "  </thead>\n",
       "  <tbody>\n",
       "    <tr>\n",
       "      <th>0</th>\n",
       "      <td>0</td>\n",
       "      <td>A small meteorite crashed into a wooded area i...</td>\n",
       "    </tr>\n",
       "    <tr>\n",
       "      <th>1</th>\n",
       "      <td>4</td>\n",
       "      <td>Last week we hinted at what was to come as Ebo...</td>\n",
       "    </tr>\n",
       "    <tr>\n",
       "      <th>2</th>\n",
       "      <td>5</td>\n",
       "      <td>(NEWSER) – Wonder how long a Quarter Pounder w...</td>\n",
       "    </tr>\n",
       "    <tr>\n",
       "      <th>3</th>\n",
       "      <td>6</td>\n",
       "      <td>Posting photos of a gun-toting child online, I...</td>\n",
       "    </tr>\n",
       "    <tr>\n",
       "      <th>4</th>\n",
       "      <td>7</td>\n",
       "      <td>At least 25 suspected Boko Haram insurgents we...</td>\n",
       "    </tr>\n",
       "  </tbody>\n",
       "</table>\n",
       "</div>"
      ],
      "text/plain": [
       "   Body ID                                        articleBody\n",
       "0        0  A small meteorite crashed into a wooded area i...\n",
       "1        4  Last week we hinted at what was to come as Ebo...\n",
       "2        5  (NEWSER) – Wonder how long a Quarter Pounder w...\n",
       "3        6  Posting photos of a gun-toting child online, I...\n",
       "4        7  At least 25 suspected Boko Haram insurgents we..."
      ]
     },
     "execution_count": 482,
     "metadata": {},
     "output_type": "execute_result"
    }
   ],
   "source": [
    "print(body.shape)\n",
    "body.head()"
   ]
  },
  {
   "cell_type": "code",
   "execution_count": 483,
   "id": "25194186",
   "metadata": {
    "scrolled": true
   },
   "outputs": [],
   "source": [
    "# Merging the dataset\n",
    "def merge_stance_body(stance, body):\n",
    "    merged_data = pd.merge(stance, body, on='Body ID')\n",
    "    return merged_data\n",
    "\n",
    "df = merge_stance_body(stance, body)"
   ]
  },
  {
   "cell_type": "code",
   "execution_count": 484,
   "id": "73b71d82",
   "metadata": {},
   "outputs": [],
   "source": [
    "train, test = train_test_split(df, test_size=0.30, random_state=seed)\n",
    "train, val = train_test_split(train, test_size=0.20, random_state=seed)"
   ]
  },
  {
   "cell_type": "code",
   "execution_count": 485,
   "id": "bfd27ff1",
   "metadata": {
    "scrolled": false
   },
   "outputs": [
    {
     "name": "stdout",
     "output_type": "stream",
     "text": [
      "(27984, 4)\n"
     ]
    },
    {
     "data": {
      "text/html": [
       "<div>\n",
       "<style scoped>\n",
       "    .dataframe tbody tr th:only-of-type {\n",
       "        vertical-align: middle;\n",
       "    }\n",
       "\n",
       "    .dataframe tbody tr th {\n",
       "        vertical-align: top;\n",
       "    }\n",
       "\n",
       "    .dataframe thead th {\n",
       "        text-align: right;\n",
       "    }\n",
       "</style>\n",
       "<table border=\"1\" class=\"dataframe\">\n",
       "  <thead>\n",
       "    <tr style=\"text-align: right;\">\n",
       "      <th></th>\n",
       "      <th>Headline</th>\n",
       "      <th>Body ID</th>\n",
       "      <th>Stance</th>\n",
       "      <th>articleBody</th>\n",
       "    </tr>\n",
       "  </thead>\n",
       "  <tbody>\n",
       "    <tr>\n",
       "      <th>23952</th>\n",
       "      <td>Media outlets identify 'Jihadi John'</td>\n",
       "      <td>1346</td>\n",
       "      <td>discuss</td>\n",
       "      <td>THE ISLAMIC State murderer dubbed 'Jihadi John...</td>\n",
       "    </tr>\n",
       "    <tr>\n",
       "      <th>34151</th>\n",
       "      <td>Rats at Vogue's NYC offices - watch your step,...</td>\n",
       "      <td>2498</td>\n",
       "      <td>agree</td>\n",
       "      <td>In case you missed it, Vogue Magazine, one of ...</td>\n",
       "    </tr>\n",
       "    <tr>\n",
       "      <th>33468</th>\n",
       "      <td>US drones hunt Isis leader in Syria</td>\n",
       "      <td>2443</td>\n",
       "      <td>discuss</td>\n",
       "      <td>There have been reports of predator drones bei...</td>\n",
       "    </tr>\n",
       "    <tr>\n",
       "      <th>43150</th>\n",
       "      <td>Apple Watch Gold Edition may cost as much as $...</td>\n",
       "      <td>2471</td>\n",
       "      <td>unrelated</td>\n",
       "      <td>Gill Rosenberg is reported to have been captur...</td>\n",
       "    </tr>\n",
       "    <tr>\n",
       "      <th>36227</th>\n",
       "      <td>HBO and Apple in Talks for $15/Month Apple TV ...</td>\n",
       "      <td>516</td>\n",
       "      <td>unrelated</td>\n",
       "      <td>A married Russian TV star woke up one day to d...</td>\n",
       "    </tr>\n",
       "  </tbody>\n",
       "</table>\n",
       "</div>"
      ],
      "text/plain": [
       "                                                Headline  Body ID     Stance  \\\n",
       "23952               Media outlets identify 'Jihadi John'     1346    discuss   \n",
       "34151  Rats at Vogue's NYC offices - watch your step,...     2498      agree   \n",
       "33468                US drones hunt Isis leader in Syria     2443    discuss   \n",
       "43150  Apple Watch Gold Edition may cost as much as $...     2471  unrelated   \n",
       "36227  HBO and Apple in Talks for $15/Month Apple TV ...      516  unrelated   \n",
       "\n",
       "                                             articleBody  \n",
       "23952  THE ISLAMIC State murderer dubbed 'Jihadi John...  \n",
       "34151  In case you missed it, Vogue Magazine, one of ...  \n",
       "33468  There have been reports of predator drones bei...  \n",
       "43150  Gill Rosenberg is reported to have been captur...  \n",
       "36227  A married Russian TV star woke up one day to d...  "
      ]
     },
     "execution_count": 485,
     "metadata": {},
     "output_type": "execute_result"
    }
   ],
   "source": [
    "print(train.shape)\n",
    "train.head()"
   ]
  },
  {
   "cell_type": "code",
   "execution_count": 486,
   "id": "90aee1cd",
   "metadata": {},
   "outputs": [
    {
     "name": "stdout",
     "output_type": "stream",
     "text": [
      "(6996, 4)\n"
     ]
    },
    {
     "data": {
      "text/html": [
       "<div>\n",
       "<style scoped>\n",
       "    .dataframe tbody tr th:only-of-type {\n",
       "        vertical-align: middle;\n",
       "    }\n",
       "\n",
       "    .dataframe tbody tr th {\n",
       "        vertical-align: top;\n",
       "    }\n",
       "\n",
       "    .dataframe thead th {\n",
       "        text-align: right;\n",
       "    }\n",
       "</style>\n",
       "<table border=\"1\" class=\"dataframe\">\n",
       "  <thead>\n",
       "    <tr style=\"text-align: right;\">\n",
       "      <th></th>\n",
       "      <th>Headline</th>\n",
       "      <th>Body ID</th>\n",
       "      <th>Stance</th>\n",
       "      <th>articleBody</th>\n",
       "    </tr>\n",
       "  </thead>\n",
       "  <tbody>\n",
       "    <tr>\n",
       "      <th>16486</th>\n",
       "      <td>US officials: Video shows American's execution</td>\n",
       "      <td>298</td>\n",
       "      <td>unrelated</td>\n",
       "      <td>Although Canadian police have not released the...</td>\n",
       "    </tr>\n",
       "    <tr>\n",
       "      <th>33030</th>\n",
       "      <td>Isilkulskom student has gained superhero power...</td>\n",
       "      <td>1503</td>\n",
       "      <td>unrelated</td>\n",
       "      <td>The internet is buzzing this morning with news...</td>\n",
       "    </tr>\n",
       "    <tr>\n",
       "      <th>18150</th>\n",
       "      <td>Iraqi social-media rumors claim IS leader slain</td>\n",
       "      <td>1631</td>\n",
       "      <td>unrelated</td>\n",
       "      <td>This is Sergeant-at-Arms Kevin Vickers who rep...</td>\n",
       "    </tr>\n",
       "    <tr>\n",
       "      <th>24707</th>\n",
       "      <td>Report: Israeli-Canadian woman fighting Islami...</td>\n",
       "      <td>2002</td>\n",
       "      <td>unrelated</td>\n",
       "      <td>BAGHDAD — Three hundred Iraqi soldiers died in...</td>\n",
       "    </tr>\n",
       "    <tr>\n",
       "      <th>2712</th>\n",
       "      <td>Pope Francis turns out not to have made pets i...</td>\n",
       "      <td>1905</td>\n",
       "      <td>disagree</td>\n",
       "      <td>NEW YORK — Pope Francis has given hope to gays...</td>\n",
       "    </tr>\n",
       "  </tbody>\n",
       "</table>\n",
       "</div>"
      ],
      "text/plain": [
       "                                                Headline  Body ID     Stance  \\\n",
       "16486     US officials: Video shows American's execution      298  unrelated   \n",
       "33030  Isilkulskom student has gained superhero power...     1503  unrelated   \n",
       "18150    Iraqi social-media rumors claim IS leader slain     1631  unrelated   \n",
       "24707  Report: Israeli-Canadian woman fighting Islami...     2002  unrelated   \n",
       "2712   Pope Francis turns out not to have made pets i...     1905   disagree   \n",
       "\n",
       "                                             articleBody  \n",
       "16486  Although Canadian police have not released the...  \n",
       "33030  The internet is buzzing this morning with news...  \n",
       "18150  This is Sergeant-at-Arms Kevin Vickers who rep...  \n",
       "24707  BAGHDAD — Three hundred Iraqi soldiers died in...  \n",
       "2712   NEW YORK — Pope Francis has given hope to gays...  "
      ]
     },
     "execution_count": 486,
     "metadata": {},
     "output_type": "execute_result"
    }
   ],
   "source": [
    "print(val.shape)\n",
    "val.head()"
   ]
  },
  {
   "cell_type": "code",
   "execution_count": 487,
   "id": "51bcfa0e",
   "metadata": {
    "scrolled": true
   },
   "outputs": [
    {
     "name": "stdout",
     "output_type": "stream",
     "text": [
      "(14992, 4)\n"
     ]
    },
    {
     "data": {
      "text/html": [
       "<div>\n",
       "<style scoped>\n",
       "    .dataframe tbody tr th:only-of-type {\n",
       "        vertical-align: middle;\n",
       "    }\n",
       "\n",
       "    .dataframe tbody tr th {\n",
       "        vertical-align: top;\n",
       "    }\n",
       "\n",
       "    .dataframe thead th {\n",
       "        text-align: right;\n",
       "    }\n",
       "</style>\n",
       "<table border=\"1\" class=\"dataframe\">\n",
       "  <thead>\n",
       "    <tr style=\"text-align: right;\">\n",
       "      <th></th>\n",
       "      <th>Headline</th>\n",
       "      <th>Body ID</th>\n",
       "      <th>Stance</th>\n",
       "      <th>articleBody</th>\n",
       "    </tr>\n",
       "  </thead>\n",
       "  <tbody>\n",
       "    <tr>\n",
       "      <th>38740</th>\n",
       "      <td>Militant Group Says It Killed American Journal...</td>\n",
       "      <td>2261</td>\n",
       "      <td>unrelated</td>\n",
       "      <td>From the midweek edition of the Morning Jolt:\\...</td>\n",
       "    </tr>\n",
       "    <tr>\n",
       "      <th>13806</th>\n",
       "      <td>Michael Zehaf-Bibeau, slain Ottawa shooter, ha...</td>\n",
       "      <td>186</td>\n",
       "      <td>unrelated</td>\n",
       "      <td>The sound of 10 or 11 shots from the gun of Fe...</td>\n",
       "    </tr>\n",
       "    <tr>\n",
       "      <th>7047</th>\n",
       "      <td>REPORT: Alleged New Audio of Michael Brown Sho...</td>\n",
       "      <td>345</td>\n",
       "      <td>unrelated</td>\n",
       "      <td>UTAH COUNTY — Over the years, holiday office C...</td>\n",
       "    </tr>\n",
       "    <tr>\n",
       "      <th>14746</th>\n",
       "      <td>Kim Jong-un Broke Both Ankles and Is Hospitali...</td>\n",
       "      <td>859</td>\n",
       "      <td>discuss</td>\n",
       "      <td>Kim Jong-Un had ankle surgery and is now recov...</td>\n",
       "    </tr>\n",
       "    <tr>\n",
       "      <th>49782</th>\n",
       "      <td>Report: Amazon to Launch Ad-Supported Streamin...</td>\n",
       "      <td>2442</td>\n",
       "      <td>unrelated</td>\n",
       "      <td>Google leased all 1.9 million square feet of M...</td>\n",
       "    </tr>\n",
       "  </tbody>\n",
       "</table>\n",
       "</div>"
      ],
      "text/plain": [
       "                                                Headline  Body ID     Stance  \\\n",
       "38740  Militant Group Says It Killed American Journal...     2261  unrelated   \n",
       "13806  Michael Zehaf-Bibeau, slain Ottawa shooter, ha...      186  unrelated   \n",
       "7047   REPORT: Alleged New Audio of Michael Brown Sho...      345  unrelated   \n",
       "14746  Kim Jong-un Broke Both Ankles and Is Hospitali...      859    discuss   \n",
       "49782  Report: Amazon to Launch Ad-Supported Streamin...     2442  unrelated   \n",
       "\n",
       "                                             articleBody  \n",
       "38740  From the midweek edition of the Morning Jolt:\\...  \n",
       "13806  The sound of 10 or 11 shots from the gun of Fe...  \n",
       "7047   UTAH COUNTY — Over the years, holiday office C...  \n",
       "14746  Kim Jong-Un had ankle surgery and is now recov...  \n",
       "49782  Google leased all 1.9 million square feet of M...  "
      ]
     },
     "execution_count": 487,
     "metadata": {},
     "output_type": "execute_result"
    }
   ],
   "source": [
    "print(test.shape)\n",
    "test.head()"
   ]
  },
  {
   "cell_type": "code",
   "execution_count": 488,
   "id": "e6754290",
   "metadata": {},
   "outputs": [],
   "source": [
    "# Spliting the data into X, Y\n",
    "def split(data):\n",
    "    X = data.drop(['Body ID','Stance'], axis=1)\n",
    "    Y = data['Stance']\n",
    "    return X,Y\n",
    "\n",
    "X_train, Y_train = split(train)\n",
    "X_val, Y_val = split(val)\n",
    "X_test, Y_test = split(test)"
   ]
  },
  {
   "cell_type": "code",
   "execution_count": 489,
   "id": "10730c86",
   "metadata": {},
   "outputs": [],
   "source": [
    "# cleaning texts\n",
    "def clean_text(text):\n",
    "    text = BeautifulSoup(text, \"lxml\").text\n",
    "    text = text.replace('\\n','')\n",
    "    text = text.translate(str.maketrans('', '', string.punctuation))\n",
    "    text = re.sub(r'\\|\\|\\|', r' ', text) \n",
    "    text = re.sub(r'http\\S+', r'<URL>', text)\n",
    "    text = text.lower()\n",
    "    text = text.replace('x', '')\n",
    "    text = remove_stopwords(text)\n",
    "    return text"
   ]
  },
  {
   "cell_type": "code",
   "execution_count": 490,
   "id": "e5eeb2db",
   "metadata": {},
   "outputs": [],
   "source": [
    "def clean_data(data):\n",
    "    data['Headline'] = [clean_text(i) for i in data['Headline']]\n",
    "    data['articleBody'] = [clean_text(i) for i in data['articleBody']]\n",
    "    return data\n",
    "\n",
    "X_train = clean_data(X_train)\n",
    "X_val = clean_data(X_val)\n",
    "X_test = clean_data(X_test)"
   ]
  },
  {
   "cell_type": "code",
   "execution_count": 491,
   "id": "a9b253dd",
   "metadata": {},
   "outputs": [
    {
     "data": {
      "text/html": [
       "<div>\n",
       "<style scoped>\n",
       "    .dataframe tbody tr th:only-of-type {\n",
       "        vertical-align: middle;\n",
       "    }\n",
       "\n",
       "    .dataframe tbody tr th {\n",
       "        vertical-align: top;\n",
       "    }\n",
       "\n",
       "    .dataframe thead th {\n",
       "        text-align: right;\n",
       "    }\n",
       "</style>\n",
       "<table border=\"1\" class=\"dataframe\">\n",
       "  <thead>\n",
       "    <tr style=\"text-align: right;\">\n",
       "      <th></th>\n",
       "      <th>Headline</th>\n",
       "      <th>articleBody</th>\n",
       "    </tr>\n",
       "  </thead>\n",
       "  <tbody>\n",
       "    <tr>\n",
       "      <th>23952</th>\n",
       "      <td>media outlets identify jihadi john</td>\n",
       "      <td>islamic state murderer dubbed jihadi john name...</td>\n",
       "    </tr>\n",
       "    <tr>\n",
       "      <th>34151</th>\n",
       "      <td>rats vogues nyc offices watch step anna wintour</td>\n",
       "      <td>case missed vogue magazine glamorous instituti...</td>\n",
       "    </tr>\n",
       "    <tr>\n",
       "      <th>33468</th>\n",
       "      <td>drones hunt isis leader syria</td>\n",
       "      <td>reports predator drones launched iraq reports ...</td>\n",
       "    </tr>\n",
       "    <tr>\n",
       "      <th>43150</th>\n",
       "      <td>apple watch gold edition cost 5000</td>\n",
       "      <td>gill rosenberg reported captured women fightin...</td>\n",
       "    </tr>\n",
       "    <tr>\n",
       "      <th>36227</th>\n",
       "      <td>hbo apple talks 15month apple tv streaming ser...</td>\n",
       "      <td>married russian tv star woke day discover test...</td>\n",
       "    </tr>\n",
       "  </tbody>\n",
       "</table>\n",
       "</div>"
      ],
      "text/plain": [
       "                                                Headline  \\\n",
       "23952                 media outlets identify jihadi john   \n",
       "34151    rats vogues nyc offices watch step anna wintour   \n",
       "33468                      drones hunt isis leader syria   \n",
       "43150                 apple watch gold edition cost 5000   \n",
       "36227  hbo apple talks 15month apple tv streaming ser...   \n",
       "\n",
       "                                             articleBody  \n",
       "23952  islamic state murderer dubbed jihadi john name...  \n",
       "34151  case missed vogue magazine glamorous instituti...  \n",
       "33468  reports predator drones launched iraq reports ...  \n",
       "43150  gill rosenberg reported captured women fightin...  \n",
       "36227  married russian tv star woke day discover test...  "
      ]
     },
     "execution_count": 491,
     "metadata": {},
     "output_type": "execute_result"
    }
   ],
   "source": [
    "X_train.head()"
   ]
  },
  {
   "cell_type": "markdown",
   "id": "fa4ad314",
   "metadata": {},
   "source": [
    "### Task 1 preparation"
   ]
  },
  {
   "cell_type": "code",
   "execution_count": 492,
   "id": "c2811ed2",
   "metadata": {
    "scrolled": true
   },
   "outputs": [
    {
     "data": {
      "text/plain": [
       "unrelated    20460\n",
       "discuss       4993\n",
       "agree         2057\n",
       "disagree       474\n",
       "Name: Stance, dtype: int64"
      ]
     },
     "execution_count": 492,
     "metadata": {},
     "output_type": "execute_result"
    },
    {
     "data": {
      "image/png": "[encoded data removed]",
      "text/plain": [
       "<Figure size 432x288 with 1 Axes>"
      ]
     },
     "metadata": {
      "needs_background": "light"
     },
     "output_type": "display_data"
    }
   ],
   "source": [
    "sn.countplot(data=train, x='Stance')\n",
    "train['Stance'].value_counts()"
   ]
  },
  {
   "cell_type": "code",
   "execution_count": 493,
   "id": "537eaa52",
   "metadata": {},
   "outputs": [],
   "source": [
    "# Replacing agree, disagree, and discuss with related\n",
    "def get_relation(y):\n",
    "    related = {'agree': 1,\n",
    "               'discuss': 1,\n",
    "               'disagree': 1,\n",
    "               'unrelated': 0}\n",
    "    y = y.replace(related)\n",
    "    return y\n",
    "\n",
    "Y_train = get_relation(Y_train)\n",
    "Y_val = get_relation(Y_val)\n",
    "Y_test = get_relation(Y_test)"
   ]
  },
  {
   "cell_type": "code",
   "execution_count": 494,
   "id": "d2bcb4f1",
   "metadata": {
    "scrolled": false
   },
   "outputs": [
    {
     "data": {
      "text/plain": [
       "0    20460\n",
       "1     7524\n",
       "Name: Stance, dtype: int64"
      ]
     },
     "execution_count": 494,
     "metadata": {},
     "output_type": "execute_result"
    },
    {
     "data": {
      "image/png": "[encoded data removed]",
      "text/plain": [
       "<Figure size 432x288 with 1 Axes>"
      ]
     },
     "metadata": {
      "needs_background": "light"
     },
     "output_type": "display_data"
    }
   ],
   "source": [
    "sn.countplot(x=Y_train)\n",
    "Y_train.value_counts()"
   ]
  },
  {
   "cell_type": "code",
   "execution_count": 495,
   "id": "805556f2",
   "metadata": {
    "scrolled": true
   },
   "outputs": [],
   "source": [
    "rus = RandomUnderSampler(sampling_strategy='not minority', random_state=seed)\n",
    "X_train, Y_train = rus.fit_resample(X_train, Y_train)\n",
    "temp_df = X_train\n",
    "temp_df['Stance'] = Y_train\n",
    "temp_df = temp_df.sample(frac=1, random_state=seed)\n",
    "X_train = temp_df.drop(['Stance'], axis=1)\n",
    "Y_train = temp_df['Stance']"
   ]
  },
  {
   "cell_type": "code",
   "execution_count": 496,
   "id": "604773e4",
   "metadata": {},
   "outputs": [
    {
     "data": {
      "text/plain": [
       "0    7524\n",
       "1    7524\n",
       "Name: Stance, dtype: int64"
      ]
     },
     "execution_count": 496,
     "metadata": {},
     "output_type": "execute_result"
    },
    {
     "data": {
      "image/png": "[encoded data removed]",
      "text/plain": [
       "<Figure size 432x288 with 1 Axes>"
      ]
     },
     "metadata": {
      "needs_background": "light"
     },
     "output_type": "display_data"
    }
   ],
   "source": [
    "sn.countplot(x=Y_train)\n",
    "Y_train.value_counts()"
   ]
  },
  {
   "cell_type": "markdown",
   "id": "8362db16",
   "metadata": {},
   "source": [
    "### TFIDF vecterisation"
   ]
  },
  {
   "cell_type": "code",
   "execution_count": 497,
   "id": "d6e31e7e",
   "metadata": {
    "scrolled": true
   },
   "outputs": [
    {
     "data": {
      "text/plain": [
       "TfidfVectorizer(decode_error='ignore', max_features=500, min_df=2)"
      ]
     },
     "execution_count": 497,
     "metadata": {},
     "output_type": "execute_result"
    }
   ],
   "source": [
    "# Training tfidf vectoriser\n",
    "tfidf_vec = pd.concat([X_test['articleBody'], X_train['articleBody']])\n",
    "tfidf = TfidfVectorizer(decode_error='ignore', lowercase = True, min_df=2, max_features=500)\n",
    "tfidf.fit(tfidf_vec)"
   ]
  },
  {
   "cell_type": "code",
   "execution_count": 498,
   "id": "d24eaa32",
   "metadata": {
    "scrolled": true
   },
   "outputs": [
    {
     "name": "stdout",
     "output_type": "stream",
     "text": [
      "['state' 'groups' 'woods' 'appears' 'came' 'september' 'arrested' 'staff'\n",
      " 'known' 'york' 'officer' 'comment' 'children' 'staff' 'claim' 'they'\n",
      " 'carried' 'wanted' 'amazon' 'wearing' 'blumenthal' 'later' '20'\n",
      " 'hostages' 'dog' 'kobani' 'woods' 'spoke' 'he' 'caught' 'second'\n",
      " 'possible' 'called' 'middle' 'white' 'president' 'held' 'youtube'\n",
      " 'interview' 'love' 'daily' 'media' 'launch' 'took' 'man' 'air'\n",
      " 'statement' 'francis' 'mosul' 'rumors']\n"
     ]
    },
    {
     "name": "stderr",
     "output_type": "stream",
     "text": [
      "C:\\Users\\Ice\\anaconda3\\lib\\site-packages\\sklearn\\utils\\deprecation.py:87: FutureWarning: Function get_feature_names is deprecated; get_feature_names is deprecated in 1.0 and will be removed in 1.2. Please use get_feature_names_out instead.\n",
      "  warnings.warn(msg, category=FutureWarning)\n"
     ]
    }
   ],
   "source": [
    "dictionary = np.asarray(tfidf.get_feature_names())\n",
    "print(dictionary[np.random.randint(0,len(dictionary),size=50)])"
   ]
  },
  {
   "cell_type": "code",
   "execution_count": 499,
   "id": "51b9caba",
   "metadata": {},
   "outputs": [],
   "source": [
    "def stack_tfidf(X):\n",
    "    header_tfidf = tfidf.transform(X['Headline'].values.astype('U'))\n",
    "    body_tfidf = tfidf.transform(X['articleBody'].values.astype('U'))\n",
    "    stacked_tfidf = hstack([header_tfidf, body_tfidf])\n",
    "    return stacked_tfidf\n",
    "\n",
    "X_train_tfidf = stack_tfidf(X_train)\n",
    "X_val_tfidf = stack_tfidf(X_val)\n",
    "X_test_tfidf = stack_tfidf(X_test)"
   ]
  },
  {
   "cell_type": "code",
   "execution_count": 500,
   "id": "53e7142f",
   "metadata": {},
   "outputs": [
    {
     "name": "stdout",
     "output_type": "stream",
     "text": [
      "tfidf_size: (14992, 2)\n"
     ]
    }
   ],
   "source": [
    "tfidf_size = X_test.shape\n",
    "print('tfidf_size:', tfidf_size)"
   ]
  },
  {
   "cell_type": "markdown",
   "id": "86bdb98d",
   "metadata": {},
   "source": [
    "### preparting the scoring model"
   ]
  },
  {
   "cell_type": "code",
   "execution_count": 24,
   "id": "c517e4a0",
   "metadata": {},
   "outputs": [],
   "source": [
    "# Creating the confussion matrix\n",
    "def plot_confussion_matrix(y_test, y_pred):\n",
    "    cm = confusion_matrix(y_test, y_pred)\n",
    "    df_cm = pd.DataFrame(cm, range(cm.shape[0]),\n",
    "                  range(cm.shape[1]))\n",
    "    sn.set(font_scale=1.4)\n",
    "    sn.heatmap(df_cm, annot=True,fmt='.0f',cmap=\"YlGnBu\",annot_kws={\"size\": 10})# font size\n",
    "    plt.show()"
   ]
  },
  {
   "cell_type": "code",
   "execution_count": 25,
   "id": "568ff471",
   "metadata": {},
   "outputs": [],
   "source": [
    "# Creating the ROC Curve\n",
    "def plot_roc_curve(y_test, y_pred):\n",
    "    fpr, tpr, thresholds = roc_curve(y_test, y_pred, pos_label=1)\n",
    "    roc_auc= auc(fpr,tpr)\n",
    "    plt.figure(figsize=(12, 12))\n",
    "    ax = plt.subplot(121)\n",
    "    ax.set_aspect(1)\n",
    "    \n",
    "    plt.title('Receiver Operating Characteristic')\n",
    "    plt.plot(fpr, tpr, 'b', label = 'AUC = %0.2f' % roc_auc)\n",
    "    plt.legend(loc = 'lower right')\n",
    "    plt.plot([0, 1], [0, 1],'r--')\n",
    "    plt.xlim([0, 1])\n",
    "    plt.ylim([0, 1])\n",
    "    plt.ylabel('True Positive Rate')\n",
    "    plt.xlabel('False Positive Rate')\n",
    "    plt.show()"
   ]
  },
  {
   "cell_type": "markdown",
   "id": "d9c45767",
   "metadata": {},
   "source": [
    "### a.1.1: TDIF-SVM"
   ]
  },
  {
   "cell_type": "code",
   "execution_count": 26,
   "id": "bb6b3ce7",
   "metadata": {},
   "outputs": [
    {
     "data": {
      "text/plain": [
       "GridSearchCV(cv=3, estimator=SVC(), n_jobs=-1,\n",
       "             param_grid={'C': [1.0, 10], 'gamma': [1, 'auto']})"
      ]
     },
     "execution_count": 26,
     "metadata": {},
     "output_type": "execute_result"
    }
   ],
   "source": [
    "# Building the SVM model\n",
    "parameters = { \n",
    "    'C': [1.0, 10],\n",
    "    'gamma': [1, 'auto']}\n",
    "model = GridSearchCV(SVC(kernel='rbf'), parameters, cv=3, n_jobs=-1)\n",
    "model.fit(X_train_tfidf, Y_train)"
   ]
  },
  {
   "cell_type": "code",
   "execution_count": 27,
   "id": "1430e3c6",
   "metadata": {},
   "outputs": [
    {
     "data": {
      "text/plain": [
       "{'C': 10, 'gamma': 1}"
      ]
     },
     "execution_count": 27,
     "metadata": {},
     "output_type": "execute_result"
    }
   ],
   "source": [
    "model.best_params_"
   ]
  },
  {
   "cell_type": "code",
   "execution_count": 28,
   "id": "c3927bdc",
   "metadata": {},
   "outputs": [],
   "source": [
    "model = model.best_estimator_"
   ]
  },
  {
   "cell_type": "code",
   "execution_count": 29,
   "id": "7cbf5ce6",
   "metadata": {},
   "outputs": [
    {
     "name": "stdout",
     "output_type": "stream",
     "text": [
      "              precision    recall  f1-score   support\n",
      "\n",
      "           0       0.99      0.97      0.98     10956\n",
      "           1       0.91      0.96      0.94      4036\n",
      "\n",
      "    accuracy                           0.97     14992\n",
      "   macro avg       0.95      0.97      0.96     14992\n",
      "weighted avg       0.97      0.97      0.97     14992\n",
      "\n"
     ]
    },
    {
     "data": {
      "image/png": "[encoded data removed]",
      "text/plain": [
       "<Figure size 432x288 with 2 Axes>"
      ]
     },
     "metadata": {},
     "output_type": "display_data"
    },
    {
     "data": {
      "image/png": "[encoded data removed]",
      "text/plain": [
       "<Figure size 864x864 with 1 Axes>"
      ]
     },
     "metadata": {},
     "output_type": "display_data"
    }
   ],
   "source": [
    "#Predicting the test data\n",
    "Y_svm = model.predict(X_test_tfidf)\n",
    "print(metrics.classification_report(Y_test, Y_svm))\n",
    "plot_confussion_matrix(Y_test, Y_svm)\n",
    "plot_roc_curve(Y_test, Y_svm)"
   ]
  },
  {
   "cell_type": "markdown",
   "id": "169a1882",
   "metadata": {},
   "source": [
    "### a.2.1: TFIDF-LSTM"
   ]
  },
  {
   "cell_type": "code",
   "execution_count": 501,
   "id": "e5d33d6d",
   "metadata": {},
   "outputs": [],
   "source": [
    "def prepare_lstm(X, Y):\n",
    "    X = X.toarray()\n",
    "    X = X[:, None, :]\n",
    "    Y = np.array(Y)\n",
    "    return X, Y\n",
    "\n",
    "X_train_tfidf, Y_train = prepare_lstm(X_train_tfidf, Y_train)\n",
    "X_val_tfidf, Y_val = prepare_lstm(X_val_tfidf, Y_val)\n",
    "X_test_tfidf, Y_test = prepare_lstm(X_test_tfidf, Y_test)"
   ]
  },
  {
   "cell_type": "code",
   "execution_count": 502,
   "id": "cade3d11",
   "metadata": {},
   "outputs": [
    {
     "data": {
      "text/plain": [
       "(15048, 1, 1000)"
      ]
     },
     "execution_count": 502,
     "metadata": {},
     "output_type": "execute_result"
    }
   ],
   "source": [
    "X_train_tfidf.shape"
   ]
  },
  {
   "cell_type": "code",
   "execution_count": 503,
   "id": "eb130bff",
   "metadata": {},
   "outputs": [
    {
     "data": {
      "text/plain": [
       "(15048,)"
      ]
     },
     "execution_count": 503,
     "metadata": {},
     "output_type": "execute_result"
    }
   ],
   "source": [
    "Y_train.shape"
   ]
  },
  {
   "cell_type": "code",
   "execution_count": 504,
   "id": "2287fc19",
   "metadata": {},
   "outputs": [
    {
     "name": "stdout",
     "output_type": "stream",
     "text": [
      "Epoch 1/5\n",
      "1881/1881 [==============================] - 58s 31ms/step - loss: 0.5849 - accuracy: 0.6750 - val_loss: 0.4017 - val_accuracy: 0.8129\n",
      "Epoch 2/5\n",
      "1881/1881 [==============================] - 59s 31ms/step - loss: 0.3041 - accuracy: 0.8612 - val_loss: 0.2716 - val_accuracy: 0.8706\n",
      "Epoch 3/5\n",
      "1881/1881 [==============================] - 59s 31ms/step - loss: 0.1778 - accuracy: 0.9246 - val_loss: 0.1838 - val_accuracy: 0.9242\n",
      "Epoch 4/5\n",
      "1881/1881 [==============================] - 59s 31ms/step - loss: 0.1171 - accuracy: 0.9559 - val_loss: 0.1458 - val_accuracy: 0.9407\n",
      "Epoch 5/5\n",
      "1881/1881 [==============================] - 59s 31ms/step - loss: 0.0826 - accuracy: 0.9659 - val_loss: 0.1362 - val_accuracy: 0.9454\n"
     ]
    },
    {
     "data": {
      "image/png": "[encoded data removed]",
      "text/plain": [
       "<Figure size 576x360 with 1 Axes>"
      ]
     },
     "metadata": {
      "needs_background": "light"
     },
     "output_type": "display_data"
    }
   ],
   "source": [
    "keras.backend.clear_session()\n",
    "np.random.seed(seed)\n",
    "tf.random.set_seed(seed)\n",
    "\n",
    "model2 = keras.models.Sequential()\n",
    "model2.add(keras.layers.LSTM(1000,\n",
    "                            input_shape=(None, 1000),\n",
    "                            return_sequences=True))\n",
    "model2.add(keras.layers.Dropout(0.2))\n",
    "model2.add(keras.layers.Dense(1, activation='sigmoid'))\n",
    "model2.compile(\n",
    "    loss='binary_crossentropy', \n",
    "    optimizer='adam', \n",
    "    metrics = ['accuracy'])\n",
    "history = model2.fit(X_train_tfidf, Y_train, \n",
    "                    validation_data=(X_val_tfidf, Y_val),\n",
    "                    epochs=5, batch_size=8, verbose=1)\n",
    "pd.DataFrame(history.history).plot(figsize=(8, 5))\n",
    "plt.grid(True)"
   ]
  },
  {
   "cell_type": "code",
   "execution_count": 38,
   "id": "e37da159",
   "metadata": {},
   "outputs": [],
   "source": [
    "Y_lstm = model2.predict_classes(X_test_tfidf)"
   ]
  },
  {
   "cell_type": "code",
   "execution_count": 39,
   "id": "797cee8b",
   "metadata": {},
   "outputs": [
    {
     "name": "stdout",
     "output_type": "stream",
     "text": [
      "              precision    recall  f1-score   support\n",
      "\n",
      "           0      0.980     0.947     0.963     10956\n",
      "           1      0.868     0.948     0.906      4036\n",
      "\n",
      "    accuracy                          0.947     14992\n",
      "   macro avg      0.924     0.947     0.935     14992\n",
      "weighted avg      0.950     0.947     0.948     14992\n",
      "\n"
     ]
    },
    {
     "data": {
      "image/png": "[encoded data removed]",
      "text/plain": [
       "<Figure size 432x288 with 2 Axes>"
      ]
     },
     "metadata": {},
     "output_type": "display_data"
    },
    {
     "data": {
      "image/png": "[encoded data removed]",
      "text/plain": [
       "<Figure size 864x864 with 1 Axes>"
      ]
     },
     "metadata": {},
     "output_type": "display_data"
    }
   ],
   "source": [
    "print(metrics.classification_report(Y_test, Y_lstm.reshape(len(Y_lstm)), digits=3))\n",
    "plot_confussion_matrix(Y_test, Y_lstm.reshape(len(Y_lstm)))\n",
    "plot_roc_curve(Y_test, Y_lstm.reshape(len(Y_lstm)))"
   ]
  },
  {
   "cell_type": "markdown",
   "id": "1484a7e2",
   "metadata": {},
   "source": [
    "### a.1.2: Bert-SVM"
   ]
  },
  {
   "cell_type": "code",
   "execution_count": 41,
   "id": "1910fe0d",
   "metadata": {},
   "outputs": [],
   "source": [
    "from transformers import BertTokenizer"
   ]
  },
  {
   "cell_type": "code",
   "execution_count": 42,
   "id": "1dd3945c",
   "metadata": {},
   "outputs": [],
   "source": [
    "tokenizer = BertTokenizer.from_pretrained(\"bert-base-uncased\")"
   ]
  },
  {
   "cell_type": "code",
   "execution_count": 46,
   "id": "2734c8cc",
   "metadata": {},
   "outputs": [],
   "source": [
    "def bert_encoder(data):\n",
    "    encoded_input = []\n",
    "    for i in data.index:\n",
    "        encoded_headline = tokenizer.encode(\n",
    "            text=data['Headline'][i],\n",
    "            add_special_tokens=True,\n",
    "            max_length = 30,\n",
    "            pad_to_max_length=True,\n",
    "        )\n",
    "        encoded_body = tokenizer.encode(\n",
    "            text=data['articleBody'][i],\n",
    "            add_special_tokens=False,\n",
    "            max_length = 250,\n",
    "            pad_to_max_length=True,\n",
    "        )\n",
    "        encoded = encoded_headline + encoded_body\n",
    "        encoded_input.append(encoded)\n",
    "    encoded_input = np.array(encoded_input)\n",
    "    return encoded_input"
   ]
  },
  {
   "cell_type": "code",
   "execution_count": 47,
   "id": "bba4d390",
   "metadata": {},
   "outputs": [],
   "source": [
    "X_train_bert = bert_encoder(X_train)"
   ]
  },
  {
   "cell_type": "code",
   "execution_count": 48,
   "id": "b02463ba",
   "metadata": {},
   "outputs": [],
   "source": [
    "X_val_bert = bert_encoder(X_val)"
   ]
  },
  {
   "cell_type": "code",
   "execution_count": 49,
   "id": "1e848a35",
   "metadata": {},
   "outputs": [],
   "source": [
    "X_test_bert = bert_encoder(X_test)"
   ]
  },
  {
   "cell_type": "code",
   "execution_count": 50,
   "id": "6bf772b8",
   "metadata": {},
   "outputs": [
    {
     "data": {
      "text/plain": [
       "(15048, 280)"
      ]
     },
     "execution_count": 50,
     "metadata": {},
     "output_type": "execute_result"
    }
   ],
   "source": [
    "X_train_bert.shape"
   ]
  },
  {
   "cell_type": "code",
   "execution_count": 51,
   "id": "15a0dfd8",
   "metadata": {},
   "outputs": [
    {
     "data": {
      "text/plain": [
       "(15048,)"
      ]
     },
     "execution_count": 51,
     "metadata": {},
     "output_type": "execute_result"
    }
   ],
   "source": [
    "Y_train.shape"
   ]
  },
  {
   "cell_type": "code",
   "execution_count": 52,
   "id": "1a24bc6d",
   "metadata": {},
   "outputs": [
    {
     "data": {
      "text/plain": [
       "GridSearchCV(cv=3, estimator=SVC(), n_jobs=-1,\n",
       "             param_grid={'C': [1.0, 10], 'gamma': [1, 'auto']})"
      ]
     },
     "execution_count": 52,
     "metadata": {},
     "output_type": "execute_result"
    }
   ],
   "source": [
    "# Building the SVM model\n",
    "parameters = { \n",
    "    'C': [1.0, 10],\n",
    "    'gamma': [1, 'auto']}\n",
    "model3 = GridSearchCV(SVC(kernel='rbf'), parameters, cv=3, n_jobs=-1)\n",
    "model3.fit(X_train_bert, Y_train)"
   ]
  },
  {
   "cell_type": "code",
   "execution_count": 53,
   "id": "39a71ca3",
   "metadata": {},
   "outputs": [
    {
     "data": {
      "text/plain": [
       "{'C': 1.0, 'gamma': 1}"
      ]
     },
     "execution_count": 53,
     "metadata": {},
     "output_type": "execute_result"
    }
   ],
   "source": [
    "model3.best_params_"
   ]
  },
  {
   "cell_type": "code",
   "execution_count": 54,
   "id": "1b26f2bc",
   "metadata": {},
   "outputs": [],
   "source": [
    "model3 = model3.best_estimator_"
   ]
  },
  {
   "cell_type": "code",
   "execution_count": 55,
   "id": "19c6ab0f",
   "metadata": {},
   "outputs": [
    {
     "name": "stdout",
     "output_type": "stream",
     "text": [
      "              precision    recall  f1-score   support\n",
      "\n",
      "           0       0.73      1.00      0.85     10956\n",
      "           1       1.00      0.02      0.04      4036\n",
      "\n",
      "    accuracy                           0.74     14992\n",
      "   macro avg       0.87      0.51      0.44     14992\n",
      "weighted avg       0.81      0.74      0.63     14992\n",
      "\n"
     ]
    },
    {
     "data": {
      "image/png": "[encoded data removed]",
      "text/plain": [
       "<Figure size 432x288 with 2 Axes>"
      ]
     },
     "metadata": {},
     "output_type": "display_data"
    },
    {
     "data": {
      "image/png": "[encoded data removed]",
      "text/plain": [
       "<Figure size 864x864 with 1 Axes>"
      ]
     },
     "metadata": {},
     "output_type": "display_data"
    }
   ],
   "source": [
    "#Predicting the test data\n",
    "Y_svm = model3.predict(X_test_bert)\n",
    "print(metrics.classification_report(Y_test, Y_svm))\n",
    "plot_confussion_matrix(Y_test, Y_svm)\n",
    "plot_roc_curve(Y_test, Y_svm)"
   ]
  },
  {
   "cell_type": "markdown",
   "id": "dd3c515c",
   "metadata": {},
   "source": [
    "### a.2.2: Bert-LSTM"
   ]
  },
  {
   "cell_type": "code",
   "execution_count": 57,
   "id": "45c3783f",
   "metadata": {},
   "outputs": [],
   "source": [
    "def nor_bert_vec(x):\n",
    "    max_vec = x.max()\n",
    "    x = x/max_vec\n",
    "    return  x\n",
    "\n",
    "X_train_bert = nor_bert_vec(X_train_bert)\n",
    "X_train_bert = nor_bert_vec(X_train_bert)\n",
    "X_train_bert = nor_bert_vec(X_train_bert)"
   ]
  },
  {
   "cell_type": "code",
   "execution_count": 58,
   "id": "471fea1c",
   "metadata": {},
   "outputs": [],
   "source": [
    "X_train_bert = X_train_bert[:, None, :]\n",
    "X_val_bert = X_val_bert[:, None, :]\n",
    "X_test_bert = X_test_bert[:, None, :]"
   ]
  },
  {
   "cell_type": "code",
   "execution_count": 59,
   "id": "3a810ec8",
   "metadata": {},
   "outputs": [],
   "source": [
    "Y_train = np.array(Y_train)\n",
    "Y_val = np.array(Y_val)\n",
    "Y_test = np.array(Y_test)"
   ]
  },
  {
   "cell_type": "code",
   "execution_count": 60,
   "id": "8f94fb2d",
   "metadata": {},
   "outputs": [
    {
     "data": {
      "text/plain": [
       "(15048, 1, 280)"
      ]
     },
     "execution_count": 60,
     "metadata": {},
     "output_type": "execute_result"
    }
   ],
   "source": [
    "X_train_bert.shape"
   ]
  },
  {
   "cell_type": "code",
   "execution_count": 61,
   "id": "d67083e5",
   "metadata": {},
   "outputs": [
    {
     "data": {
      "text/plain": [
       "(15048,)"
      ]
     },
     "execution_count": 61,
     "metadata": {},
     "output_type": "execute_result"
    }
   ],
   "source": [
    "Y_train.shape"
   ]
  },
  {
   "cell_type": "code",
   "execution_count": 69,
   "id": "dab11012",
   "metadata": {
    "scrolled": true
   },
   "outputs": [
    {
     "name": "stdout",
     "output_type": "stream",
     "text": [
      "Epoch 1/10\n",
      "941/941 [==============================] - 4s 4ms/step - loss: 0.6749 - accuracy: 0.5712 - val_loss: 1.2017 - val_accuracy: 0.3932\n",
      "Epoch 2/10\n",
      "941/941 [==============================] - 4s 4ms/step - loss: 0.6408 - accuracy: 0.6301 - val_loss: 1.5995 - val_accuracy: 0.4534\n",
      "Epoch 3/10\n",
      "941/941 [==============================] - 4s 4ms/step - loss: 0.6031 - accuracy: 0.6687 - val_loss: 0.9791 - val_accuracy: 0.5931\n",
      "Epoch 4/10\n",
      "941/941 [==============================] - 3s 4ms/step - loss: 0.5677 - accuracy: 0.7041 - val_loss: 0.8455 - val_accuracy: 0.7078\n",
      "Epoch 5/10\n",
      "941/941 [==============================] - 3s 4ms/step - loss: 0.5353 - accuracy: 0.7321 - val_loss: 0.9150 - val_accuracy: 0.6955\n",
      "Epoch 6/10\n",
      "941/941 [==============================] - 3s 4ms/step - loss: 0.5136 - accuracy: 0.7468 - val_loss: 0.9003 - val_accuracy: 0.7083\n",
      "Epoch 7/10\n",
      "941/941 [==============================] - 3s 4ms/step - loss: 0.4934 - accuracy: 0.7571 - val_loss: 0.7353 - val_accuracy: 0.7474\n",
      "Epoch 8/10\n",
      "941/941 [==============================] - 3s 4ms/step - loss: 0.4806 - accuracy: 0.7644 - val_loss: 0.8815 - val_accuracy: 0.7300\n",
      "Epoch 9/10\n",
      "941/941 [==============================] - 3s 4ms/step - loss: 0.4687 - accuracy: 0.7736 - val_loss: 0.7535 - val_accuracy: 0.7466\n",
      "Epoch 10/10\n",
      "941/941 [==============================] - 3s 4ms/step - loss: 0.4569 - accuracy: 0.7799 - val_loss: 0.7230 - val_accuracy: 0.7810\n"
     ]
    },
    {
     "data": {
      "image/png": "[encoded data removed]",
      "text/plain": [
       "<Figure size 576x360 with 1 Axes>"
      ]
     },
     "metadata": {},
     "output_type": "display_data"
    }
   ],
   "source": [
    "keras.backend.clear_session()\n",
    "np.random.seed(seed)\n",
    "tf.random.set_seed(seed)\n",
    "\n",
    "model4 = keras.models.Sequential()\n",
    "model4.add(keras.layers.LSTM(280,\n",
    "                            input_shape=(None, 280),\n",
    "                            return_sequences=True))\n",
    "model4.add(keras.layers.Dropout(0.1))\n",
    "model4.add(keras.layers.Dense(1, activation='sigmoid'))\n",
    "model4.compile(\n",
    "    loss='binary_crossentropy', \n",
    "    optimizer='adam', \n",
    "    metrics = ['accuracy'])\n",
    "history = model4.fit(X_train_bert, Y_train, \n",
    "                    validation_data=(X_val_bert, Y_val),\n",
    "                    epochs=10, batch_size=16, verbose=1)\n",
    "pd.DataFrame(history.history).plot(figsize=(8, 5))\n",
    "plt.grid(True)"
   ]
  },
  {
   "cell_type": "code",
   "execution_count": 63,
   "id": "e2b8a3ab",
   "metadata": {},
   "outputs": [],
   "source": [
    "Y_lstm = model4.predict_classes(X_test_bert)"
   ]
  },
  {
   "cell_type": "code",
   "execution_count": 64,
   "id": "d43fcbd6",
   "metadata": {},
   "outputs": [
    {
     "name": "stdout",
     "output_type": "stream",
     "text": [
      "              precision    recall  f1-score   support\n",
      "\n",
      "           0      0.857     0.840     0.848     10956\n",
      "           1      0.587     0.619     0.602      4036\n",
      "\n",
      "    accuracy                          0.780     14992\n",
      "   macro avg      0.722     0.729     0.725     14992\n",
      "weighted avg      0.784     0.780     0.782     14992\n",
      "\n"
     ]
    },
    {
     "data": {
      "image/png": "[encoded data removed]",
      "text/plain": [
       "<Figure size 432x288 with 2 Axes>"
      ]
     },
     "metadata": {},
     "output_type": "display_data"
    },
    {
     "data": {
      "image/png": "[encoded data removed]",
      "text/plain": [
       "<Figure size 864x864 with 1 Axes>"
      ]
     },
     "metadata": {},
     "output_type": "display_data"
    }
   ],
   "source": [
    "print(metrics.classification_report(Y_test, Y_lstm.reshape(len(Y_lstm)), digits=3))\n",
    "plot_confussion_matrix(Y_test, Y_lstm.reshape(len(Y_lstm)))\n",
    "plot_roc_curve(Y_test, Y_lstm.reshape(len(Y_lstm)))"
   ]
  },
  {
   "cell_type": "markdown",
   "id": "be78b018",
   "metadata": {},
   "source": [
    "### Task 2 preparation"
   ]
  },
  {
   "cell_type": "code",
   "execution_count": 416,
   "id": "49715e4a",
   "metadata": {},
   "outputs": [],
   "source": [
    "def prepare_stance(data):\n",
    "    df = data\n",
    "    related = {'agree': 1,\n",
    "               'discuss': 2,\n",
    "               'disagree': 3,\n",
    "               'unrelated': 0}\n",
    "    df['Stance'] = df['Stance'].replace(related)\n",
    "    df = df.drop(df[df['Stance']==0].index)\n",
    "    y = df[['Stance']]\n",
    "    x = df[['Headline', 'articleBody']]\n",
    "    return x, y"
   ]
  },
  {
   "cell_type": "code",
   "execution_count": 420,
   "id": "cb6b731d",
   "metadata": {
    "scrolled": true
   },
   "outputs": [],
   "source": [
    "X_train, Y_train = prepare_stance(train)\n",
    "X_val, Y_val = prepare_stance(val)\n",
    "X_test, Y_test = prepare_stance(test)"
   ]
  },
  {
   "cell_type": "code",
   "execution_count": 422,
   "id": "8b972f66",
   "metadata": {},
   "outputs": [],
   "source": [
    "X_train = clean_data(X_train)\n",
    "X_val = clean_data(X_val)\n",
    "X_test = clean_data(X_test)"
   ]
  },
  {
   "cell_type": "code",
   "execution_count": 423,
   "id": "e0d01e2b",
   "metadata": {},
   "outputs": [],
   "source": [
    "X_train, Y_train = rus.fit_resample(X_train, Y_train)\n",
    "temp_df = X_train\n",
    "temp_df['Stance'] = Y_train\n",
    "temp_df = temp_df.sample(frac=1, random_state=seed)\n",
    "X_train = temp_df.drop(['Stance'], axis=1)\n",
    "Y_train = temp_df['Stance']"
   ]
  },
  {
   "cell_type": "code",
   "execution_count": 424,
   "id": "652e5533",
   "metadata": {},
   "outputs": [],
   "source": [
    "Y_val = Y_val['Stance']"
   ]
  },
  {
   "cell_type": "code",
   "execution_count": 425,
   "id": "4dc9c40b",
   "metadata": {},
   "outputs": [],
   "source": [
    "Y_test = Y_test['Stance']"
   ]
  },
  {
   "cell_type": "code",
   "execution_count": 426,
   "id": "80f33dc7",
   "metadata": {
    "scrolled": true
   },
   "outputs": [
    {
     "data": {
      "text/plain": [
       "1    474\n",
       "2    474\n",
       "3    474\n",
       "Name: Stance, dtype: int64"
      ]
     },
     "execution_count": 426,
     "metadata": {},
     "output_type": "execute_result"
    },
    {
     "data": {
      "image/png": "[encoded data removed]",
      "text/plain": [
       "<Figure size 432x288 with 1 Axes>"
      ]
     },
     "metadata": {},
     "output_type": "display_data"
    }
   ],
   "source": [
    "sn.countplot(x=Y_train)\n",
    "Y_train.value_counts()"
   ]
  },
  {
   "cell_type": "code",
   "execution_count": 427,
   "id": "0995ba69",
   "metadata": {},
   "outputs": [],
   "source": [
    "Y_train = pd.get_dummies(Y_train)\n",
    "Y_val = pd.get_dummies(Y_val)\n",
    "Y_test = pd.get_dummies(Y_test)"
   ]
  },
  {
   "cell_type": "code",
   "execution_count": 428,
   "id": "e83cc1e5",
   "metadata": {},
   "outputs": [],
   "source": [
    "X_train_tfidf = stack_tfidf(X_train)\n",
    "X_val_tfidf = stack_tfidf(X_val)\n",
    "X_test_tfidf = stack_tfidf(X_test)"
   ]
  },
  {
   "cell_type": "markdown",
   "id": "c7d55f29",
   "metadata": {},
   "source": [
    "### b: TDIF-LSTM"
   ]
  },
  {
   "cell_type": "code",
   "execution_count": 429,
   "id": "a625d85d",
   "metadata": {},
   "outputs": [],
   "source": [
    "X_train_tfidf, Y_train = prepare_lstm(X_train_tfidf, Y_train)\n",
    "X_val_tfidf, Y_val = prepare_lstm(X_val_tfidf, Y_val)\n",
    "X_test_tfidf, Y_test = prepare_lstm(X_test_tfidf, Y_test)"
   ]
  },
  {
   "cell_type": "code",
   "execution_count": 430,
   "id": "d3c7188b",
   "metadata": {},
   "outputs": [],
   "source": [
    "Y_train = Y_train[:,None,:]\n",
    "Y_val = Y_val[:,None,:]\n",
    "Y_tets = Y_test[:,None,:]"
   ]
  },
  {
   "cell_type": "code",
   "execution_count": 431,
   "id": "fc50a4b1",
   "metadata": {},
   "outputs": [
    {
     "data": {
      "text/plain": [
       "(1422, 1, 1000)"
      ]
     },
     "execution_count": 431,
     "metadata": {},
     "output_type": "execute_result"
    }
   ],
   "source": [
    "X_train_tfidf.shape"
   ]
  },
  {
   "cell_type": "code",
   "execution_count": 432,
   "id": "989c7af6",
   "metadata": {},
   "outputs": [
    {
     "data": {
      "text/plain": [
       "(1422, 1, 3)"
      ]
     },
     "execution_count": 432,
     "metadata": {},
     "output_type": "execute_result"
    }
   ],
   "source": [
    "Y_train.shape"
   ]
  },
  {
   "cell_type": "code",
   "execution_count": 433,
   "id": "a1948e6d",
   "metadata": {},
   "outputs": [
    {
     "name": "stdout",
     "output_type": "stream",
     "text": [
      "Epoch 1/6\n",
      "178/178 [==============================] - 6s 36ms/step - loss: 0.8835 - accuracy: 0.6174 - val_loss: 0.7292 - val_accuracy: 0.6904\n",
      "Epoch 2/6\n",
      "178/178 [==============================] - 6s 34ms/step - loss: 0.5905 - accuracy: 0.7644 - val_loss: 0.7102 - val_accuracy: 0.7065\n",
      "Epoch 3/6\n",
      "178/178 [==============================] - 6s 35ms/step - loss: 0.4441 - accuracy: 0.8333 - val_loss: 0.6925 - val_accuracy: 0.7322\n",
      "Epoch 4/6\n",
      "178/178 [==============================] - 6s 35ms/step - loss: 0.3646 - accuracy: 0.8594 - val_loss: 0.8504 - val_accuracy: 0.6968\n",
      "Epoch 5/6\n",
      "178/178 [==============================] - 6s 34ms/step - loss: 0.3096 - accuracy: 0.8847 - val_loss: 0.8361 - val_accuracy: 0.7231\n",
      "Epoch 6/6\n",
      "178/178 [==============================] - 6s 34ms/step - loss: 0.2605 - accuracy: 0.9058 - val_loss: 0.8763 - val_accuracy: 0.7349\n"
     ]
    },
    {
     "data": {
      "image/png": "[encoded data removed]",
      "text/plain": [
       "<Figure size 576x360 with 1 Axes>"
      ]
     },
     "metadata": {},
     "output_type": "display_data"
    }
   ],
   "source": [
    "keras.backend.clear_session()\n",
    "np.random.seed(seed)\n",
    "tf.random.set_seed(seed)\n",
    "\n",
    "model5 = keras.models.Sequential()\n",
    "model5.add(keras.layers.LSTM(1000,\n",
    "                            input_shape=(None, 1000),\n",
    "                            return_sequences=True))\n",
    "model5.add(keras.layers.Dropout(0.2))\n",
    "model5.add(keras.layers.Dense(3, activation='softmax'))\n",
    "model5.compile(\n",
    "    loss='categorical_crossentropy', \n",
    "    optimizer='adam', \n",
    "    metrics = ['accuracy'])\n",
    "history = model5.fit(X_train_tfidf, Y_train, \n",
    "                    validation_data=(X_val_tfidf, Y_val),\n",
    "                    epochs=6, batch_size=8, verbose=1)\n",
    "pd.DataFrame(history.history).plot(figsize=(8, 5))\n",
    "plt.grid(True)"
   ]
  },
  {
   "cell_type": "code",
   "execution_count": 434,
   "id": "18ae8f01",
   "metadata": {},
   "outputs": [],
   "source": [
    "Y_lstm = model5.predict_classes(X_test_tfidf)\n",
    "Y_lstm = Y_lstm+1\n",
    "Y_lstm = Y_lstm.reshape(len(Y_lstm))"
   ]
  },
  {
   "cell_type": "code",
   "execution_count": 435,
   "id": "9fae4e2e",
   "metadata": {},
   "outputs": [],
   "source": [
    "comparer = test.drop(test[test['Stance']==0].index)\n",
    "comparer = comparer['Stance']\n",
    "comparer = np.array(comparer)"
   ]
  },
  {
   "cell_type": "code",
   "execution_count": 440,
   "id": "c3500536",
   "metadata": {},
   "outputs": [
    {
     "name": "stdout",
     "output_type": "stream",
     "text": [
      "              precision    recall  f1-score   support\n",
      "\n",
      "           1      0.610     0.625     0.618      1113\n",
      "           2      0.904     0.768     0.830      2686\n",
      "           3      0.271     0.700     0.391       237\n",
      "\n",
      "    accuracy                          0.725      4036\n",
      "   macro avg      0.595     0.698     0.613      4036\n",
      "weighted avg      0.786     0.725     0.746      4036\n",
      "\n"
     ]
    },
    {
     "data": {
      "image/png": "[encoded data removed]",
      "text/plain": [
       "<Figure size 432x288 with 2 Axes>"
      ]
     },
     "metadata": {},
     "output_type": "display_data"
    }
   ],
   "source": [
    "print(metrics.classification_report(comparer, Y_lstm, digits=3))\n",
    "plot_confussion_matrix(comparer, Y_lstm)"
   ]
  },
  {
   "cell_type": "markdown",
   "id": "a8614090",
   "metadata": {},
   "source": [
    "### c: Finalised model"
   ]
  },
  {
   "cell_type": "code",
   "execution_count": 528,
   "id": "09e74419",
   "metadata": {},
   "outputs": [],
   "source": [
    "test_fn = test"
   ]
  },
  {
   "cell_type": "code",
   "execution_count": 529,
   "id": "b5422345",
   "metadata": {},
   "outputs": [],
   "source": [
    "relation = {'agree': 1,\n",
    "           'discuss': 2,\n",
    "           'disagree': 3,\n",
    "           'unrelated': 0}\n",
    "test_fn['Stance'] = test_fn['Stance'].replace(relation)"
   ]
  },
  {
   "cell_type": "code",
   "execution_count": 531,
   "id": "48670079",
   "metadata": {},
   "outputs": [
    {
     "name": "stderr",
     "output_type": "stream",
     "text": [
      "<ipython-input-490-7044a453f4ef>:2: SettingWithCopyWarning: \n",
      "A value is trying to be set on a copy of a slice from a DataFrame.\n",
      "Try using .loc[row_indexer,col_indexer] = value instead\n",
      "\n",
      "See the caveats in the documentation: https://pandas.pydata.org/pandas-docs/stable/user_guide/indexing.html#returning-a-view-versus-a-copy\n",
      "  data['Headline'] = [clean_text(i) for i in data['Headline']]\n",
      "<ipython-input-490-7044a453f4ef>:3: SettingWithCopyWarning: \n",
      "A value is trying to be set on a copy of a slice from a DataFrame.\n",
      "Try using .loc[row_indexer,col_indexer] = value instead\n",
      "\n",
      "See the caveats in the documentation: https://pandas.pydata.org/pandas-docs/stable/user_guide/indexing.html#returning-a-view-versus-a-copy\n",
      "  data['articleBody'] = [clean_text(i) for i in data['articleBody']]\n"
     ]
    }
   ],
   "source": [
    "X_test = test_fn[['Headline', 'articleBody']]\n",
    "X_test = clean_data(X_test)\n",
    "X_test_tfidf = stack_tfidf(X_test)\n",
    "X_test_tfidf = X_test_tfidf.toarray()\n",
    "X_test_tfidf = X_test_tfidf[:, None, :]"
   ]
  },
  {
   "cell_type": "code",
   "execution_count": 535,
   "id": "b4fbacaf",
   "metadata": {},
   "outputs": [],
   "source": [
    "Y_pred = model2.predict_classes(X_test_tfidf)\n",
    "Y_pred = Y_pred.reshape(len(Y_pred))"
   ]
  },
  {
   "cell_type": "code",
   "execution_count": 537,
   "id": "e17f4586",
   "metadata": {},
   "outputs": [],
   "source": [
    "test_fn['prediction'] = Y_pred\n",
    "test_fn = test2.sort_values(by='prediction')\n",
    "test_fn"
   ]
  },
  {
   "cell_type": "code",
   "execution_count": 539,
   "id": "ffe4832b",
   "metadata": {},
   "outputs": [],
   "source": [
    "test_fn_related = test_fn.loc[test_fn['prediction']==1]\n",
    "test_fn_unrelated = test_fn.loc[test_fn['prediction']==0] "
   ]
  },
  {
   "cell_type": "code",
   "execution_count": 545,
   "id": "40e5fed3",
   "metadata": {},
   "outputs": [
    {
     "name": "stderr",
     "output_type": "stream",
     "text": [
      "<ipython-input-490-7044a453f4ef>:2: SettingWithCopyWarning: \n",
      "A value is trying to be set on a copy of a slice from a DataFrame.\n",
      "Try using .loc[row_indexer,col_indexer] = value instead\n",
      "\n",
      "See the caveats in the documentation: https://pandas.pydata.org/pandas-docs/stable/user_guide/indexing.html#returning-a-view-versus-a-copy\n",
      "  data['Headline'] = [clean_text(i) for i in data['Headline']]\n",
      "<ipython-input-490-7044a453f4ef>:3: SettingWithCopyWarning: \n",
      "A value is trying to be set on a copy of a slice from a DataFrame.\n",
      "Try using .loc[row_indexer,col_indexer] = value instead\n",
      "\n",
      "See the caveats in the documentation: https://pandas.pydata.org/pandas-docs/stable/user_guide/indexing.html#returning-a-view-versus-a-copy\n",
      "  data['articleBody'] = [clean_text(i) for i in data['articleBody']]\n"
     ]
    }
   ],
   "source": [
    "X_test = test_fn_related[['Headline', 'articleBody']]\n",
    "X_test = clean_data(X_test)\n",
    "X_test_tfidf = stack_tfidf(X_test)\n",
    "X_test_tfidf = X_test_tfidf.toarray()\n",
    "X_test_tfidf = X_test_tfidf[:, None, :]"
   ]
  },
  {
   "cell_type": "code",
   "execution_count": 546,
   "id": "a142f7e7",
   "metadata": {},
   "outputs": [],
   "source": [
    "Y_pred_class = model5.predict_classes(X_test_tfidf)"
   ]
  },
  {
   "cell_type": "code",
   "execution_count": 549,
   "id": "a6172520",
   "metadata": {},
   "outputs": [],
   "source": [
    "Y_pred_class = Y_pred_class.reshape(len(Y_pred_class))\n",
    "Y_pred_class = Y_pred_class + 1\n",
    "test_fn_related['prediction'] = Y_pred_class"
   ]
  },
  {
   "cell_type": "code",
   "execution_count": 558,
   "id": "0dfb9619",
   "metadata": {},
   "outputs": [
    {
     "data": {
      "text/html": [
       "<div>\n",
       "<style scoped>\n",
       "    .dataframe tbody tr th:only-of-type {\n",
       "        vertical-align: middle;\n",
       "    }\n",
       "\n",
       "    .dataframe tbody tr th {\n",
       "        vertical-align: top;\n",
       "    }\n",
       "\n",
       "    .dataframe thead th {\n",
       "        text-align: right;\n",
       "    }\n",
       "</style>\n",
       "<table border=\"1\" class=\"dataframe\">\n",
       "  <thead>\n",
       "    <tr style=\"text-align: right;\">\n",
       "      <th></th>\n",
       "      <th>Headline</th>\n",
       "      <th>Body ID</th>\n",
       "      <th>Stance</th>\n",
       "      <th>articleBody</th>\n",
       "      <th>prediction</th>\n",
       "    </tr>\n",
       "  </thead>\n",
       "  <tbody>\n",
       "    <tr>\n",
       "      <th>38740</th>\n",
       "      <td>Militant Group Says It Killed American Journal...</td>\n",
       "      <td>2261</td>\n",
       "      <td>0</td>\n",
       "      <td>From the midweek edition of the Morning Jolt:\\...</td>\n",
       "      <td>0</td>\n",
       "    </tr>\n",
       "    <tr>\n",
       "      <th>12266</th>\n",
       "      <td>North Korean leader Kim Jong Un had ankle surg...</td>\n",
       "      <td>2489</td>\n",
       "      <td>0</td>\n",
       "      <td>Sorry to disappoint, fans of Led Zeppelin, but...</td>\n",
       "      <td>0</td>\n",
       "    </tr>\n",
       "    <tr>\n",
       "      <th>47085</th>\n",
       "      <td>Kurds fear Isis use of chemical weapon in Kobani</td>\n",
       "      <td>155</td>\n",
       "      <td>0</td>\n",
       "      <td>Comcast allegedly pulled strings to get one of...</td>\n",
       "      <td>0</td>\n",
       "    </tr>\n",
       "    <tr>\n",
       "      <th>41519</th>\n",
       "      <td>Wildest Apple Watch rumor yet: 100,000 apps at...</td>\n",
       "      <td>235</td>\n",
       "      <td>0</td>\n",
       "      <td>Twitter is hopping right now about how Saudi T...</td>\n",
       "      <td>0</td>\n",
       "    </tr>\n",
       "    <tr>\n",
       "      <th>39198</th>\n",
       "      <td>British aid worker David Haines beheaded by ISIL</td>\n",
       "      <td>2034</td>\n",
       "      <td>0</td>\n",
       "      <td>When a report went viral that NBC meteorologis...</td>\n",
       "      <td>0</td>\n",
       "    </tr>\n",
       "    <tr>\n",
       "      <th>...</th>\n",
       "      <td>...</td>\n",
       "      <td>...</td>\n",
       "      <td>...</td>\n",
       "      <td>...</td>\n",
       "      <td>...</td>\n",
       "    </tr>\n",
       "    <tr>\n",
       "      <th>23392</th>\n",
       "      <td>This Is Why Rumors That ISIS Is Crossing The B...</td>\n",
       "      <td>2249</td>\n",
       "      <td>2</td>\n",
       "      <td>The Department of Homeland Security is denying...</td>\n",
       "      <td>2</td>\n",
       "    </tr>\n",
       "    <tr>\n",
       "      <th>18369</th>\n",
       "      <td>Islamic State releases video apparently showin...</td>\n",
       "      <td>847</td>\n",
       "      <td>2</td>\n",
       "      <td>“A Message To America,” a video uploaded Tuesd...</td>\n",
       "      <td>2</td>\n",
       "    </tr>\n",
       "    <tr>\n",
       "      <th>16579</th>\n",
       "      <td>HORROR: ISIS Fighters Have Reportedly Contract...</td>\n",
       "      <td>2003</td>\n",
       "      <td>2</td>\n",
       "      <td>The New York Post is reporting this morning th...</td>\n",
       "      <td>2</td>\n",
       "    </tr>\n",
       "    <tr>\n",
       "      <th>47615</th>\n",
       "      <td>BREAKING: \"Brat Pack\" Judd Nelson Found Dead i...</td>\n",
       "      <td>2286</td>\n",
       "      <td>3</td>\n",
       "      <td>In a welcome break from a slow weekend of news...</td>\n",
       "      <td>2</td>\n",
       "    </tr>\n",
       "    <tr>\n",
       "      <th>27815</th>\n",
       "      <td>WHO investigates media reports ISIS fighters c...</td>\n",
       "      <td>1891</td>\n",
       "      <td>2</td>\n",
       "      <td>THERE are unconfirmed reports that jihadists f...</td>\n",
       "      <td>2</td>\n",
       "    </tr>\n",
       "  </tbody>\n",
       "</table>\n",
       "<p>14992 rows × 5 columns</p>\n",
       "</div>"
      ],
      "text/plain": [
       "                                                Headline  Body ID  Stance  \\\n",
       "38740  Militant Group Says It Killed American Journal...     2261       0   \n",
       "12266  North Korean leader Kim Jong Un had ankle surg...     2489       0   \n",
       "47085   Kurds fear Isis use of chemical weapon in Kobani      155       0   \n",
       "41519  Wildest Apple Watch rumor yet: 100,000 apps at...      235       0   \n",
       "39198   British aid worker David Haines beheaded by ISIL     2034       0   \n",
       "...                                                  ...      ...     ...   \n",
       "23392  This Is Why Rumors That ISIS Is Crossing The B...     2249       2   \n",
       "18369  Islamic State releases video apparently showin...      847       2   \n",
       "16579  HORROR: ISIS Fighters Have Reportedly Contract...     2003       2   \n",
       "47615  BREAKING: \"Brat Pack\" Judd Nelson Found Dead i...     2286       3   \n",
       "27815  WHO investigates media reports ISIS fighters c...     1891       2   \n",
       "\n",
       "                                             articleBody  prediction  \n",
       "38740  From the midweek edition of the Morning Jolt:\\...           0  \n",
       "12266  Sorry to disappoint, fans of Led Zeppelin, but...           0  \n",
       "47085  Comcast allegedly pulled strings to get one of...           0  \n",
       "41519  Twitter is hopping right now about how Saudi T...           0  \n",
       "39198  When a report went viral that NBC meteorologis...           0  \n",
       "...                                                  ...         ...  \n",
       "23392  The Department of Homeland Security is denying...           2  \n",
       "18369  “A Message To America,” a video uploaded Tuesd...           2  \n",
       "16579  The New York Post is reporting this morning th...           2  \n",
       "47615  In a welcome break from a slow weekend of news...           2  \n",
       "27815  THERE are unconfirmed reports that jihadists f...           2  \n",
       "\n",
       "[14992 rows x 5 columns]"
      ]
     },
     "execution_count": 558,
     "metadata": {},
     "output_type": "execute_result"
    }
   ],
   "source": [
    "test_fn = pd.concat([test_fn_unrelated, test_fn_related], axis=0)\n",
    "test_fn"
   ]
  },
  {
   "cell_type": "code",
   "execution_count": 559,
   "id": "f0957f70",
   "metadata": {},
   "outputs": [],
   "source": [
    "Y_true = test_fn['Stance']\n",
    "Y_pred_all = test_fn['prediction']"
   ]
  },
  {
   "cell_type": "code",
   "execution_count": 560,
   "id": "03e30f14",
   "metadata": {},
   "outputs": [
    {
     "name": "stdout",
     "output_type": "stream",
     "text": [
      "              precision    recall  f1-score   support\n",
      "\n",
      "           0      0.980     0.947     0.963     10956\n",
      "           1      0.493     0.575     0.531      1113\n",
      "           2      0.822     0.741     0.780      2686\n",
      "           3      0.231     0.671     0.344       237\n",
      "\n",
      "    accuracy                          0.878     14992\n",
      "   macro avg      0.632     0.734     0.654     14992\n",
      "weighted avg      0.904     0.878     0.888     14992\n",
      "\n"
     ]
    },
    {
     "data": {
      "image/png": "[encoded data removed]",
      "text/plain": [
       "<Figure size 432x288 with 2 Axes>"
      ]
     },
     "metadata": {},
     "output_type": "display_data"
    }
   ],
   "source": [
    "print(metrics.classification_report(Y_true, Y_pred_all, digits=3))\n",
    "plot_confussion_matrix(Y_true, Y_pred_all)"
   ]
  },
  {
   "cell_type": "code",
   "execution_count": null,
   "id": "fb1a519b",
   "metadata": {},
   "outputs": [],
   "source": []
  }
 ],
 "metadata": {
  "kernelspec": {
   "display_name": "Python 3",
   "language": "python",
   "name": "python3"
  },
  "language_info": {
   "codemirror_mode": {
    "name": "ipython",
    "version": 3
   },
   "file_extension": ".py",
   "mimetype": "text/x-python",
   "name": "python",
   "nbconvert_exporter": "python",
   "pygments_lexer": "ipython3",
   "version": "3.8.8"
  }
 },
 "nbformat": 4,
 "nbformat_minor": 5
}
