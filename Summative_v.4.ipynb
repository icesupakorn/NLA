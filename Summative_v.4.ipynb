{
 "cells": [
  {
   "cell_type": "markdown",
   "id": "75463ead",
   "metadata": {},
   "source": [
    "# COMP42115: Natural Language Analysis\n",
    "## Sumative Assesment: Sentiment Analysis Model"
   ]
  },
  {
   "cell_type": "code",
   "execution_count": 1,
   "id": "97a6f823",
   "metadata": {},
   "outputs": [],
   "source": [
    "# Importing the nescessary libraies\n",
    "import pandas as pd\n",
    "import numpy as np\n",
    "import os\n",
    "import matplotlib.pyplot as plt\n",
    "import seaborn as sn\n",
    "\n",
    "\n",
    "%matplotlib inline\n",
    "\n",
    "from bs4 import BeautifulSoup\n",
    "import re\n",
    "import string\n",
    "from gensim.parsing.preprocessing import remove_stopwords\n",
    "\n",
    "from sklearn.feature_extraction.text import CountVectorizer\n",
    "from sklearn.feature_extraction.text import TfidfVectorizer, CountVectorizer\n",
    "from sklearn.model_selection import train_test_split\n",
    "\n",
    "from sklearn import metrics\n",
    "from sklearn.metrics import confusion_matrix,accuracy_score,roc_auc_score,roc_curve,auc,f1_score\n",
    "\n",
    "from imblearn.under_sampling import RandomUnderSampler\n",
    "from scipy.sparse import hstack\n",
    "\n",
    "from sklearn.svm import SVC\n",
    "from sklearn.model_selection import GridSearchCV\n",
    "\n",
    "import tensorflow as tf\n",
    "from tensorflow import keras\n",
    "from scipy.sparse import csr_matrix\n"
   ]
  },
  {
   "cell_type": "markdown",
   "id": "1de1b65b",
   "metadata": {},
   "source": [
    "### Data preprocessing"
   ]
  },
  {
   "cell_type": "code",
   "execution_count": 2,
   "id": "d62bb757",
   "metadata": {},
   "outputs": [],
   "source": [
    "# Random seed\n",
    "seed = 555"
   ]
  },
  {
   "cell_type": "code",
   "execution_count": 3,
   "id": "4b15586e",
   "metadata": {},
   "outputs": [],
   "source": [
    "# Loading the dataset\n",
    "body = pd.read_csv('data/train_bodies.csv')\n",
    "stance = pd.read_csv('data/train_stances.csv')\n",
    "test_body = pd.read_csv('data/competition_test_bodies.csv')\n",
    "test_stance = pd.read_csv('data/competition_test_stances.csv')"
   ]
  },
  {
   "cell_type": "code",
   "execution_count": 4,
   "id": "c72e710d",
   "metadata": {
    "scrolled": true
   },
   "outputs": [
    {
     "name": "stdout",
     "output_type": "stream",
     "text": [
      "(49972, 3)\n"
     ]
    },
    {
     "data": {
      "text/html": [
       "<div>\n",
       "<style scoped>\n",
       "    .dataframe tbody tr th:only-of-type {\n",
       "        vertical-align: middle;\n",
       "    }\n",
       "\n",
       "    .dataframe tbody tr th {\n",
       "        vertical-align: top;\n",
       "    }\n",
       "\n",
       "    .dataframe thead th {\n",
       "        text-align: right;\n",
       "    }\n",
       "</style>\n",
       "<table border=\"1\" class=\"dataframe\">\n",
       "  <thead>\n",
       "    <tr style=\"text-align: right;\">\n",
       "      <th></th>\n",
       "      <th>Headline</th>\n",
       "      <th>Body ID</th>\n",
       "      <th>Stance</th>\n",
       "    </tr>\n",
       "  </thead>\n",
       "  <tbody>\n",
       "    <tr>\n",
       "      <th>0</th>\n",
       "      <td>Police find mass graves with at least '15 bodi...</td>\n",
       "      <td>712</td>\n",
       "      <td>unrelated</td>\n",
       "    </tr>\n",
       "    <tr>\n",
       "      <th>1</th>\n",
       "      <td>Hundreds of Palestinians flee floods in Gaza a...</td>\n",
       "      <td>158</td>\n",
       "      <td>agree</td>\n",
       "    </tr>\n",
       "    <tr>\n",
       "      <th>2</th>\n",
       "      <td>Christian Bale passes on role of Steve Jobs, a...</td>\n",
       "      <td>137</td>\n",
       "      <td>unrelated</td>\n",
       "    </tr>\n",
       "    <tr>\n",
       "      <th>3</th>\n",
       "      <td>HBO and Apple in Talks for $15/Month Apple TV ...</td>\n",
       "      <td>1034</td>\n",
       "      <td>unrelated</td>\n",
       "    </tr>\n",
       "    <tr>\n",
       "      <th>4</th>\n",
       "      <td>Spider burrowed through tourist's stomach and ...</td>\n",
       "      <td>1923</td>\n",
       "      <td>disagree</td>\n",
       "    </tr>\n",
       "  </tbody>\n",
       "</table>\n",
       "</div>"
      ],
      "text/plain": [
       "                                            Headline  Body ID     Stance\n",
       "0  Police find mass graves with at least '15 bodi...      712  unrelated\n",
       "1  Hundreds of Palestinians flee floods in Gaza a...      158      agree\n",
       "2  Christian Bale passes on role of Steve Jobs, a...      137  unrelated\n",
       "3  HBO and Apple in Talks for $15/Month Apple TV ...     1034  unrelated\n",
       "4  Spider burrowed through tourist's stomach and ...     1923   disagree"
      ]
     },
     "execution_count": 4,
     "metadata": {},
     "output_type": "execute_result"
    }
   ],
   "source": [
    "print(stance.shape)\n",
    "stance.head()"
   ]
  },
  {
   "cell_type": "code",
   "execution_count": 5,
   "id": "563f7979",
   "metadata": {},
   "outputs": [
    {
     "name": "stdout",
     "output_type": "stream",
     "text": [
      "(1683, 2)\n"
     ]
    },
    {
     "data": {
      "text/html": [
       "<div>\n",
       "<style scoped>\n",
       "    .dataframe tbody tr th:only-of-type {\n",
       "        vertical-align: middle;\n",
       "    }\n",
       "\n",
       "    .dataframe tbody tr th {\n",
       "        vertical-align: top;\n",
       "    }\n",
       "\n",
       "    .dataframe thead th {\n",
       "        text-align: right;\n",
       "    }\n",
       "</style>\n",
       "<table border=\"1\" class=\"dataframe\">\n",
       "  <thead>\n",
       "    <tr style=\"text-align: right;\">\n",
       "      <th></th>\n",
       "      <th>Body ID</th>\n",
       "      <th>articleBody</th>\n",
       "    </tr>\n",
       "  </thead>\n",
       "  <tbody>\n",
       "    <tr>\n",
       "      <th>0</th>\n",
       "      <td>0</td>\n",
       "      <td>A small meteorite crashed into a wooded area i...</td>\n",
       "    </tr>\n",
       "    <tr>\n",
       "      <th>1</th>\n",
       "      <td>4</td>\n",
       "      <td>Last week we hinted at what was to come as Ebo...</td>\n",
       "    </tr>\n",
       "    <tr>\n",
       "      <th>2</th>\n",
       "      <td>5</td>\n",
       "      <td>(NEWSER) – Wonder how long a Quarter Pounder w...</td>\n",
       "    </tr>\n",
       "    <tr>\n",
       "      <th>3</th>\n",
       "      <td>6</td>\n",
       "      <td>Posting photos of a gun-toting child online, I...</td>\n",
       "    </tr>\n",
       "    <tr>\n",
       "      <th>4</th>\n",
       "      <td>7</td>\n",
       "      <td>At least 25 suspected Boko Haram insurgents we...</td>\n",
       "    </tr>\n",
       "  </tbody>\n",
       "</table>\n",
       "</div>"
      ],
      "text/plain": [
       "   Body ID                                        articleBody\n",
       "0        0  A small meteorite crashed into a wooded area i...\n",
       "1        4  Last week we hinted at what was to come as Ebo...\n",
       "2        5  (NEWSER) – Wonder how long a Quarter Pounder w...\n",
       "3        6  Posting photos of a gun-toting child online, I...\n",
       "4        7  At least 25 suspected Boko Haram insurgents we..."
      ]
     },
     "execution_count": 5,
     "metadata": {},
     "output_type": "execute_result"
    }
   ],
   "source": [
    "print(body.shape)\n",
    "body.head()"
   ]
  },
  {
   "cell_type": "code",
   "execution_count": 6,
   "id": "25194186",
   "metadata": {
    "scrolled": true
   },
   "outputs": [],
   "source": [
    "# Merging the dataset\n",
    "def merge_stance_body(stance, body):\n",
    "    merged_data = pd.merge(stance, body, on='Body ID')\n",
    "    return merged_data\n",
    "\n",
    "train_val = merge_stance_body(stance, body)\n",
    "test = merge_stance_body(test_stance, test_body)"
   ]
  },
  {
   "cell_type": "code",
   "execution_count": 7,
   "id": "73b71d82",
   "metadata": {},
   "outputs": [],
   "source": [
    "train, val = train_test_split(train_val, test_size=0.20, random_state=seed)"
   ]
  },
  {
   "cell_type": "code",
   "execution_count": 8,
   "id": "bfd27ff1",
   "metadata": {
    "scrolled": false
   },
   "outputs": [
    {
     "name": "stdout",
     "output_type": "stream",
     "text": [
      "(39977, 4)\n"
     ]
    },
    {
     "data": {
      "text/html": [
       "<div>\n",
       "<style scoped>\n",
       "    .dataframe tbody tr th:only-of-type {\n",
       "        vertical-align: middle;\n",
       "    }\n",
       "\n",
       "    .dataframe tbody tr th {\n",
       "        vertical-align: top;\n",
       "    }\n",
       "\n",
       "    .dataframe thead th {\n",
       "        text-align: right;\n",
       "    }\n",
       "</style>\n",
       "<table border=\"1\" class=\"dataframe\">\n",
       "  <thead>\n",
       "    <tr style=\"text-align: right;\">\n",
       "      <th></th>\n",
       "      <th>Headline</th>\n",
       "      <th>Body ID</th>\n",
       "      <th>Stance</th>\n",
       "      <th>articleBody</th>\n",
       "    </tr>\n",
       "  </thead>\n",
       "  <tbody>\n",
       "    <tr>\n",
       "      <th>36784</th>\n",
       "      <td>Nigeria Claims Boko Haram Will Release the Kid...</td>\n",
       "      <td>1019</td>\n",
       "      <td>unrelated</td>\n",
       "      <td>Christian Bale will star as late Apple CEO Ste...</td>\n",
       "    </tr>\n",
       "    <tr>\n",
       "      <th>33466</th>\n",
       "      <td>#HairGate: iPhone 6 Customers Are Complaining ...</td>\n",
       "      <td>2443</td>\n",
       "      <td>unrelated</td>\n",
       "      <td>There have been reports of predator drones bei...</td>\n",
       "    </tr>\n",
       "    <tr>\n",
       "      <th>7713</th>\n",
       "      <td>Isis claims it has US airdrop of weapons</td>\n",
       "      <td>2336</td>\n",
       "      <td>unrelated</td>\n",
       "      <td>Multi-millionaire religious \"guru\" Gurmeet Ram...</td>\n",
       "    </tr>\n",
       "    <tr>\n",
       "      <th>15539</th>\n",
       "      <td>Video showing American journalist beheaded bel...</td>\n",
       "      <td>826</td>\n",
       "      <td>unrelated</td>\n",
       "      <td>American photojournalist Luke Somers, held hos...</td>\n",
       "    </tr>\n",
       "    <tr>\n",
       "      <th>12770</th>\n",
       "      <td>ISIL allegedly kills US journalist in video</td>\n",
       "      <td>511</td>\n",
       "      <td>unrelated</td>\n",
       "      <td>The leaked video of Georgy Myakinkin's protest...</td>\n",
       "    </tr>\n",
       "  </tbody>\n",
       "</table>\n",
       "</div>"
      ],
      "text/plain": [
       "                                                Headline  Body ID     Stance  \\\n",
       "36784  Nigeria Claims Boko Haram Will Release the Kid...     1019  unrelated   \n",
       "33466  #HairGate: iPhone 6 Customers Are Complaining ...     2443  unrelated   \n",
       "7713            Isis claims it has US airdrop of weapons     2336  unrelated   \n",
       "15539  Video showing American journalist beheaded bel...      826  unrelated   \n",
       "12770        ISIL allegedly kills US journalist in video      511  unrelated   \n",
       "\n",
       "                                             articleBody  \n",
       "36784  Christian Bale will star as late Apple CEO Ste...  \n",
       "33466  There have been reports of predator drones bei...  \n",
       "7713   Multi-millionaire religious \"guru\" Gurmeet Ram...  \n",
       "15539  American photojournalist Luke Somers, held hos...  \n",
       "12770  The leaked video of Georgy Myakinkin's protest...  "
      ]
     },
     "execution_count": 8,
     "metadata": {},
     "output_type": "execute_result"
    }
   ],
   "source": [
    "print(train.shape)\n",
    "train.head()"
   ]
  },
  {
   "cell_type": "code",
   "execution_count": 9,
   "id": "90aee1cd",
   "metadata": {},
   "outputs": [
    {
     "name": "stdout",
     "output_type": "stream",
     "text": [
      "(9995, 4)\n"
     ]
    },
    {
     "data": {
      "text/html": [
       "<div>\n",
       "<style scoped>\n",
       "    .dataframe tbody tr th:only-of-type {\n",
       "        vertical-align: middle;\n",
       "    }\n",
       "\n",
       "    .dataframe tbody tr th {\n",
       "        vertical-align: top;\n",
       "    }\n",
       "\n",
       "    .dataframe thead th {\n",
       "        text-align: right;\n",
       "    }\n",
       "</style>\n",
       "<table border=\"1\" class=\"dataframe\">\n",
       "  <thead>\n",
       "    <tr style=\"text-align: right;\">\n",
       "      <th></th>\n",
       "      <th>Headline</th>\n",
       "      <th>Body ID</th>\n",
       "      <th>Stance</th>\n",
       "      <th>articleBody</th>\n",
       "    </tr>\n",
       "  </thead>\n",
       "  <tbody>\n",
       "    <tr>\n",
       "      <th>38740</th>\n",
       "      <td>Militant Group Says It Killed American Journal...</td>\n",
       "      <td>2261</td>\n",
       "      <td>unrelated</td>\n",
       "      <td>From the midweek edition of the Morning Jolt:\\...</td>\n",
       "    </tr>\n",
       "    <tr>\n",
       "      <th>13806</th>\n",
       "      <td>Michael Zehaf-Bibeau, slain Ottawa shooter, ha...</td>\n",
       "      <td>186</td>\n",
       "      <td>unrelated</td>\n",
       "      <td>The sound of 10 or 11 shots from the gun of Fe...</td>\n",
       "    </tr>\n",
       "    <tr>\n",
       "      <th>7047</th>\n",
       "      <td>REPORT: Alleged New Audio of Michael Brown Sho...</td>\n",
       "      <td>345</td>\n",
       "      <td>unrelated</td>\n",
       "      <td>UTAH COUNTY — Over the years, holiday office C...</td>\n",
       "    </tr>\n",
       "    <tr>\n",
       "      <th>14746</th>\n",
       "      <td>Kim Jong-un Broke Both Ankles and Is Hospitali...</td>\n",
       "      <td>859</td>\n",
       "      <td>discuss</td>\n",
       "      <td>Kim Jong-Un had ankle surgery and is now recov...</td>\n",
       "    </tr>\n",
       "    <tr>\n",
       "      <th>49782</th>\n",
       "      <td>Report: Amazon to Launch Ad-Supported Streamin...</td>\n",
       "      <td>2442</td>\n",
       "      <td>unrelated</td>\n",
       "      <td>Google leased all 1.9 million square feet of M...</td>\n",
       "    </tr>\n",
       "  </tbody>\n",
       "</table>\n",
       "</div>"
      ],
      "text/plain": [
       "                                                Headline  Body ID     Stance  \\\n",
       "38740  Militant Group Says It Killed American Journal...     2261  unrelated   \n",
       "13806  Michael Zehaf-Bibeau, slain Ottawa shooter, ha...      186  unrelated   \n",
       "7047   REPORT: Alleged New Audio of Michael Brown Sho...      345  unrelated   \n",
       "14746  Kim Jong-un Broke Both Ankles and Is Hospitali...      859    discuss   \n",
       "49782  Report: Amazon to Launch Ad-Supported Streamin...     2442  unrelated   \n",
       "\n",
       "                                             articleBody  \n",
       "38740  From the midweek edition of the Morning Jolt:\\...  \n",
       "13806  The sound of 10 or 11 shots from the gun of Fe...  \n",
       "7047   UTAH COUNTY — Over the years, holiday office C...  \n",
       "14746  Kim Jong-Un had ankle surgery and is now recov...  \n",
       "49782  Google leased all 1.9 million square feet of M...  "
      ]
     },
     "execution_count": 9,
     "metadata": {},
     "output_type": "execute_result"
    }
   ],
   "source": [
    "print(val.shape)\n",
    "val.head()"
   ]
  },
  {
   "cell_type": "code",
   "execution_count": 10,
   "id": "51bcfa0e",
   "metadata": {
    "scrolled": true
   },
   "outputs": [
    {
     "name": "stdout",
     "output_type": "stream",
     "text": [
      "(25413, 4)\n"
     ]
    },
    {
     "data": {
      "text/html": [
       "<div>\n",
       "<style scoped>\n",
       "    .dataframe tbody tr th:only-of-type {\n",
       "        vertical-align: middle;\n",
       "    }\n",
       "\n",
       "    .dataframe tbody tr th {\n",
       "        vertical-align: top;\n",
       "    }\n",
       "\n",
       "    .dataframe thead th {\n",
       "        text-align: right;\n",
       "    }\n",
       "</style>\n",
       "<table border=\"1\" class=\"dataframe\">\n",
       "  <thead>\n",
       "    <tr style=\"text-align: right;\">\n",
       "      <th></th>\n",
       "      <th>Headline</th>\n",
       "      <th>Body ID</th>\n",
       "      <th>Stance</th>\n",
       "      <th>articleBody</th>\n",
       "    </tr>\n",
       "  </thead>\n",
       "  <tbody>\n",
       "    <tr>\n",
       "      <th>0</th>\n",
       "      <td>Ferguson riots: Pregnant woman loses eye after...</td>\n",
       "      <td>2008</td>\n",
       "      <td>unrelated</td>\n",
       "      <td>A RESPECTED senior French police officer inves...</td>\n",
       "    </tr>\n",
       "    <tr>\n",
       "      <th>1</th>\n",
       "      <td>Apple Stores to install safes to secure gold A...</td>\n",
       "      <td>2008</td>\n",
       "      <td>unrelated</td>\n",
       "      <td>A RESPECTED senior French police officer inves...</td>\n",
       "    </tr>\n",
       "    <tr>\n",
       "      <th>2</th>\n",
       "      <td>Pregnant woman loses eye after police shoot be...</td>\n",
       "      <td>2008</td>\n",
       "      <td>unrelated</td>\n",
       "      <td>A RESPECTED senior French police officer inves...</td>\n",
       "    </tr>\n",
       "    <tr>\n",
       "      <th>3</th>\n",
       "      <td>We just found out the #Ferguson Protester who ...</td>\n",
       "      <td>2008</td>\n",
       "      <td>unrelated</td>\n",
       "      <td>A RESPECTED senior French police officer inves...</td>\n",
       "    </tr>\n",
       "    <tr>\n",
       "      <th>4</th>\n",
       "      <td>Police Chief In Charge of Paris Attacks Commit...</td>\n",
       "      <td>2008</td>\n",
       "      <td>discuss</td>\n",
       "      <td>A RESPECTED senior French police officer inves...</td>\n",
       "    </tr>\n",
       "  </tbody>\n",
       "</table>\n",
       "</div>"
      ],
      "text/plain": [
       "                                            Headline  Body ID     Stance  \\\n",
       "0  Ferguson riots: Pregnant woman loses eye after...     2008  unrelated   \n",
       "1  Apple Stores to install safes to secure gold A...     2008  unrelated   \n",
       "2  Pregnant woman loses eye after police shoot be...     2008  unrelated   \n",
       "3  We just found out the #Ferguson Protester who ...     2008  unrelated   \n",
       "4  Police Chief In Charge of Paris Attacks Commit...     2008    discuss   \n",
       "\n",
       "                                         articleBody  \n",
       "0  A RESPECTED senior French police officer inves...  \n",
       "1  A RESPECTED senior French police officer inves...  \n",
       "2  A RESPECTED senior French police officer inves...  \n",
       "3  A RESPECTED senior French police officer inves...  \n",
       "4  A RESPECTED senior French police officer inves...  "
      ]
     },
     "execution_count": 10,
     "metadata": {},
     "output_type": "execute_result"
    }
   ],
   "source": [
    "print(test.shape)\n",
    "test.head()"
   ]
  },
  {
   "cell_type": "code",
   "execution_count": 11,
   "id": "e6754290",
   "metadata": {},
   "outputs": [],
   "source": [
    "# Spliting the data into X, Y\n",
    "def split(data):\n",
    "    X = data.drop(['Body ID','Stance'], axis=1)\n",
    "    Y = data['Stance']\n",
    "    return X,Y\n",
    "\n",
    "X_train, Y_train = split(train)\n",
    "X_val, Y_val = split(val)\n",
    "X_test, Y_test = split(test)"
   ]
  },
  {
   "cell_type": "code",
   "execution_count": 12,
   "id": "10730c86",
   "metadata": {},
   "outputs": [],
   "source": [
    "# cleaning texts\n",
    "def clean_text(text):\n",
    "    text = BeautifulSoup(text, \"lxml\").text\n",
    "    text = text.replace('\\n','')\n",
    "    text = text.translate(str.maketrans('', '', string.punctuation))\n",
    "    text = re.sub(r'\\|\\|\\|', r' ', text) \n",
    "    text = re.sub(r'http\\S+', r'<URL>', text)\n",
    "    text = text.lower()\n",
    "    text = text.replace('x', '')\n",
    "    text = remove_stopwords(text)\n",
    "    return text"
   ]
  },
  {
   "cell_type": "code",
   "execution_count": 13,
   "id": "e5eeb2db",
   "metadata": {},
   "outputs": [],
   "source": [
    "def clean_data(data):\n",
    "    data['Headline'] = [clean_text(i) for i in data['Headline']]\n",
    "    data['articleBody'] = [clean_text(i) for i in data['articleBody']]\n",
    "    return data\n",
    "\n",
    "X_train = clean_data(X_train)\n",
    "X_val = clean_data(X_val)\n",
    "X_test = clean_data(X_test)"
   ]
  },
  {
   "cell_type": "code",
   "execution_count": 14,
   "id": "a9b253dd",
   "metadata": {},
   "outputs": [
    {
     "data": {
      "text/html": [
       "<div>\n",
       "<style scoped>\n",
       "    .dataframe tbody tr th:only-of-type {\n",
       "        vertical-align: middle;\n",
       "    }\n",
       "\n",
       "    .dataframe tbody tr th {\n",
       "        vertical-align: top;\n",
       "    }\n",
       "\n",
       "    .dataframe thead th {\n",
       "        text-align: right;\n",
       "    }\n",
       "</style>\n",
       "<table border=\"1\" class=\"dataframe\">\n",
       "  <thead>\n",
       "    <tr style=\"text-align: right;\">\n",
       "      <th></th>\n",
       "      <th>Headline</th>\n",
       "      <th>articleBody</th>\n",
       "    </tr>\n",
       "  </thead>\n",
       "  <tbody>\n",
       "    <tr>\n",
       "      <th>36784</th>\n",
       "      <td>nigeria claims boko haram release kidnapped sc...</td>\n",
       "      <td>christian bale star late apple ceo steve jobs ...</td>\n",
       "    </tr>\n",
       "    <tr>\n",
       "      <th>33466</th>\n",
       "      <td>hairgate iphone 6 customers complaining phone ...</td>\n",
       "      <td>reports predator drones launched iraq reports ...</td>\n",
       "    </tr>\n",
       "    <tr>\n",
       "      <th>7713</th>\n",
       "      <td>isis claims airdrop weapons</td>\n",
       "      <td>multimillionaire religious guru gurmeet ram ra...</td>\n",
       "    </tr>\n",
       "    <tr>\n",
       "      <th>15539</th>\n",
       "      <td>video showing american journalist beheaded bel...</td>\n",
       "      <td>american photojournalist luke somers held host...</td>\n",
       "    </tr>\n",
       "    <tr>\n",
       "      <th>12770</th>\n",
       "      <td>isil allegedly kills journalist video</td>\n",
       "      <td>leaked video georgy myakinkins protest heavyha...</td>\n",
       "    </tr>\n",
       "  </tbody>\n",
       "</table>\n",
       "</div>"
      ],
      "text/plain": [
       "                                                Headline  \\\n",
       "36784  nigeria claims boko haram release kidnapped sc...   \n",
       "33466  hairgate iphone 6 customers complaining phone ...   \n",
       "7713                         isis claims airdrop weapons   \n",
       "15539  video showing american journalist beheaded bel...   \n",
       "12770              isil allegedly kills journalist video   \n",
       "\n",
       "                                             articleBody  \n",
       "36784  christian bale star late apple ceo steve jobs ...  \n",
       "33466  reports predator drones launched iraq reports ...  \n",
       "7713   multimillionaire religious guru gurmeet ram ra...  \n",
       "15539  american photojournalist luke somers held host...  \n",
       "12770  leaked video georgy myakinkins protest heavyha...  "
      ]
     },
     "execution_count": 14,
     "metadata": {},
     "output_type": "execute_result"
    }
   ],
   "source": [
    "X_train.head()"
   ]
  },
  {
   "cell_type": "markdown",
   "id": "fa4ad314",
   "metadata": {},
   "source": [
    "### Task 1 preparation"
   ]
  },
  {
   "cell_type": "code",
   "execution_count": 15,
   "id": "c2811ed2",
   "metadata": {
    "scrolled": true
   },
   "outputs": [
    {
     "data": {
      "text/plain": [
       "unrelated    29257\n",
       "discuss       7082\n",
       "agree         2965\n",
       "disagree       673\n",
       "Name: Stance, dtype: int64"
      ]
     },
     "execution_count": 15,
     "metadata": {},
     "output_type": "execute_result"
    },
    {
     "data": {
      "image/png": "[encoded data removed]",
      "text/plain": [
       "<Figure size 432x288 with 1 Axes>"
      ]
     },
     "metadata": {
      "needs_background": "light"
     },
     "output_type": "display_data"
    }
   ],
   "source": [
    "sn.countplot(data=train, x='Stance')\n",
    "train['Stance'].value_counts()"
   ]
  },
  {
   "cell_type": "code",
   "execution_count": 16,
   "id": "537eaa52",
   "metadata": {},
   "outputs": [],
   "source": [
    "# Replacing agree, disagree, and discuss with related\n",
    "def get_relation(y):\n",
    "    related = {'agree': 1,\n",
    "               'discuss': 1,\n",
    "               'disagree': 1,\n",
    "               'unrelated': 0}\n",
    "    y = y.replace(related)\n",
    "    return y\n",
    "\n",
    "Y_train = get_relation(Y_train)\n",
    "Y_val = get_relation(Y_val)\n",
    "Y_test = get_relation(Y_test)"
   ]
  },
  {
   "cell_type": "code",
   "execution_count": 17,
   "id": "d2bcb4f1",
   "metadata": {
    "scrolled": false
   },
   "outputs": [
    {
     "data": {
      "text/plain": [
       "0    29257\n",
       "1    10720\n",
       "Name: Stance, dtype: int64"
      ]
     },
     "execution_count": 17,
     "metadata": {},
     "output_type": "execute_result"
    },
    {
     "data": {
      "image/png": "[encoded data removed]",
      "text/plain": [
       "<Figure size 432x288 with 1 Axes>"
      ]
     },
     "metadata": {
      "needs_background": "light"
     },
     "output_type": "display_data"
    }
   ],
   "source": [
    "sn.countplot(x=Y_train)\n",
    "Y_train.value_counts()"
   ]
  },
  {
   "cell_type": "code",
   "execution_count": 18,
   "id": "805556f2",
   "metadata": {
    "scrolled": true
   },
   "outputs": [],
   "source": [
    "rus = RandomUnderSampler(sampling_strategy='not minority', random_state=seed)\n",
    "X_train, Y_train = rus.fit_resample(X_train, Y_train)\n",
    "temp_df = X_train\n",
    "temp_df['Stance'] = Y_train\n",
    "temp_df = temp_df.sample(frac=1, random_state=seed)\n",
    "X_train = temp_df.drop(['Stance'], axis=1)\n",
    "Y_train = temp_df['Stance']"
   ]
  },
  {
   "cell_type": "code",
   "execution_count": 19,
   "id": "604773e4",
   "metadata": {},
   "outputs": [
    {
     "data": {
      "text/plain": [
       "0    10720\n",
       "1    10720\n",
       "Name: Stance, dtype: int64"
      ]
     },
     "execution_count": 19,
     "metadata": {},
     "output_type": "execute_result"
    },
    {
     "data": {
      "image/png": "[encoded data removed]",
      "text/plain": [
       "<Figure size 432x288 with 1 Axes>"
      ]
     },
     "metadata": {
      "needs_background": "light"
     },
     "output_type": "display_data"
    }
   ],
   "source": [
    "sn.countplot(x=Y_train)\n",
    "Y_train.value_counts()"
   ]
  },
  {
   "cell_type": "markdown",
   "id": "8362db16",
   "metadata": {},
   "source": [
    "### TFIDF vecterisation"
   ]
  },
  {
   "cell_type": "code",
   "execution_count": 20,
   "id": "d6e31e7e",
   "metadata": {
    "scrolled": true
   },
   "outputs": [
    {
     "data": {
      "text/plain": [
       "TfidfVectorizer(decode_error='ignore', max_features=500, min_df=2)"
      ]
     },
     "execution_count": 20,
     "metadata": {},
     "output_type": "execute_result"
    }
   ],
   "source": [
    "# Training tfidf vectoriser\n",
    "tfidf_vec = pd.concat([X_test['articleBody'], X_train['articleBody']])\n",
    "tfidf = TfidfVectorizer(decode_error='ignore', lowercase = True, min_df=2, max_features=500)\n",
    "tfidf.fit(tfidf_vec)"
   ]
  },
  {
   "cell_type": "code",
   "execution_count": 21,
   "id": "d24eaa32",
   "metadata": {
    "scrolled": true
   },
   "outputs": [
    {
     "name": "stdout",
     "output_type": "stream",
     "text": [
      "['sotloff' 'lot' 'security' 'syria' 'star' 'image' 'strike' 'million'\n",
      " 'film' 'information' 'bear' 'leaders' 'iraqi' 'audio' 'national' 'saw'\n",
      " 'department' 'said' 'account' 'you' 'hostage' 'added' 'threatened'\n",
      " 'sotloff' 'authorities' 'local' 'claimed' 'epected' 'beheading' 'penis'\n",
      " 'bear' 'plans' 'died' 'appeared' 'life' 'it' 'come' 'continue' 'the'\n",
      " 'journalist' 'path' 'earlier' 'security' 'taken' 'killing' 'youtube'\n",
      " 'photo' 'going' 'website' 'social']\n"
     ]
    },
    {
     "name": "stderr",
     "output_type": "stream",
     "text": [
      "C:\\Users\\Ice\\anaconda3\\lib\\site-packages\\sklearn\\utils\\deprecation.py:87: FutureWarning: Function get_feature_names is deprecated; get_feature_names is deprecated in 1.0 and will be removed in 1.2. Please use get_feature_names_out instead.\n",
      "  warnings.warn(msg, category=FutureWarning)\n"
     ]
    }
   ],
   "source": [
    "dictionary = np.asarray(tfidf.get_feature_names())\n",
    "print(dictionary[np.random.randint(0,len(dictionary),size=50)])"
   ]
  },
  {
   "cell_type": "code",
   "execution_count": 22,
   "id": "51b9caba",
   "metadata": {},
   "outputs": [],
   "source": [
    "def stack_tfidf(X):\n",
    "    header_tfidf = tfidf.transform(X['Headline'].values.astype('U'))\n",
    "    body_tfidf = tfidf.transform(X['articleBody'].values.astype('U'))\n",
    "    stacked_tfidf = hstack([header_tfidf, body_tfidf])\n",
    "    return stacked_tfidf\n",
    "\n",
    "X_train = stack_tfidf(X_train)\n",
    "X_val = stack_tfidf(X_val)\n",
    "X_test = stack_tfidf(X_test)"
   ]
  },
  {
   "cell_type": "code",
   "execution_count": 23,
   "id": "53e7142f",
   "metadata": {},
   "outputs": [
    {
     "name": "stdout",
     "output_type": "stream",
     "text": [
      "tfidf_size: (25413, 1000)\n"
     ]
    }
   ],
   "source": [
    "tfidf_size = X_test.shape\n",
    "print('tfidf_size:', tfidf_size)"
   ]
  },
  {
   "cell_type": "markdown",
   "id": "86bdb98d",
   "metadata": {},
   "source": [
    "### preparting the scoring model"
   ]
  },
  {
   "cell_type": "code",
   "execution_count": 24,
   "id": "c517e4a0",
   "metadata": {},
   "outputs": [],
   "source": [
    "# Creating the confussion matrix\n",
    "def plot_confussion_matrix(y_test, y_pred):\n",
    "    cm = confusion_matrix(y_test, y_pred)\n",
    "    df_cm = pd.DataFrame(cm, range(cm.shape[0]),\n",
    "                  range(cm.shape[1]))\n",
    "    sn.set(font_scale=1.4)\n",
    "    sn.heatmap(df_cm, annot=True,fmt='.0f',cmap=\"YlGnBu\",annot_kws={\"size\": 10})# font size\n",
    "    plt.show()"
   ]
  },
  {
   "cell_type": "code",
   "execution_count": 25,
   "id": "568ff471",
   "metadata": {},
   "outputs": [],
   "source": [
    "# Creating the ROC Curve\n",
    "def plot_roc_curve(y_test, y_pred):\n",
    "    fpr, tpr, thresholds = roc_curve(y_test, y_pred, pos_label=1)\n",
    "    roc_auc= auc(fpr,tpr)\n",
    "    plt.figure(figsize=(12, 12))\n",
    "    ax = plt.subplot(121)\n",
    "    ax.set_aspect(1)\n",
    "    \n",
    "    plt.title('Receiver Operating Characteristic')\n",
    "    plt.plot(fpr, tpr, 'b', label = 'AUC = %0.2f' % roc_auc)\n",
    "    plt.legend(loc = 'lower right')\n",
    "    plt.plot([0, 1], [0, 1],'r--')\n",
    "    plt.xlim([0, 1])\n",
    "    plt.ylim([0, 1])\n",
    "    plt.ylabel('True Positive Rate')\n",
    "    plt.xlabel('False Positive Rate')\n",
    "    plt.show()"
   ]
  },
  {
   "cell_type": "markdown",
   "id": "d9c45767",
   "metadata": {},
   "source": [
    "### a.1.1: TDIF-SVM"
   ]
  },
  {
   "cell_type": "code",
   "execution_count": 26,
   "id": "bb6b3ce7",
   "metadata": {},
   "outputs": [
    {
     "data": {
      "text/plain": [
       "GridSearchCV(cv=3, estimator=SVC(), n_jobs=-1,\n",
       "             param_grid={'C': [1.0, 10], 'gamma': [1, 'auto']})"
      ]
     },
     "execution_count": 26,
     "metadata": {},
     "output_type": "execute_result"
    }
   ],
   "source": [
    "# Building the SVM model\n",
    "parameters = { \n",
    "    'C': [1.0, 10],\n",
    "    'gamma': [1, 'auto']}\n",
    "model = GridSearchCV(SVC(kernel='rbf'), parameters, cv=3, n_jobs=-1)\n",
    "model.fit(X_train, Y_train)"
   ]
  },
  {
   "cell_type": "code",
   "execution_count": 27,
   "id": "1430e3c6",
   "metadata": {},
   "outputs": [
    {
     "data": {
      "text/plain": [
       "{'C': 10, 'gamma': 1}"
      ]
     },
     "execution_count": 27,
     "metadata": {},
     "output_type": "execute_result"
    }
   ],
   "source": [
    "model.best_params_"
   ]
  },
  {
   "cell_type": "code",
   "execution_count": 28,
   "id": "c3927bdc",
   "metadata": {},
   "outputs": [],
   "source": [
    "model = model.best_estimator_"
   ]
  },
  {
   "cell_type": "code",
   "execution_count": 29,
   "id": "7cbf5ce6",
   "metadata": {},
   "outputs": [
    {
     "name": "stdout",
     "output_type": "stream",
     "text": [
      "              precision    recall  f1-score   support\n",
      "\n",
      "           0       0.77      0.95      0.85     18349\n",
      "           1       0.69      0.28      0.39      7064\n",
      "\n",
      "    accuracy                           0.76     25413\n",
      "   macro avg       0.73      0.61      0.62     25413\n",
      "weighted avg       0.75      0.76      0.73     25413\n",
      "\n"
     ]
    },
    {
     "data": {
      "image/png": "[encoded data removed]",
      "text/plain": [
       "<Figure size 432x288 with 2 Axes>"
      ]
     },
     "metadata": {},
     "output_type": "display_data"
    },
    {
     "data": {
      "image/png": "[encoded data removed]",
      "text/plain": [
       "<Figure size 864x864 with 1 Axes>"
      ]
     },
     "metadata": {},
     "output_type": "display_data"
    }
   ],
   "source": [
    "#Predicting the test data\n",
    "Y_svm = model.predict(X_test)\n",
    "print(metrics.classification_report(Y_test, Y_svm))\n",
    "plot_confussion_matrix(Y_test, Y_svm)\n",
    "plot_roc_curve(Y_test, Y_svm)"
   ]
  },
  {
   "cell_type": "markdown",
   "id": "169a1882",
   "metadata": {},
   "source": [
    "### a.2.1: TFIDF-LSTM"
   ]
  },
  {
   "cell_type": "code",
   "execution_count": 30,
   "id": "e5d33d6d",
   "metadata": {},
   "outputs": [],
   "source": [
    "def prepare_lstm(X, Y):\n",
    "    X = X.toarray()\n",
    "    X = X[:, None, :]\n",
    "    Y = np.array(Y)\n",
    "    return X, Y\n",
    "\n",
    "X_train, Y_train = prepare_lstm(X_train, Y_train)\n",
    "X_val, Y_val = prepare_lstm(X_val, Y_val)\n",
    "X_test, Y_test = prepare_lstm(X_test, Y_test)"
   ]
  },
  {
   "cell_type": "code",
   "execution_count": 31,
   "id": "c2b4bf99",
   "metadata": {},
   "outputs": [
    {
     "data": {
      "text/plain": [
       "(21440, 1, 1000)"
      ]
     },
     "execution_count": 31,
     "metadata": {},
     "output_type": "execute_result"
    }
   ],
   "source": [
    "X_train.shape"
   ]
  },
  {
   "cell_type": "code",
   "execution_count": 32,
   "id": "d80565a7",
   "metadata": {},
   "outputs": [
    {
     "data": {
      "text/plain": [
       "(21440,)"
      ]
     },
     "execution_count": 32,
     "metadata": {},
     "output_type": "execute_result"
    }
   ],
   "source": [
    "Y_train.shape"
   ]
  },
  {
   "cell_type": "code",
   "execution_count": 33,
   "id": "2287fc19",
   "metadata": {},
   "outputs": [
    {
     "name": "stdout",
     "output_type": "stream",
     "text": [
      "Epoch 1/5\n",
      "670/670 [==============================] - 22s 33ms/step - loss: 0.6145 - accuracy: 0.6538 - val_loss: 0.4944 - val_accuracy: 0.7580\n",
      "Epoch 2/5\n",
      "670/670 [==============================] - 22s 32ms/step - loss: 0.3900 - accuracy: 0.8169 - val_loss: 0.2854 - val_accuracy: 0.8717\n",
      "Epoch 3/5\n",
      "670/670 [==============================] - 22s 32ms/step - loss: 0.2358 - accuracy: 0.8988 - val_loss: 0.2143 - val_accuracy: 0.9083\n",
      "Epoch 4/5\n",
      "670/670 [==============================] - 22s 32ms/step - loss: 0.1659 - accuracy: 0.9345 - val_loss: 0.1726 - val_accuracy: 0.9318\n",
      "Epoch 5/5\n",
      "670/670 [==============================] - 22s 32ms/step - loss: 0.1240 - accuracy: 0.9530 - val_loss: 0.1474 - val_accuracy: 0.9410\n"
     ]
    },
    {
     "data": {
      "image/png": "[encoded data removed]",
      "text/plain": [
       "<Figure size 576x360 with 1 Axes>"
      ]
     },
     "metadata": {},
     "output_type": "display_data"
    }
   ],
   "source": [
    "keras.backend.clear_session()\n",
    "np.random.seed(seed)\n",
    "tf.random.set_seed(seed)\n",
    "\n",
    "model2 = keras.models.Sequential()\n",
    "model2.add(keras.layers.LSTM(1000,\n",
    "                            input_shape=(None, 1000),\n",
    "                            return_sequences=True))\n",
    "model2.add(keras.layers.Dropout(0.2))\n",
    "#model2.add(keras.layers.LSTM(1000))\n",
    "#model2.add(keras.layers.Dropout(0.2))\n",
    "model2.add(keras.layers.Dense(1, activation='sigmoid'))\n",
    "model2.compile(\n",
    "    loss='binary_crossentropy', \n",
    "    optimizer='adam', \n",
    "    metrics = ['accuracy'])\n",
    "history = model2.fit(X_train, Y_train, \n",
    "                    validation_data=(X_val, Y_val),\n",
    "                    epochs=5, batch_size=32, verbose=1)\n",
    "pd.DataFrame(history.history).plot(figsize=(8, 5))\n",
    "plt.grid(True)"
   ]
  },
  {
   "cell_type": "code",
   "execution_count": 34,
   "id": "e37da159",
   "metadata": {},
   "outputs": [
    {
     "name": "stdout",
     "output_type": "stream",
     "text": [
      "WARNING:tensorflow:From <ipython-input-34-54d0afb43a2a>:1: Sequential.predict_classes (from tensorflow.python.keras.engine.sequential) is deprecated and will be removed after 2021-01-01.\n",
      "Instructions for updating:\n",
      "Please use instead:* `np.argmax(model.predict(x), axis=-1)`,   if your model does multi-class classification   (e.g. if it uses a `softmax` last-layer activation).* `(model.predict(x) > 0.5).astype(\"int32\")`,   if your model does binary classification   (e.g. if it uses a `sigmoid` last-layer activation).\n"
     ]
    }
   ],
   "source": [
    "Y_lstm = model2.predict_classes(X_test)"
   ]
  },
  {
   "cell_type": "code",
   "execution_count": 35,
   "id": "797cee8b",
   "metadata": {},
   "outputs": [
    {
     "name": "stdout",
     "output_type": "stream",
     "text": [
      "              precision    recall  f1-score   support\n",
      "\n",
      "           0      0.854     0.588     0.697     18349\n",
      "           1      0.408     0.738     0.526      7064\n",
      "\n",
      "    accuracy                          0.630     25413\n",
      "   macro avg      0.631     0.663     0.611     25413\n",
      "weighted avg      0.730     0.630     0.649     25413\n",
      "\n"
     ]
    },
    {
     "data": {
      "image/png": "[encoded data removed]",
      "text/plain": [
       "<Figure size 432x288 with 2 Axes>"
      ]
     },
     "metadata": {},
     "output_type": "display_data"
    },
    {
     "data": {
      "image/png": "[encoded data removed]",
      "text/plain": [
       "<Figure size 864x864 with 1 Axes>"
      ]
     },
     "metadata": {},
     "output_type": "display_data"
    }
   ],
   "source": [
    "print(metrics.classification_report(Y_test, Y_lstm.reshape(len(Y_lstm)), digits=3))\n",
    "plot_confussion_matrix(Y_test, Y_lstm.reshape(len(Y_lstm)))\n",
    "plot_roc_curve(Y_test, Y_lstm.reshape(len(Y_lstm)))"
   ]
  },
  {
   "cell_type": "markdown",
   "id": "fc460045",
   "metadata": {},
   "source": [
    "### a.1.2: Bert-SVM"
   ]
  },
  {
   "cell_type": "code",
   "execution_count": null,
   "id": "30da8483",
   "metadata": {},
   "outputs": [],
   "source": []
  }
 ],
 "metadata": {
  "kernelspec": {
   "display_name": "Python 3",
   "language": "python",
   "name": "python3"
  },
  "language_info": {
   "codemirror_mode": {
    "name": "ipython",
    "version": 3
   },
   "file_extension": ".py",
   "mimetype": "text/x-python",
   "name": "python",
   "nbconvert_exporter": "python",
   "pygments_lexer": "ipython3",
   "version": "3.8.8"
  }
 },
 "nbformat": 4,
 "nbformat_minor": 5
}
