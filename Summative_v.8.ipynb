{
 "cells": [
  {
   "cell_type": "markdown",
   "id": "75463ead",
   "metadata": {},
   "source": [
    "# COMP42115: Natural Language Analysis\n",
    "## Sumative Assesment: Sentiment Analysis Model"
   ]
  },
  {
   "cell_type": "code",
   "execution_count": 160,
   "id": "97a6f823",
   "metadata": {},
   "outputs": [],
   "source": [
    "# importing the nescessary libraies\n",
    "import pandas as pd\n",
    "import numpy as np\n",
    "import os\n",
    "import matplotlib.pyplot as plt\n",
    "import seaborn as sn\n",
    "\n",
    "\n",
    "%matplotlib inline\n",
    "\n",
    "from bs4 import BeautifulSoup\n",
    "import re\n",
    "import string\n",
    "from gensim.parsing.preprocessing import remove_stopwords\n",
    "\n",
    "from sklearn.feature_extraction.text import CountVectorizer\n",
    "from sklearn.feature_extraction.text import TfidfVectorizer, CountVectorizer\n",
    "from sklearn.model_selection import train_test_split\n",
    "\n",
    "from sklearn import metrics\n",
    "from sklearn.metrics import confusion_matrix,accuracy_score,roc_auc_score,roc_curve,auc,f1_score\n",
    "\n",
    "from imblearn.under_sampling import RandomUnderSampler\n",
    "from scipy.sparse import hstack\n",
    "\n",
    "from sklearn.svm import SVC\n",
    "from sklearn.model_selection import GridSearchCV\n",
    "\n",
    "import tensorflow as tf\n",
    "from tensorflow import keras\n",
    "from scipy.sparse import csr_matrix\n",
    "import torch"
   ]
  },
  {
   "cell_type": "markdown",
   "id": "1de1b65b",
   "metadata": {},
   "source": [
    "### Data preprocessing"
   ]
  },
  {
   "cell_type": "code",
   "execution_count": 161,
   "id": "d62bb757",
   "metadata": {},
   "outputs": [],
   "source": [
    "# random seed\n",
    "seed = 555"
   ]
  },
  {
   "cell_type": "code",
   "execution_count": 162,
   "id": "4b15586e",
   "metadata": {},
   "outputs": [],
   "source": [
    "# loading the dataset\n",
    "body = pd.read_csv('data/train_bodies.csv')\n",
    "stance = pd.read_csv('data/train_stances.csv')"
   ]
  },
  {
   "cell_type": "code",
   "execution_count": 163,
   "id": "c72e710d",
   "metadata": {
    "scrolled": true
   },
   "outputs": [
    {
     "name": "stdout",
     "output_type": "stream",
     "text": [
      "(49972, 3)\n"
     ]
    },
    {
     "data": {
      "text/html": [
       "<div>\n",
       "<style scoped>\n",
       "    .dataframe tbody tr th:only-of-type {\n",
       "        vertical-align: middle;\n",
       "    }\n",
       "\n",
       "    .dataframe tbody tr th {\n",
       "        vertical-align: top;\n",
       "    }\n",
       "\n",
       "    .dataframe thead th {\n",
       "        text-align: right;\n",
       "    }\n",
       "</style>\n",
       "<table border=\"1\" class=\"dataframe\">\n",
       "  <thead>\n",
       "    <tr style=\"text-align: right;\">\n",
       "      <th></th>\n",
       "      <th>Headline</th>\n",
       "      <th>Body ID</th>\n",
       "      <th>Stance</th>\n",
       "    </tr>\n",
       "  </thead>\n",
       "  <tbody>\n",
       "    <tr>\n",
       "      <th>0</th>\n",
       "      <td>Police find mass graves with at least '15 bodi...</td>\n",
       "      <td>712</td>\n",
       "      <td>unrelated</td>\n",
       "    </tr>\n",
       "    <tr>\n",
       "      <th>1</th>\n",
       "      <td>Hundreds of Palestinians flee floods in Gaza a...</td>\n",
       "      <td>158</td>\n",
       "      <td>agree</td>\n",
       "    </tr>\n",
       "    <tr>\n",
       "      <th>2</th>\n",
       "      <td>Christian Bale passes on role of Steve Jobs, a...</td>\n",
       "      <td>137</td>\n",
       "      <td>unrelated</td>\n",
       "    </tr>\n",
       "    <tr>\n",
       "      <th>3</th>\n",
       "      <td>HBO and Apple in Talks for $15/Month Apple TV ...</td>\n",
       "      <td>1034</td>\n",
       "      <td>unrelated</td>\n",
       "    </tr>\n",
       "    <tr>\n",
       "      <th>4</th>\n",
       "      <td>Spider burrowed through tourist's stomach and ...</td>\n",
       "      <td>1923</td>\n",
       "      <td>disagree</td>\n",
       "    </tr>\n",
       "  </tbody>\n",
       "</table>\n",
       "</div>"
      ],
      "text/plain": [
       "                                            Headline  Body ID     Stance\n",
       "0  Police find mass graves with at least '15 bodi...      712  unrelated\n",
       "1  Hundreds of Palestinians flee floods in Gaza a...      158      agree\n",
       "2  Christian Bale passes on role of Steve Jobs, a...      137  unrelated\n",
       "3  HBO and Apple in Talks for $15/Month Apple TV ...     1034  unrelated\n",
       "4  Spider burrowed through tourist's stomach and ...     1923   disagree"
      ]
     },
     "execution_count": 163,
     "metadata": {},
     "output_type": "execute_result"
    }
   ],
   "source": [
    "print(stance.shape)\n",
    "stance.head()"
   ]
  },
  {
   "cell_type": "code",
   "execution_count": 164,
   "id": "563f7979",
   "metadata": {},
   "outputs": [
    {
     "name": "stdout",
     "output_type": "stream",
     "text": [
      "(1683, 2)\n"
     ]
    },
    {
     "data": {
      "text/html": [
       "<div>\n",
       "<style scoped>\n",
       "    .dataframe tbody tr th:only-of-type {\n",
       "        vertical-align: middle;\n",
       "    }\n",
       "\n",
       "    .dataframe tbody tr th {\n",
       "        vertical-align: top;\n",
       "    }\n",
       "\n",
       "    .dataframe thead th {\n",
       "        text-align: right;\n",
       "    }\n",
       "</style>\n",
       "<table border=\"1\" class=\"dataframe\">\n",
       "  <thead>\n",
       "    <tr style=\"text-align: right;\">\n",
       "      <th></th>\n",
       "      <th>Body ID</th>\n",
       "      <th>articleBody</th>\n",
       "    </tr>\n",
       "  </thead>\n",
       "  <tbody>\n",
       "    <tr>\n",
       "      <th>0</th>\n",
       "      <td>0</td>\n",
       "      <td>A small meteorite crashed into a wooded area i...</td>\n",
       "    </tr>\n",
       "    <tr>\n",
       "      <th>1</th>\n",
       "      <td>4</td>\n",
       "      <td>Last week we hinted at what was to come as Ebo...</td>\n",
       "    </tr>\n",
       "    <tr>\n",
       "      <th>2</th>\n",
       "      <td>5</td>\n",
       "      <td>(NEWSER) – Wonder how long a Quarter Pounder w...</td>\n",
       "    </tr>\n",
       "    <tr>\n",
       "      <th>3</th>\n",
       "      <td>6</td>\n",
       "      <td>Posting photos of a gun-toting child online, I...</td>\n",
       "    </tr>\n",
       "    <tr>\n",
       "      <th>4</th>\n",
       "      <td>7</td>\n",
       "      <td>At least 25 suspected Boko Haram insurgents we...</td>\n",
       "    </tr>\n",
       "  </tbody>\n",
       "</table>\n",
       "</div>"
      ],
      "text/plain": [
       "   Body ID                                        articleBody\n",
       "0        0  A small meteorite crashed into a wooded area i...\n",
       "1        4  Last week we hinted at what was to come as Ebo...\n",
       "2        5  (NEWSER) – Wonder how long a Quarter Pounder w...\n",
       "3        6  Posting photos of a gun-toting child online, I...\n",
       "4        7  At least 25 suspected Boko Haram insurgents we..."
      ]
     },
     "execution_count": 164,
     "metadata": {},
     "output_type": "execute_result"
    }
   ],
   "source": [
    "print(body.shape)\n",
    "body.head()"
   ]
  },
  {
   "cell_type": "code",
   "execution_count": 165,
   "id": "25194186",
   "metadata": {
    "scrolled": true
   },
   "outputs": [],
   "source": [
    "# merging the dataset\n",
    "def merge_stance_body(stance, body):\n",
    "    merged_data = pd.merge(stance, body, on='Body ID')\n",
    "    return merged_data\n",
    "\n",
    "df = merge_stance_body(stance, body)"
   ]
  },
  {
   "cell_type": "code",
   "execution_count": 166,
   "id": "73b71d82",
   "metadata": {},
   "outputs": [],
   "source": [
    "# spliting the data into train, test and validation\n",
    "train, test = train_test_split(df, test_size=0.30, random_state=seed)\n",
    "train, val = train_test_split(train, test_size=0.20, random_state=seed)"
   ]
  },
  {
   "cell_type": "code",
   "execution_count": 167,
   "id": "bfd27ff1",
   "metadata": {
    "scrolled": false
   },
   "outputs": [
    {
     "name": "stdout",
     "output_type": "stream",
     "text": [
      "(27984, 4)\n"
     ]
    },
    {
     "data": {
      "text/html": [
       "<div>\n",
       "<style scoped>\n",
       "    .dataframe tbody tr th:only-of-type {\n",
       "        vertical-align: middle;\n",
       "    }\n",
       "\n",
       "    .dataframe tbody tr th {\n",
       "        vertical-align: top;\n",
       "    }\n",
       "\n",
       "    .dataframe thead th {\n",
       "        text-align: right;\n",
       "    }\n",
       "</style>\n",
       "<table border=\"1\" class=\"dataframe\">\n",
       "  <thead>\n",
       "    <tr style=\"text-align: right;\">\n",
       "      <th></th>\n",
       "      <th>Headline</th>\n",
       "      <th>Body ID</th>\n",
       "      <th>Stance</th>\n",
       "      <th>articleBody</th>\n",
       "    </tr>\n",
       "  </thead>\n",
       "  <tbody>\n",
       "    <tr>\n",
       "      <th>23952</th>\n",
       "      <td>Media outlets identify 'Jihadi John'</td>\n",
       "      <td>1346</td>\n",
       "      <td>discuss</td>\n",
       "      <td>THE ISLAMIC State murderer dubbed 'Jihadi John...</td>\n",
       "    </tr>\n",
       "    <tr>\n",
       "      <th>34151</th>\n",
       "      <td>Rats at Vogue's NYC offices - watch your step,...</td>\n",
       "      <td>2498</td>\n",
       "      <td>agree</td>\n",
       "      <td>In case you missed it, Vogue Magazine, one of ...</td>\n",
       "    </tr>\n",
       "    <tr>\n",
       "      <th>33468</th>\n",
       "      <td>US drones hunt Isis leader in Syria</td>\n",
       "      <td>2443</td>\n",
       "      <td>discuss</td>\n",
       "      <td>There have been reports of predator drones bei...</td>\n",
       "    </tr>\n",
       "    <tr>\n",
       "      <th>43150</th>\n",
       "      <td>Apple Watch Gold Edition may cost as much as $...</td>\n",
       "      <td>2471</td>\n",
       "      <td>unrelated</td>\n",
       "      <td>Gill Rosenberg is reported to have been captur...</td>\n",
       "    </tr>\n",
       "    <tr>\n",
       "      <th>36227</th>\n",
       "      <td>HBO and Apple in Talks for $15/Month Apple TV ...</td>\n",
       "      <td>516</td>\n",
       "      <td>unrelated</td>\n",
       "      <td>A married Russian TV star woke up one day to d...</td>\n",
       "    </tr>\n",
       "  </tbody>\n",
       "</table>\n",
       "</div>"
      ],
      "text/plain": [
       "                                                Headline  Body ID     Stance  \\\n",
       "23952               Media outlets identify 'Jihadi John'     1346    discuss   \n",
       "34151  Rats at Vogue's NYC offices - watch your step,...     2498      agree   \n",
       "33468                US drones hunt Isis leader in Syria     2443    discuss   \n",
       "43150  Apple Watch Gold Edition may cost as much as $...     2471  unrelated   \n",
       "36227  HBO and Apple in Talks for $15/Month Apple TV ...      516  unrelated   \n",
       "\n",
       "                                             articleBody  \n",
       "23952  THE ISLAMIC State murderer dubbed 'Jihadi John...  \n",
       "34151  In case you missed it, Vogue Magazine, one of ...  \n",
       "33468  There have been reports of predator drones bei...  \n",
       "43150  Gill Rosenberg is reported to have been captur...  \n",
       "36227  A married Russian TV star woke up one day to d...  "
      ]
     },
     "execution_count": 167,
     "metadata": {},
     "output_type": "execute_result"
    }
   ],
   "source": [
    "print(train.shape)\n",
    "train.head()"
   ]
  },
  {
   "cell_type": "code",
   "execution_count": 168,
   "id": "90aee1cd",
   "metadata": {},
   "outputs": [
    {
     "name": "stdout",
     "output_type": "stream",
     "text": [
      "(6996, 4)\n"
     ]
    },
    {
     "data": {
      "text/html": [
       "<div>\n",
       "<style scoped>\n",
       "    .dataframe tbody tr th:only-of-type {\n",
       "        vertical-align: middle;\n",
       "    }\n",
       "\n",
       "    .dataframe tbody tr th {\n",
       "        vertical-align: top;\n",
       "    }\n",
       "\n",
       "    .dataframe thead th {\n",
       "        text-align: right;\n",
       "    }\n",
       "</style>\n",
       "<table border=\"1\" class=\"dataframe\">\n",
       "  <thead>\n",
       "    <tr style=\"text-align: right;\">\n",
       "      <th></th>\n",
       "      <th>Headline</th>\n",
       "      <th>Body ID</th>\n",
       "      <th>Stance</th>\n",
       "      <th>articleBody</th>\n",
       "    </tr>\n",
       "  </thead>\n",
       "  <tbody>\n",
       "    <tr>\n",
       "      <th>16486</th>\n",
       "      <td>US officials: Video shows American's execution</td>\n",
       "      <td>298</td>\n",
       "      <td>unrelated</td>\n",
       "      <td>Although Canadian police have not released the...</td>\n",
       "    </tr>\n",
       "    <tr>\n",
       "      <th>33030</th>\n",
       "      <td>Isilkulskom student has gained superhero power...</td>\n",
       "      <td>1503</td>\n",
       "      <td>unrelated</td>\n",
       "      <td>The internet is buzzing this morning with news...</td>\n",
       "    </tr>\n",
       "    <tr>\n",
       "      <th>18150</th>\n",
       "      <td>Iraqi social-media rumors claim IS leader slain</td>\n",
       "      <td>1631</td>\n",
       "      <td>unrelated</td>\n",
       "      <td>This is Sergeant-at-Arms Kevin Vickers who rep...</td>\n",
       "    </tr>\n",
       "    <tr>\n",
       "      <th>24707</th>\n",
       "      <td>Report: Israeli-Canadian woman fighting Islami...</td>\n",
       "      <td>2002</td>\n",
       "      <td>unrelated</td>\n",
       "      <td>BAGHDAD — Three hundred Iraqi soldiers died in...</td>\n",
       "    </tr>\n",
       "    <tr>\n",
       "      <th>2712</th>\n",
       "      <td>Pope Francis turns out not to have made pets i...</td>\n",
       "      <td>1905</td>\n",
       "      <td>disagree</td>\n",
       "      <td>NEW YORK — Pope Francis has given hope to gays...</td>\n",
       "    </tr>\n",
       "  </tbody>\n",
       "</table>\n",
       "</div>"
      ],
      "text/plain": [
       "                                                Headline  Body ID     Stance  \\\n",
       "16486     US officials: Video shows American's execution      298  unrelated   \n",
       "33030  Isilkulskom student has gained superhero power...     1503  unrelated   \n",
       "18150    Iraqi social-media rumors claim IS leader slain     1631  unrelated   \n",
       "24707  Report: Israeli-Canadian woman fighting Islami...     2002  unrelated   \n",
       "2712   Pope Francis turns out not to have made pets i...     1905   disagree   \n",
       "\n",
       "                                             articleBody  \n",
       "16486  Although Canadian police have not released the...  \n",
       "33030  The internet is buzzing this morning with news...  \n",
       "18150  This is Sergeant-at-Arms Kevin Vickers who rep...  \n",
       "24707  BAGHDAD — Three hundred Iraqi soldiers died in...  \n",
       "2712   NEW YORK — Pope Francis has given hope to gays...  "
      ]
     },
     "execution_count": 168,
     "metadata": {},
     "output_type": "execute_result"
    }
   ],
   "source": [
    "print(val.shape)\n",
    "val.head()"
   ]
  },
  {
   "cell_type": "code",
   "execution_count": 169,
   "id": "51bcfa0e",
   "metadata": {
    "scrolled": true
   },
   "outputs": [
    {
     "name": "stdout",
     "output_type": "stream",
     "text": [
      "(14992, 4)\n"
     ]
    },
    {
     "data": {
      "text/html": [
       "<div>\n",
       "<style scoped>\n",
       "    .dataframe tbody tr th:only-of-type {\n",
       "        vertical-align: middle;\n",
       "    }\n",
       "\n",
       "    .dataframe tbody tr th {\n",
       "        vertical-align: top;\n",
       "    }\n",
       "\n",
       "    .dataframe thead th {\n",
       "        text-align: right;\n",
       "    }\n",
       "</style>\n",
       "<table border=\"1\" class=\"dataframe\">\n",
       "  <thead>\n",
       "    <tr style=\"text-align: right;\">\n",
       "      <th></th>\n",
       "      <th>Headline</th>\n",
       "      <th>Body ID</th>\n",
       "      <th>Stance</th>\n",
       "      <th>articleBody</th>\n",
       "    </tr>\n",
       "  </thead>\n",
       "  <tbody>\n",
       "    <tr>\n",
       "      <th>38740</th>\n",
       "      <td>Militant Group Says It Killed American Journal...</td>\n",
       "      <td>2261</td>\n",
       "      <td>unrelated</td>\n",
       "      <td>From the midweek edition of the Morning Jolt:\\...</td>\n",
       "    </tr>\n",
       "    <tr>\n",
       "      <th>13806</th>\n",
       "      <td>Michael Zehaf-Bibeau, slain Ottawa shooter, ha...</td>\n",
       "      <td>186</td>\n",
       "      <td>unrelated</td>\n",
       "      <td>The sound of 10 or 11 shots from the gun of Fe...</td>\n",
       "    </tr>\n",
       "    <tr>\n",
       "      <th>7047</th>\n",
       "      <td>REPORT: Alleged New Audio of Michael Brown Sho...</td>\n",
       "      <td>345</td>\n",
       "      <td>unrelated</td>\n",
       "      <td>UTAH COUNTY — Over the years, holiday office C...</td>\n",
       "    </tr>\n",
       "    <tr>\n",
       "      <th>14746</th>\n",
       "      <td>Kim Jong-un Broke Both Ankles and Is Hospitali...</td>\n",
       "      <td>859</td>\n",
       "      <td>discuss</td>\n",
       "      <td>Kim Jong-Un had ankle surgery and is now recov...</td>\n",
       "    </tr>\n",
       "    <tr>\n",
       "      <th>49782</th>\n",
       "      <td>Report: Amazon to Launch Ad-Supported Streamin...</td>\n",
       "      <td>2442</td>\n",
       "      <td>unrelated</td>\n",
       "      <td>Google leased all 1.9 million square feet of M...</td>\n",
       "    </tr>\n",
       "  </tbody>\n",
       "</table>\n",
       "</div>"
      ],
      "text/plain": [
       "                                                Headline  Body ID     Stance  \\\n",
       "38740  Militant Group Says It Killed American Journal...     2261  unrelated   \n",
       "13806  Michael Zehaf-Bibeau, slain Ottawa shooter, ha...      186  unrelated   \n",
       "7047   REPORT: Alleged New Audio of Michael Brown Sho...      345  unrelated   \n",
       "14746  Kim Jong-un Broke Both Ankles and Is Hospitali...      859    discuss   \n",
       "49782  Report: Amazon to Launch Ad-Supported Streamin...     2442  unrelated   \n",
       "\n",
       "                                             articleBody  \n",
       "38740  From the midweek edition of the Morning Jolt:\\...  \n",
       "13806  The sound of 10 or 11 shots from the gun of Fe...  \n",
       "7047   UTAH COUNTY — Over the years, holiday office C...  \n",
       "14746  Kim Jong-Un had ankle surgery and is now recov...  \n",
       "49782  Google leased all 1.9 million square feet of M...  "
      ]
     },
     "execution_count": 169,
     "metadata": {},
     "output_type": "execute_result"
    }
   ],
   "source": [
    "print(test.shape)\n",
    "test.head()"
   ]
  },
  {
   "cell_type": "code",
   "execution_count": 170,
   "id": "e6754290",
   "metadata": {},
   "outputs": [],
   "source": [
    "# spliting the data into X, Y\n",
    "def split(data):\n",
    "    X = data.drop(['Body ID','Stance'], axis=1)\n",
    "    Y = data['Stance']\n",
    "    return X,Y\n",
    "\n",
    "X_train, Y_train = split(train)\n",
    "X_val, Y_val = split(val)\n",
    "X_test, Y_test = split(test)"
   ]
  },
  {
   "cell_type": "code",
   "execution_count": 171,
   "id": "10730c86",
   "metadata": {},
   "outputs": [],
   "source": [
    "# cleaning texts\n",
    "def clean_text(text):\n",
    "    text = BeautifulSoup(text, \"lxml\").text\n",
    "    text = text.replace('\\n','')\n",
    "    text = text.translate(str.maketrans('', '', string.punctuation))\n",
    "    text = re.sub(r'\\|\\|\\|', r' ', text) \n",
    "    text = re.sub(r'http\\S+', r'<URL>', text)\n",
    "    text = text.lower()\n",
    "    text = text.replace('x', '')\n",
    "    text = remove_stopwords(text)\n",
    "    return text"
   ]
  },
  {
   "cell_type": "code",
   "execution_count": 172,
   "id": "e5eeb2db",
   "metadata": {},
   "outputs": [],
   "source": [
    "def clean_data(data):\n",
    "    data['Headline'] = [clean_text(i) for i in data['Headline']]\n",
    "    data['articleBody'] = [clean_text(i) for i in data['articleBody']]\n",
    "    return data\n",
    "\n",
    "X_train = clean_data(X_train)\n",
    "X_val = clean_data(X_val)\n",
    "X_test = clean_data(X_test)"
   ]
  },
  {
   "cell_type": "code",
   "execution_count": 173,
   "id": "a9b253dd",
   "metadata": {},
   "outputs": [
    {
     "data": {
      "text/html": [
       "<div>\n",
       "<style scoped>\n",
       "    .dataframe tbody tr th:only-of-type {\n",
       "        vertical-align: middle;\n",
       "    }\n",
       "\n",
       "    .dataframe tbody tr th {\n",
       "        vertical-align: top;\n",
       "    }\n",
       "\n",
       "    .dataframe thead th {\n",
       "        text-align: right;\n",
       "    }\n",
       "</style>\n",
       "<table border=\"1\" class=\"dataframe\">\n",
       "  <thead>\n",
       "    <tr style=\"text-align: right;\">\n",
       "      <th></th>\n",
       "      <th>Headline</th>\n",
       "      <th>articleBody</th>\n",
       "    </tr>\n",
       "  </thead>\n",
       "  <tbody>\n",
       "    <tr>\n",
       "      <th>23952</th>\n",
       "      <td>media outlets identify jihadi john</td>\n",
       "      <td>islamic state murderer dubbed jihadi john name...</td>\n",
       "    </tr>\n",
       "    <tr>\n",
       "      <th>34151</th>\n",
       "      <td>rats vogues nyc offices watch step anna wintour</td>\n",
       "      <td>case missed vogue magazine glamorous instituti...</td>\n",
       "    </tr>\n",
       "    <tr>\n",
       "      <th>33468</th>\n",
       "      <td>drones hunt isis leader syria</td>\n",
       "      <td>reports predator drones launched iraq reports ...</td>\n",
       "    </tr>\n",
       "    <tr>\n",
       "      <th>43150</th>\n",
       "      <td>apple watch gold edition cost 5000</td>\n",
       "      <td>gill rosenberg reported captured women fightin...</td>\n",
       "    </tr>\n",
       "    <tr>\n",
       "      <th>36227</th>\n",
       "      <td>hbo apple talks 15month apple tv streaming ser...</td>\n",
       "      <td>married russian tv star woke day discover test...</td>\n",
       "    </tr>\n",
       "  </tbody>\n",
       "</table>\n",
       "</div>"
      ],
      "text/plain": [
       "                                                Headline  \\\n",
       "23952                 media outlets identify jihadi john   \n",
       "34151    rats vogues nyc offices watch step anna wintour   \n",
       "33468                      drones hunt isis leader syria   \n",
       "43150                 apple watch gold edition cost 5000   \n",
       "36227  hbo apple talks 15month apple tv streaming ser...   \n",
       "\n",
       "                                             articleBody  \n",
       "23952  islamic state murderer dubbed jihadi john name...  \n",
       "34151  case missed vogue magazine glamorous instituti...  \n",
       "33468  reports predator drones launched iraq reports ...  \n",
       "43150  gill rosenberg reported captured women fightin...  \n",
       "36227  married russian tv star woke day discover test...  "
      ]
     },
     "execution_count": 173,
     "metadata": {},
     "output_type": "execute_result"
    }
   ],
   "source": [
    "X_train.head()"
   ]
  },
  {
   "cell_type": "markdown",
   "id": "fa4ad314",
   "metadata": {},
   "source": [
    "### Task 1 preparation"
   ]
  },
  {
   "cell_type": "code",
   "execution_count": 174,
   "id": "c2811ed2",
   "metadata": {
    "scrolled": true
   },
   "outputs": [
    {
     "data": {
      "text/plain": [
       "unrelated    20460\n",
       "discuss       4993\n",
       "agree         2057\n",
       "disagree       474\n",
       "Name: Stance, dtype: int64"
      ]
     },
     "execution_count": 174,
     "metadata": {},
     "output_type": "execute_result"
    },
    {
     "data": {
      "image/png": "[encoded data removed]",
      "text/plain": [
       "<Figure size 432x288 with 1 Axes>"
      ]
     },
     "metadata": {
      "needs_background": "light"
     },
     "output_type": "display_data"
    }
   ],
   "source": [
    "# plotting out the classes\n",
    "sn.countplot(data=train, x='Stance')\n",
    "train['Stance'].value_counts()"
   ]
  },
  {
   "cell_type": "code",
   "execution_count": 175,
   "id": "537eaa52",
   "metadata": {},
   "outputs": [],
   "source": [
    "# replacing agree, disagree, and discuss with related\n",
    "def get_relation(y):\n",
    "    related = {'agree': 1,\n",
    "               'discuss': 1,\n",
    "               'disagree': 1,\n",
    "               'unrelated': 0}\n",
    "    y = y.replace(related)\n",
    "    return y\n",
    "\n",
    "Y_train = get_relation(Y_train)\n",
    "Y_val = get_relation(Y_val)\n",
    "Y_test = get_relation(Y_test)"
   ]
  },
  {
   "cell_type": "code",
   "execution_count": 176,
   "id": "d2bcb4f1",
   "metadata": {
    "scrolled": false
   },
   "outputs": [
    {
     "data": {
      "text/plain": [
       "0    20460\n",
       "1     7524\n",
       "Name: Stance, dtype: int64"
      ]
     },
     "execution_count": 176,
     "metadata": {},
     "output_type": "execute_result"
    },
    {
     "data": {
      "image/png": "[encoded data removed]",
      "text/plain": [
       "<Figure size 432x288 with 1 Axes>"
      ]
     },
     "metadata": {
      "needs_background": "light"
     },
     "output_type": "display_data"
    }
   ],
   "source": [
    "# plotting out the modified classes\n",
    "sn.countplot(x=Y_train)\n",
    "Y_train.value_counts()"
   ]
  },
  {
   "cell_type": "code",
   "execution_count": 177,
   "id": "805556f2",
   "metadata": {
    "scrolled": true
   },
   "outputs": [],
   "source": [
    "# using random under samplier to resample the dataset\n",
    "rus = RandomUnderSampler(sampling_strategy='not minority', random_state=seed)\n",
    "X_train, Y_train = rus.fit_resample(X_train, Y_train)\n",
    "temp_df = X_train\n",
    "temp_df['Stance'] = Y_train\n",
    "temp_df = temp_df.sample(frac=1, random_state=seed)\n",
    "X_train = temp_df.drop(['Stance'], axis=1)\n",
    "Y_train = temp_df['Stance']"
   ]
  },
  {
   "cell_type": "code",
   "execution_count": 178,
   "id": "604773e4",
   "metadata": {},
   "outputs": [
    {
     "data": {
      "text/plain": [
       "0    7524\n",
       "1    7524\n",
       "Name: Stance, dtype: int64"
      ]
     },
     "execution_count": 178,
     "metadata": {},
     "output_type": "execute_result"
    },
    {
     "data": {
      "image/png": "[encoded data removed]",
      "text/plain": [
       "<Figure size 432x288 with 1 Axes>"
      ]
     },
     "metadata": {
      "needs_background": "light"
     },
     "output_type": "display_data"
    }
   ],
   "source": [
    "# checking for classes count again\n",
    "sn.countplot(x=Y_train)\n",
    "Y_train.value_counts()"
   ]
  },
  {
   "cell_type": "markdown",
   "id": "8362db16",
   "metadata": {},
   "source": [
    "### TFIDF vecterisation"
   ]
  },
  {
   "cell_type": "code",
   "execution_count": 180,
   "id": "d6e31e7e",
   "metadata": {
    "scrolled": true
   },
   "outputs": [
    {
     "data": {
      "text/plain": [
       "TfidfVectorizer(decode_error='ignore', max_features=500, min_df=2)"
      ]
     },
     "execution_count": 180,
     "metadata": {},
     "output_type": "execute_result"
    }
   ],
   "source": [
    "# training tfidf vectoriser\n",
    "tfidf_vec = pd.concat([X_test['articleBody'], X_train['articleBody']])\n",
    "tfidf = TfidfVectorizer(decode_error='ignore', lowercase = True, min_df=2, max_features=500)\n",
    "tfidf.fit(tfidf_vec)"
   ]
  },
  {
   "cell_type": "code",
   "execution_count": 181,
   "id": "d24eaa32",
   "metadata": {
    "scrolled": true
   },
   "outputs": [
    {
     "name": "stdout",
     "output_type": "stream",
     "text": [
      "['state' 'groups' 'woods' 'appears' 'came' 'september' 'arrested' 'staff'\n",
      " 'known' 'york' 'officer' 'comment' 'children' 'staff' 'claim' 'they'\n",
      " 'carried' 'wanted' 'amazon' 'wearing' 'blumenthal' 'later' '20'\n",
      " 'hostages' 'dog' 'kobani' 'woods' 'spoke' 'he' 'caught' 'second'\n",
      " 'possible' 'called' 'middle' 'white' 'president' 'held' 'youtube'\n",
      " 'interview' 'love' 'daily' 'media' 'launch' 'took' 'man' 'air'\n",
      " 'statement' 'francis' 'mosul' 'rumors']\n"
     ]
    },
    {
     "name": "stderr",
     "output_type": "stream",
     "text": [
      "C:\\Users\\Ice\\anaconda3\\lib\\site-packages\\sklearn\\utils\\deprecation.py:87: FutureWarning: Function get_feature_names is deprecated; get_feature_names is deprecated in 1.0 and will be removed in 1.2. Please use get_feature_names_out instead.\n",
      "  warnings.warn(msg, category=FutureWarning)\n"
     ]
    }
   ],
   "source": [
    "# selecting random words from tfidf dictionary\n",
    "dictionary = np.asarray(tfidf.get_feature_names())\n",
    "print(dictionary[np.random.randint(0,len(dictionary),size=50)])"
   ]
  },
  {
   "cell_type": "code",
   "execution_count": 182,
   "id": "51b9caba",
   "metadata": {},
   "outputs": [],
   "source": [
    "# transfroming data into vectors by stacking 2 tfidfs vectors, to differentiate headline from body\n",
    "def stack_tfidf(X):\n",
    "    header_tfidf = tfidf.transform(X['Headline'].values.astype('U'))\n",
    "    body_tfidf = tfidf.transform(X['articleBody'].values.astype('U'))\n",
    "    stacked_tfidf = hstack([header_tfidf, body_tfidf])\n",
    "    return stacked_tfidf\n",
    "\n",
    "X_train_tfidf = stack_tfidf(X_train)\n",
    "X_val_tfidf = stack_tfidf(X_val)\n",
    "X_test_tfidf = stack_tfidf(X_test)"
   ]
  },
  {
   "cell_type": "code",
   "execution_count": 183,
   "id": "53e7142f",
   "metadata": {},
   "outputs": [
    {
     "name": "stdout",
     "output_type": "stream",
     "text": [
      "tfidf_size: (14992, 1000)\n"
     ]
    }
   ],
   "source": [
    "tfidf_size = X_test_tfidf.shape\n",
    "print('tfidf_size:', tfidf_size)"
   ]
  },
  {
   "cell_type": "markdown",
   "id": "86bdb98d",
   "metadata": {},
   "source": [
    "### preparting the scoring model"
   ]
  },
  {
   "cell_type": "code",
   "execution_count": 24,
   "id": "c517e4a0",
   "metadata": {},
   "outputs": [],
   "source": [
    "# creating the confussion matrix\n",
    "def plot_confussion_matrix(y_test, y_pred):\n",
    "    cm = confusion_matrix(y_test, y_pred)\n",
    "    df_cm = pd.DataFrame(cm, range(cm.shape[0]),\n",
    "                  range(cm.shape[1]))\n",
    "    sn.set(font_scale=1.4)\n",
    "    sn.heatmap(df_cm, annot=True,fmt='.0f',cmap=\"YlGnBu\",annot_kws={\"size\": 10})# font size\n",
    "    plt.show()"
   ]
  },
  {
   "cell_type": "code",
   "execution_count": 25,
   "id": "568ff471",
   "metadata": {},
   "outputs": [],
   "source": [
    "# creating the ROC Curve\n",
    "def plot_roc_curve(y_test, y_pred):\n",
    "    fpr, tpr, thresholds = roc_curve(y_test, y_pred, pos_label=1)\n",
    "    roc_auc= auc(fpr,tpr)\n",
    "    plt.figure(figsize=(12, 12))\n",
    "    ax = plt.subplot(121)\n",
    "    ax.set_aspect(1)\n",
    "    \n",
    "    plt.title('Receiver Operating Characteristic')\n",
    "    plt.plot(fpr, tpr, 'b', label = 'AUC = %0.2f' % roc_auc)\n",
    "    plt.legend(loc = 'lower right')\n",
    "    plt.plot([0, 1], [0, 1],'r--')\n",
    "    plt.xlim([0, 1])\n",
    "    plt.ylim([0, 1])\n",
    "    plt.ylabel('True Positive Rate')\n",
    "    plt.xlabel('False Positive Rate')\n",
    "    plt.show()"
   ]
  },
  {
   "cell_type": "markdown",
   "id": "d9c45767",
   "metadata": {},
   "source": [
    "### a.1.1: TDIF-SVM"
   ]
  },
  {
   "cell_type": "code",
   "execution_count": 26,
   "id": "bb6b3ce7",
   "metadata": {},
   "outputs": [
    {
     "data": {
      "text/plain": [
       "GridSearchCV(cv=3, estimator=SVC(), n_jobs=-1,\n",
       "             param_grid={'C': [1.0, 10], 'gamma': [1, 'auto']})"
      ]
     },
     "execution_count": 26,
     "metadata": {},
     "output_type": "execute_result"
    }
   ],
   "source": [
    "# building the SVM model\n",
    "parameters = { \n",
    "    'C': [1.0, 10],\n",
    "    'gamma': [1, 'auto']}\n",
    "model = GridSearchCV(SVC(kernel='rbf'), parameters, cv=3, n_jobs=-1)\n",
    "model.fit(X_train_tfidf, Y_train)"
   ]
  },
  {
   "cell_type": "code",
   "execution_count": 27,
   "id": "1430e3c6",
   "metadata": {},
   "outputs": [
    {
     "data": {
      "text/plain": [
       "{'C': 10, 'gamma': 1}"
      ]
     },
     "execution_count": 27,
     "metadata": {},
     "output_type": "execute_result"
    }
   ],
   "source": [
    "# gridsearch parameter results\n",
    "model.best_params_"
   ]
  },
  {
   "cell_type": "code",
   "execution_count": 28,
   "id": "c3927bdc",
   "metadata": {},
   "outputs": [],
   "source": [
    "model = model.best_estimator_"
   ]
  },
  {
   "cell_type": "code",
   "execution_count": 29,
   "id": "7cbf5ce6",
   "metadata": {},
   "outputs": [
    {
     "name": "stdout",
     "output_type": "stream",
     "text": [
      "              precision    recall  f1-score   support\n",
      "\n",
      "           0       0.99      0.97      0.98     10956\n",
      "           1       0.91      0.96      0.94      4036\n",
      "\n",
      "    accuracy                           0.97     14992\n",
      "   macro avg       0.95      0.97      0.96     14992\n",
      "weighted avg       0.97      0.97      0.97     14992\n",
      "\n"
     ]
    },
    {
     "data": {
      "image/png": "[encoded data removed]",
      "text/plain": [
       "<Figure size 432x288 with 2 Axes>"
      ]
     },
     "metadata": {},
     "output_type": "display_data"
    },
    {
     "data": {
      "image/png": "[encoded data removed]",
      "text/plain": [
       "<Figure size 864x864 with 1 Axes>"
      ]
     },
     "metadata": {},
     "output_type": "display_data"
    }
   ],
   "source": [
    "# predicting the test data\n",
    "Y_svm = model.predict(X_test_tfidf)\n",
    "print(metrics.classification_report(Y_test, Y_svm))\n",
    "plot_confussion_matrix(Y_test, Y_svm)\n",
    "plot_roc_curve(Y_test, Y_svm)"
   ]
  },
  {
   "cell_type": "markdown",
   "id": "169a1882",
   "metadata": {},
   "source": [
    "### a.2.1: TFIDF-LSTM"
   ]
  },
  {
   "cell_type": "code",
   "execution_count": 184,
   "id": "e5d33d6d",
   "metadata": {},
   "outputs": [],
   "source": [
    "# preparing the input to match the dimesionality of the LSTM cells\n",
    "def prepare_lstm(X, Y):\n",
    "    X = X.toarray()\n",
    "    X = X[:, None, :]\n",
    "    Y = np.array(Y)\n",
    "    return X, Y\n",
    "\n",
    "X_train_tfidf, Y_train = prepare_lstm(X_train_tfidf, Y_train)\n",
    "X_val_tfidf, Y_val = prepare_lstm(X_val_tfidf, Y_val)\n",
    "X_test_tfidf, Y_test = prepare_lstm(X_test_tfidf, Y_test)"
   ]
  },
  {
   "cell_type": "code",
   "execution_count": 31,
   "id": "39a71eb2",
   "metadata": {},
   "outputs": [
    {
     "data": {
      "text/plain": [
       "(15048, 1, 1000)"
      ]
     },
     "execution_count": 31,
     "metadata": {},
     "output_type": "execute_result"
    }
   ],
   "source": [
    "# input now transformed into 3-d array\n",
    "X_train_tfidf.shape"
   ]
  },
  {
   "cell_type": "code",
   "execution_count": 32,
   "id": "e9e0edf5",
   "metadata": {},
   "outputs": [
    {
     "data": {
      "text/plain": [
       "(15048,)"
      ]
     },
     "execution_count": 32,
     "metadata": {},
     "output_type": "execute_result"
    }
   ],
   "source": [
    "Y_train.shape"
   ]
  },
  {
   "cell_type": "code",
   "execution_count": 33,
   "id": "2287fc19",
   "metadata": {
    "scrolled": true
   },
   "outputs": [
    {
     "name": "stdout",
     "output_type": "stream",
     "text": [
      "Epoch 1/5\n",
      "1881/1881 [==============================] - 56s 30ms/step - loss: 0.5849 - accuracy: 0.6750 - val_loss: 0.4017 - val_accuracy: 0.8129\n",
      "Epoch 2/5\n",
      "1881/1881 [==============================] - 56s 30ms/step - loss: 0.3041 - accuracy: 0.8612 - val_loss: 0.2716 - val_accuracy: 0.8706\n",
      "Epoch 3/5\n",
      "1881/1881 [==============================] - 56s 30ms/step - loss: 0.1778 - accuracy: 0.9246 - val_loss: 0.1838 - val_accuracy: 0.9242\n",
      "Epoch 4/5\n",
      "1881/1881 [==============================] - 55s 29ms/step - loss: 0.1171 - accuracy: 0.9559 - val_loss: 0.1458 - val_accuracy: 0.9407\n",
      "Epoch 5/5\n",
      "1881/1881 [==============================] - 56s 30ms/step - loss: 0.0826 - accuracy: 0.9659 - val_loss: 0.1362 - val_accuracy: 0.9454\n"
     ]
    },
    {
     "data": {
      "text/plain": [
       "<tensorflow.python.keras.callbacks.History at 0x17c30c9adc0>"
      ]
     },
     "execution_count": 33,
     "metadata": {},
     "output_type": "execute_result"
    }
   ],
   "source": [
    "# creating an lstm model on Keras without the embedding layer\n",
    "# the model bypass the embedding layer and take input directly from the tfidf vecter\n",
    "keras.backend.clear_session()\n",
    "np.random.seed(seed)\n",
    "tf.random.set_seed(seed)\n",
    "\n",
    "model2 = keras.models.Sequential()\n",
    "model2.add(keras.layers.LSTM(1000,\n",
    "                            input_shape=(None, 1000),\n",
    "                            return_sequences=True))\n",
    "model2.add(keras.layers.Dropout(0.2))\n",
    "model2.add(keras.layers.Dense(1, activation='sigmoid'))\n",
    "model2.compile(\n",
    "    loss='binary_crossentropy', \n",
    "    optimizer='adam', \n",
    "    metrics = ['accuracy'])\n",
    "model2.fit(X_train_tfidf, Y_train, \n",
    "           validation_data=(X_val_tfidf, Y_val),\n",
    "           epochs=5, batch_size=8, verbose=1)"
   ]
  },
  {
   "cell_type": "code",
   "execution_count": 34,
   "id": "e37da159",
   "metadata": {},
   "outputs": [
    {
     "name": "stdout",
     "output_type": "stream",
     "text": [
      "WARNING:tensorflow:From <ipython-input-34-ead1c3a48b69>:2: Sequential.predict_classes (from tensorflow.python.keras.engine.sequential) is deprecated and will be removed after 2021-01-01.\n",
      "Instructions for updating:\n",
      "Please use instead:* `np.argmax(model.predict(x), axis=-1)`,   if your model does multi-class classification   (e.g. if it uses a `softmax` last-layer activation).* `(model.predict(x) > 0.5).astype(\"int32\")`,   if your model does binary classification   (e.g. if it uses a `sigmoid` last-layer activation).\n"
     ]
    }
   ],
   "source": [
    "# predicting the test data\n",
    "Y_lstm = model2.predict_classes(X_test_tfidf)"
   ]
  },
  {
   "cell_type": "code",
   "execution_count": 35,
   "id": "797cee8b",
   "metadata": {},
   "outputs": [
    {
     "name": "stdout",
     "output_type": "stream",
     "text": [
      "              precision    recall  f1-score   support\n",
      "\n",
      "           0      0.980     0.947     0.963     10956\n",
      "           1      0.868     0.948     0.906      4036\n",
      "\n",
      "    accuracy                          0.947     14992\n",
      "   macro avg      0.924     0.947     0.935     14992\n",
      "weighted avg      0.950     0.947     0.948     14992\n",
      "\n"
     ]
    },
    {
     "data": {
      "image/png": "[encoded data removed]",
      "text/plain": [
       "<Figure size 432x288 with 2 Axes>"
      ]
     },
     "metadata": {},
     "output_type": "display_data"
    },
    {
     "data": {
      "image/png": "[encoded data removed]",
      "text/plain": [
       "<Figure size 864x864 with 1 Axes>"
      ]
     },
     "metadata": {},
     "output_type": "display_data"
    }
   ],
   "source": [
    "# model results\n",
    "print(metrics.classification_report(Y_test, Y_lstm.reshape(len(Y_lstm)), digits=3))\n",
    "plot_confussion_matrix(Y_test, Y_lstm.reshape(len(Y_lstm)))\n",
    "plot_roc_curve(Y_test, Y_lstm.reshape(len(Y_lstm)))"
   ]
  },
  {
   "cell_type": "markdown",
   "id": "ec9c78cf",
   "metadata": {},
   "source": [
    "### a.1.2: Bert-SVM"
   ]
  },
  {
   "cell_type": "code",
   "execution_count": 36,
   "id": "c07df393",
   "metadata": {},
   "outputs": [
    {
     "name": "stderr",
     "output_type": "stream",
     "text": [
      "Some weights of the model checkpoint at bert-base-uncased were not used when initializing BertModel: ['cls.predictions.bias', 'cls.predictions.decoder.weight', 'cls.predictions.transform.dense.weight', 'cls.seq_relationship.weight', 'cls.predictions.transform.LayerNorm.bias', 'cls.seq_relationship.bias', 'cls.predictions.transform.LayerNorm.weight', 'cls.predictions.transform.dense.bias']\n",
      "- This IS expected if you are initializing BertModel from the checkpoint of a model trained on another task or with another architecture (e.g. initializing a BertForSequenceClassification model from a BertForPreTraining model).\n",
      "- This IS NOT expected if you are initializing BertModel from the checkpoint of a model that you expect to be exactly identical (initializing a BertForSequenceClassification model from a BertForSequenceClassification model).\n"
     ]
    }
   ],
   "source": [
    "# importing pretrained bert from 'bert-base-uncased'\n",
    "from transformers import BertTokenizer, BertModel\n",
    "bert = BertModel.from_pretrained('bert-base-uncased',\n",
    "           output_hidden_states = True,)"
   ]
  },
  {
   "cell_type": "code",
   "execution_count": 37,
   "id": "829fe98c",
   "metadata": {},
   "outputs": [],
   "source": [
    "tokenizer = BertTokenizer.from_pretrained(\"bert-base-uncased\")"
   ]
  },
  {
   "cell_type": "code",
   "execution_count": 38,
   "id": "6a4cdcfd",
   "metadata": {},
   "outputs": [],
   "source": [
    "def bert_text_preparation(headline, body, tokenizer):\n",
    "    marked_text = headline + \" [SEP]\" + body\n",
    "    marked_text = marked_text[:500] + \" [SEP]\"\n",
    "    indexed_tokens = tokenizer.encode(marked_text,\n",
    "                                      add_special_tokens=False,\n",
    "                                      max_length=512,\n",
    "                                      padding='max_length')\n",
    "    segments_ids = [1]*len(indexed_tokens)\n",
    "    tokens_tensor = torch.tensor([indexed_tokens])\n",
    "    segments_tensors = torch.tensor([segments_ids])\n",
    "    return tokens_tensor, segments_tensors"
   ]
  },
  {
   "cell_type": "code",
   "execution_count": 39,
   "id": "2d3110d2",
   "metadata": {},
   "outputs": [],
   "source": [
    "def get_bert_embeddings(tokens_tensor, segments_tensors, model):\n",
    "    with torch.no_grad():\n",
    "        outputs = model(tokens_tensor, segments_tensors)\n",
    "        hidden_states = outputs[2][1:]\n",
    "    token_embeddings = hidden_states[-1]\n",
    "    token_embeddings = torch.squeeze(token_embeddings, dim=0)\n",
    "    list_token_embeddings = [token_embed.tolist() for token_embed in token_embeddings]\n",
    "    return list_token_embeddings"
   ]
  },
  {
   "cell_type": "code",
   "execution_count": 40,
   "id": "b246a1d4",
   "metadata": {},
   "outputs": [],
   "source": [
    "def bert_embedding(data):\n",
    "    token_embedding = []\n",
    "    for i in data.index:\n",
    "        headline = data['Headline'][i]\n",
    "        body = data['articleBody'][i]\n",
    "        tokens_tensor, segments_tensors = bert_text_preparation(headline, body, tokenizer)\n",
    "        list_token_embeddings = get_bert_embeddings(tokens_tensor, segments_tensors, bert)\n",
    "        token_embedding.append(list_token_embeddings)\n",
    "    token_embedding = np.array(token_embedding)\n",
    "    return token_embedding"
   ]
  },
  {
   "cell_type": "code",
   "execution_count": 41,
   "id": "9dce8e9a",
   "metadata": {},
   "outputs": [],
   "source": [
    "X_train_sample = X_train[:1000]"
   ]
  },
  {
   "cell_type": "code",
   "execution_count": 42,
   "id": "61161597",
   "metadata": {},
   "outputs": [],
   "source": [
    "X_train_bert = bert_embedding(X_train_sample)"
   ]
  },
  {
   "cell_type": "code",
   "execution_count": 43,
   "id": "df3e9fc3",
   "metadata": {},
   "outputs": [],
   "source": [
    "X_val_sample = X_val[:1000]"
   ]
  },
  {
   "cell_type": "code",
   "execution_count": 44,
   "id": "3f7d588f",
   "metadata": {},
   "outputs": [],
   "source": [
    "X_val_bert = bert_embedding(X_val_sample)"
   ]
  },
  {
   "cell_type": "code",
   "execution_count": 45,
   "id": "8cf894e9",
   "metadata": {},
   "outputs": [],
   "source": [
    "X_test_sample = X_test[:1000]"
   ]
  },
  {
   "cell_type": "code",
   "execution_count": 46,
   "id": "e2e24265",
   "metadata": {},
   "outputs": [],
   "source": [
    "X_test_bert = bert_embedding(X_test_sample)"
   ]
  },
  {
   "cell_type": "code",
   "execution_count": 47,
   "id": "04ae9385",
   "metadata": {},
   "outputs": [],
   "source": [
    "Y_train_sample = Y_train[:1000]\n",
    "Y_val_sample = Y_val[:1000]\n",
    "Y_test_sample = Y_test[:1000]"
   ]
  },
  {
   "cell_type": "code",
   "execution_count": 48,
   "id": "d080a97c",
   "metadata": {},
   "outputs": [],
   "source": [
    "X_train_mpool = X_train_bert[:,0,]\n",
    "X_val_mpool = X_val_bert[:,0,]\n",
    "X_test_mpool = X_test_bert[:,0,]"
   ]
  },
  {
   "cell_type": "code",
   "execution_count": 49,
   "id": "1f2756c8",
   "metadata": {},
   "outputs": [
    {
     "data": {
      "text/plain": [
       "GridSearchCV(cv=3, estimator=SVC(), n_jobs=-1,\n",
       "             param_grid={'C': [1.0, 10], 'gamma': [1, 'auto']})"
      ]
     },
     "execution_count": 49,
     "metadata": {},
     "output_type": "execute_result"
    }
   ],
   "source": [
    "# Building the SVM model\n",
    "# input the max pooling input\n",
    "parameters = { \n",
    "    'C': [1.0, 10],\n",
    "    'gamma': [1, 'auto']}\n",
    "model3 = GridSearchCV(SVC(kernel='rbf'), parameters, cv=3, n_jobs=-1)\n",
    "model3.fit(X_train_mpool, Y_train_sample)"
   ]
  },
  {
   "cell_type": "code",
   "execution_count": 50,
   "id": "0018c83c",
   "metadata": {},
   "outputs": [
    {
     "name": "stdout",
     "output_type": "stream",
     "text": [
      "              precision    recall  f1-score   support\n",
      "\n",
      "           0       0.77      0.54      0.63       744\n",
      "           1       0.28      0.53      0.37       256\n",
      "\n",
      "    accuracy                           0.54      1000\n",
      "   macro avg       0.52      0.53      0.50      1000\n",
      "weighted avg       0.64      0.54      0.56      1000\n",
      "\n"
     ]
    },
    {
     "data": {
      "image/png": "[encoded data removed]",
      "text/plain": [
       "<Figure size 432x288 with 2 Axes>"
      ]
     },
     "metadata": {},
     "output_type": "display_data"
    },
    {
     "data": {
      "image/png": "[encoded data removed]",
      "text/plain": [
       "<Figure size 864x864 with 1 Axes>"
      ]
     },
     "metadata": {},
     "output_type": "display_data"
    }
   ],
   "source": [
    "# predicting the test data\n",
    "Y_svm = model3.predict(X_train_mpool)\n",
    "print(metrics.classification_report(Y_test_sample, Y_svm))\n",
    "plot_confussion_matrix(Y_val_sample, Y_svm)\n",
    "plot_roc_curve(Y_val_sample, Y_svm)"
   ]
  },
  {
   "cell_type": "markdown",
   "id": "6b34e6ba",
   "metadata": {},
   "source": [
    "### a.2.2: Bert-LSTM"
   ]
  },
  {
   "cell_type": "code",
   "execution_count": 51,
   "id": "ad0e2608",
   "metadata": {},
   "outputs": [
    {
     "name": "stdout",
     "output_type": "stream",
     "text": [
      "Epoch 1/5\n",
      "125/125 [==============================] - 747s 6s/step - loss: 0.7499 - accuracy: 0.5079 - val_loss: 0.7878 - val_accuracy: 0.2727\n",
      "Epoch 2/5\n",
      "125/125 [==============================] - 720s 6s/step - loss: 0.6968 - accuracy: 0.5047 - val_loss: 0.7060 - val_accuracy: 0.3094\n",
      "Epoch 3/5\n",
      "125/125 [==============================] - 721s 6s/step - loss: 0.6782 - accuracy: 0.5567 - val_loss: 0.5763 - val_accuracy: 0.7574\n",
      "Epoch 4/5\n",
      "125/125 [==============================] - 729s 6s/step - loss: 0.6534 - accuracy: 0.6258 - val_loss: 0.7778 - val_accuracy: 0.4707\n",
      "Epoch 5/5\n",
      "125/125 [==============================] - 727s 6s/step - loss: 0.5912 - accuracy: 0.7125 - val_loss: 0.4629 - val_accuracy: 0.8049\n"
     ]
    },
    {
     "data": {
      "text/plain": [
       "<tensorflow.python.keras.callbacks.History at 0x17c3cb50c70>"
      ]
     },
     "execution_count": 51,
     "metadata": {},
     "output_type": "execute_result"
    }
   ],
   "source": [
    "keras.backend.clear_session()\n",
    "np.random.seed(seed)\n",
    "tf.random.set_seed(seed)\n",
    "\n",
    "model4 = keras.models.Sequential()\n",
    "model4.add(keras.layers.LSTM(768,\n",
    "                            input_shape=(None, 768),\n",
    "                            return_sequences=True))\n",
    "model4.add(keras.layers.Dropout(0.2))\n",
    "model4.add(keras.layers.Dense(1, activation='sigmoid'))\n",
    "model4.compile(\n",
    "    loss='binary_crossentropy', \n",
    "    optimizer='adam', \n",
    "    metrics = ['accuracy'])\n",
    "model4.fit(X_train_bert, Y_train_sample, \n",
    "           validation_data=(X_val_bert, Y_val_sample),\n",
    "           epochs=5, batch_size=8, verbose=1)"
   ]
  },
  {
   "cell_type": "code",
   "execution_count": 87,
   "id": "3d55cc66",
   "metadata": {},
   "outputs": [
    {
     "name": "stdout",
     "output_type": "stream",
     "text": [
      "              precision    recall  f1-score   support\n",
      "\n",
      "           0      0.872     0.836     0.854       744\n",
      "           1      0.575     0.645     0.608       256\n",
      "\n",
      "    accuracy                          0.787      1000\n",
      "   macro avg      0.724     0.740     0.731      1000\n",
      "weighted avg      0.796     0.787     0.791      1000\n",
      "\n"
     ]
    },
    {
     "data": {
      "image/png": "[encoded data removed]",
      "text/plain": [
       "<Figure size 432x288 with 2 Axes>"
      ]
     },
     "metadata": {},
     "output_type": "display_data"
    },
    {
     "data": {
      "image/png": "[encoded data removed]",
      "text/plain": [
       "<Figure size 864x864 with 1 Axes>"
      ]
     },
     "metadata": {},
     "output_type": "display_data"
    }
   ],
   "source": [
    "# model results\n",
    "Y_pred = model4.predict_classes(X_test_bert)\n",
    "Y_pred = Y_pred.mean(axis=1)\n",
    "Y_pred = np.rint(Y_pred)\n",
    "print(metrics.classification_report(Y_test_sample, Y_pred, digits=3))\n",
    "plot_confussion_matrix(Y_test_sample, Y_pred)\n",
    "plot_roc_curve(Y_test_sample, Y_pred)"
   ]
  },
  {
   "cell_type": "markdown",
   "id": "774f2043",
   "metadata": {},
   "source": [
    "### Task 2 preparation"
   ]
  },
  {
   "cell_type": "code",
   "execution_count": 185,
   "id": "4df552cc",
   "metadata": {},
   "outputs": [],
   "source": [
    "# defining a fuction to prepare data for multiclass classification\n",
    "def prepare_stance(data):\n",
    "    df = data\n",
    "    related = {'agree': 1,\n",
    "               'discuss': 2,\n",
    "               'disagree': 3,\n",
    "               'unrelated': 0}\n",
    "    df['Stance'] = df['Stance'].replace(related)\n",
    "    df = df.drop(df[df['Stance']==0].index)\n",
    "    y = df[['Stance']]\n",
    "    x = df[['Headline', 'articleBody']]\n",
    "    return x, y"
   ]
  },
  {
   "cell_type": "code",
   "execution_count": 186,
   "id": "9763a7f7",
   "metadata": {
    "scrolled": true
   },
   "outputs": [],
   "source": [
    "X_train, Y_train = prepare_stance(train)\n",
    "X_val, Y_val = prepare_stance(val)\n",
    "X_test, Y_test = prepare_stance(test)"
   ]
  },
  {
   "cell_type": "code",
   "execution_count": 187,
   "id": "16fe4935",
   "metadata": {},
   "outputs": [],
   "source": [
    "# data cleaning\n",
    "X_train = clean_data(X_train)\n",
    "X_val = clean_data(X_val)\n",
    "X_test = clean_data(X_test)"
   ]
  },
  {
   "cell_type": "code",
   "execution_count": 188,
   "id": "e61151fa",
   "metadata": {},
   "outputs": [],
   "source": [
    "# resampling the train data using random under samplier\n",
    "X_train, Y_train = rus.fit_resample(X_train, Y_train)\n",
    "temp_df = X_train\n",
    "temp_df['Stance'] = Y_train\n",
    "temp_df = temp_df.sample(frac=1, random_state=seed)\n",
    "X_train = temp_df.drop(['Stance'], axis=1)\n",
    "Y_train = temp_df['Stance']"
   ]
  },
  {
   "cell_type": "code",
   "execution_count": 189,
   "id": "810eaf2a",
   "metadata": {},
   "outputs": [],
   "source": [
    "Y_val = Y_val['Stance']\n",
    "Y_test = Y_test['Stance']"
   ]
  },
  {
   "cell_type": "code",
   "execution_count": 190,
   "id": "dc97ecfd",
   "metadata": {
    "scrolled": true
   },
   "outputs": [
    {
     "data": {
      "text/plain": [
       "1    474\n",
       "2    474\n",
       "3    474\n",
       "Name: Stance, dtype: int64"
      ]
     },
     "execution_count": 190,
     "metadata": {},
     "output_type": "execute_result"
    },
    {
     "data": {
      "image/png": "[encoded data removed]",
      "text/plain": [
       "<Figure size 432x288 with 1 Axes>"
      ]
     },
     "metadata": {
      "needs_background": "light"
     },
     "output_type": "display_data"
    }
   ],
   "source": [
    "# ploting out classes in the train data\n",
    "sn.countplot(x=Y_train)\n",
    "Y_train.value_counts()"
   ]
  },
  {
   "cell_type": "code",
   "execution_count": 191,
   "id": "4a4140b5",
   "metadata": {},
   "outputs": [],
   "source": [
    "# implimenting one-hot encoding on the classes\n",
    "Y_train = pd.get_dummies(Y_train)\n",
    "Y_val = pd.get_dummies(Y_val)\n",
    "Y_test = pd.get_dummies(Y_test)"
   ]
  },
  {
   "cell_type": "code",
   "execution_count": 192,
   "id": "86549806",
   "metadata": {},
   "outputs": [],
   "source": [
    "# creating tfidf vectors\n",
    "X_train_tfidf = stack_tfidf(X_train)\n",
    "X_val_tfidf = stack_tfidf(X_val)\n",
    "X_test_tfidf = stack_tfidf(X_test)"
   ]
  },
  {
   "cell_type": "markdown",
   "id": "d846680a",
   "metadata": {},
   "source": [
    "### b: TDIF-LSTM"
   ]
  },
  {
   "cell_type": "code",
   "execution_count": 193,
   "id": "5aab6ebe",
   "metadata": {},
   "outputs": [],
   "source": [
    "# preparing input for LSTM model\n",
    "X_train_tfidf, Y_train = prepare_lstm(X_train_tfidf, Y_train)\n",
    "X_val_tfidf, Y_val = prepare_lstm(X_val_tfidf, Y_val)\n",
    "X_test_tfidf, Y_test = prepare_lstm(X_test_tfidf, Y_test)"
   ]
  },
  {
   "cell_type": "code",
   "execution_count": 194,
   "id": "68c12a29",
   "metadata": {},
   "outputs": [],
   "source": [
    "# matching y dimension with model output\n",
    "Y_train = Y_train[:,None,:]\n",
    "Y_val = Y_val[:,None,:]\n",
    "Y_tets = Y_test[:,None,:]"
   ]
  },
  {
   "cell_type": "code",
   "execution_count": 195,
   "id": "5c48d5c6",
   "metadata": {},
   "outputs": [
    {
     "data": {
      "text/plain": [
       "(1422, 1, 1000)"
      ]
     },
     "execution_count": 195,
     "metadata": {},
     "output_type": "execute_result"
    }
   ],
   "source": [
    "X_train_tfidf.shape"
   ]
  },
  {
   "cell_type": "code",
   "execution_count": 196,
   "id": "6afff73b",
   "metadata": {},
   "outputs": [
    {
     "data": {
      "text/plain": [
       "(1422, 1, 3)"
      ]
     },
     "execution_count": 196,
     "metadata": {},
     "output_type": "execute_result"
    }
   ],
   "source": [
    "Y_train.shape"
   ]
  },
  {
   "cell_type": "code",
   "execution_count": 126,
   "id": "06f5c42f",
   "metadata": {},
   "outputs": [
    {
     "name": "stdout",
     "output_type": "stream",
     "text": [
      "Epoch 1/6\n",
      "178/178 [==============================] - 6s 34ms/step - loss: 0.8920 - accuracy: 0.6132 - val_loss: 0.7394 - val_accuracy: 0.6872\n",
      "Epoch 2/6\n",
      "178/178 [==============================] - 6s 33ms/step - loss: 0.6008 - accuracy: 0.7567 - val_loss: 0.7083 - val_accuracy: 0.7076\n",
      "Epoch 3/6\n",
      "178/178 [==============================] - 6s 33ms/step - loss: 0.4547 - accuracy: 0.8277 - val_loss: 0.6847 - val_accuracy: 0.7290\n",
      "Epoch 4/6\n",
      "178/178 [==============================] - 6s 33ms/step - loss: 0.3759 - accuracy: 0.8544 - val_loss: 0.8287 - val_accuracy: 0.7027\n",
      "Epoch 5/6\n",
      "178/178 [==============================] - 6s 33ms/step - loss: 0.3179 - accuracy: 0.8833 - val_loss: 0.8020 - val_accuracy: 0.7252\n",
      "Epoch 6/6\n",
      "178/178 [==============================] - 6s 33ms/step - loss: 0.2718 - accuracy: 0.8973 - val_loss: 0.8507 - val_accuracy: 0.7322\n"
     ]
    },
    {
     "data": {
      "text/plain": [
       "<tensorflow.python.keras.callbacks.History at 0x17c05987970>"
      ]
     },
     "execution_count": 126,
     "metadata": {},
     "output_type": "execute_result"
    }
   ],
   "source": [
    "# building multiclass LSTM model\n",
    "keras.backend.clear_session()\n",
    "np.random.seed(seed)\n",
    "tf.random.set_seed(seed)\n",
    "\n",
    "model5 = keras.models.Sequential()\n",
    "model5.add(keras.layers.LSTM(1000,\n",
    "                            input_shape=(None, 1000),\n",
    "                            return_sequences=True))\n",
    "model5.add(keras.layers.Dropout(0.3))\n",
    "model5.add(keras.layers.Dense(3, activation='softmax'))\n",
    "model5.compile(\n",
    "    loss='categorical_crossentropy', \n",
    "    optimizer='adam', \n",
    "    metrics = ['accuracy'])\n",
    "model5.fit(X_train_tfidf, Y_train, \n",
    "           validation_data=(X_val_tfidf, Y_val),\n",
    "           epochs=6, batch_size=8, verbose=1)"
   ]
  },
  {
   "cell_type": "code",
   "execution_count": 197,
   "id": "9a0a491e",
   "metadata": {},
   "outputs": [],
   "source": [
    "# predicting test data\n",
    "Y_lstm = model5.predict_classes(X_test_tfidf)\n",
    "Y_lstm = Y_lstm+1\n",
    "Y_lstm = Y_lstm.reshape(len(Y_lstm))"
   ]
  },
  {
   "cell_type": "code",
   "execution_count": 208,
   "id": "a449d182",
   "metadata": {},
   "outputs": [],
   "source": [
    "# creating a comaprer for the predicted data\n",
    "Y_true = test.drop(test[test['Stance']==0].index)\n",
    "Y_true = Y_true['Stance']\n",
    "Y_true = np.array(Y_true)"
   ]
  },
  {
   "cell_type": "code",
   "execution_count": 209,
   "id": "e16ba3e9",
   "metadata": {},
   "outputs": [
    {
     "name": "stdout",
     "output_type": "stream",
     "text": [
      "              precision    recall  f1-score   support\n",
      "\n",
      "           1      0.610     0.623     0.616      1113\n",
      "           2      0.904     0.764     0.828      2686\n",
      "           3      0.266     0.705     0.386       237\n",
      "\n",
      "    accuracy                          0.722      4036\n",
      "   macro avg      0.593     0.697     0.610      4036\n",
      "weighted avg      0.785     0.722     0.744      4036\n",
      "\n"
     ]
    },
    {
     "data": {
      "image/png": "[encoded data removed]",
      "text/plain": [
       "<Figure size 432x288 with 2 Axes>"
      ]
     },
     "metadata": {},
     "output_type": "display_data"
    }
   ],
   "source": [
    "print(metrics.classification_report(Y_true, Y_lstm, digits=3))\n",
    "plot_confussion_matrix(Y_true, Y_lstm)"
   ]
  },
  {
   "cell_type": "markdown",
   "id": "85743957",
   "metadata": {},
   "source": [
    "### c: Finalised model"
   ]
  },
  {
   "cell_type": "code",
   "execution_count": 210,
   "id": "88184a56",
   "metadata": {},
   "outputs": [],
   "source": [
    "# creating a compy of test data\n",
    "test_fn = test"
   ]
  },
  {
   "cell_type": "code",
   "execution_count": 211,
   "id": "e3869717",
   "metadata": {},
   "outputs": [],
   "source": [
    "# replacing text clasification with numbers\n",
    "relation = {'agree': 1,\n",
    "           'discuss': 2,\n",
    "           'disagree': 3,\n",
    "           'unrelated': 0}\n",
    "test_fn['Stance'] = test_fn['Stance'].replace(relation)"
   ]
  },
  {
   "cell_type": "code",
   "execution_count": 212,
   "id": "af655456",
   "metadata": {},
   "outputs": [
    {
     "name": "stderr",
     "output_type": "stream",
     "text": [
      "<ipython-input-172-7044a453f4ef>:2: SettingWithCopyWarning: \n",
      "A value is trying to be set on a copy of a slice from a DataFrame.\n",
      "Try using .loc[row_indexer,col_indexer] = value instead\n",
      "\n",
      "See the caveats in the documentation: https://pandas.pydata.org/pandas-docs/stable/user_guide/indexing.html#returning-a-view-versus-a-copy\n",
      "  data['Headline'] = [clean_text(i) for i in data['Headline']]\n",
      "<ipython-input-172-7044a453f4ef>:3: SettingWithCopyWarning: \n",
      "A value is trying to be set on a copy of a slice from a DataFrame.\n",
      "Try using .loc[row_indexer,col_indexer] = value instead\n",
      "\n",
      "See the caveats in the documentation: https://pandas.pydata.org/pandas-docs/stable/user_guide/indexing.html#returning-a-view-versus-a-copy\n",
      "  data['articleBody'] = [clean_text(i) for i in data['articleBody']]\n"
     ]
    }
   ],
   "source": [
    "# preparing x input for LSTM model\n",
    "X_test = test_fn[['Headline', 'articleBody']]\n",
    "X_test = clean_data(X_test)\n",
    "X_test_tfidf = stack_tfidf(X_test)\n",
    "X_test_tfidf = X_test_tfidf.toarray()\n",
    "X_test_tfidf = X_test_tfidf[:, None, :]"
   ]
  },
  {
   "cell_type": "code",
   "execution_count": 213,
   "id": "1ae773a7",
   "metadata": {},
   "outputs": [],
   "source": [
    "# using the model previously trained on part a.2.1 to make a binary prediction\n",
    "Y_pred = model2.predict_classes(X_test_tfidf)\n",
    "Y_pred = Y_pred.reshape(len(Y_pred))"
   ]
  },
  {
   "cell_type": "code",
   "execution_count": 214,
   "id": "2c76c774",
   "metadata": {},
   "outputs": [
    {
     "data": {
      "text/html": [
       "<div>\n",
       "<style scoped>\n",
       "    .dataframe tbody tr th:only-of-type {\n",
       "        vertical-align: middle;\n",
       "    }\n",
       "\n",
       "    .dataframe tbody tr th {\n",
       "        vertical-align: top;\n",
       "    }\n",
       "\n",
       "    .dataframe thead th {\n",
       "        text-align: right;\n",
       "    }\n",
       "</style>\n",
       "<table border=\"1\" class=\"dataframe\">\n",
       "  <thead>\n",
       "    <tr style=\"text-align: right;\">\n",
       "      <th></th>\n",
       "      <th>Headline</th>\n",
       "      <th>Body ID</th>\n",
       "      <th>Stance</th>\n",
       "      <th>articleBody</th>\n",
       "      <th>prediction</th>\n",
       "    </tr>\n",
       "  </thead>\n",
       "  <tbody>\n",
       "    <tr>\n",
       "      <th>38740</th>\n",
       "      <td>Militant Group Says It Killed American Journal...</td>\n",
       "      <td>2261</td>\n",
       "      <td>0</td>\n",
       "      <td>From the midweek edition of the Morning Jolt:\\...</td>\n",
       "      <td>0</td>\n",
       "    </tr>\n",
       "    <tr>\n",
       "      <th>30369</th>\n",
       "      <td>In New York City, Marijuana May Mean Ticket, N...</td>\n",
       "      <td>269</td>\n",
       "      <td>0</td>\n",
       "      <td>Islamic State militants have released a video ...</td>\n",
       "      <td>0</td>\n",
       "    </tr>\n",
       "    <tr>\n",
       "      <th>883</th>\n",
       "      <td>Lawmaker Says ‘At Least 10′ Islamic State Figh...</td>\n",
       "      <td>570</td>\n",
       "      <td>0</td>\n",
       "      <td>You want a gold Apple Watch, you say? Then it'...</td>\n",
       "      <td>0</td>\n",
       "    </tr>\n",
       "    <tr>\n",
       "      <th>29418</th>\n",
       "      <td>Meteorite Leaves House-Sized Crater in Nicarag...</td>\n",
       "      <td>649</td>\n",
       "      <td>0</td>\n",
       "      <td>A student has broken a 19-year silence and rev...</td>\n",
       "      <td>0</td>\n",
       "    </tr>\n",
       "    <tr>\n",
       "      <th>21742</th>\n",
       "      <td>Lebanon detains wife and son of Al-Baghdadi</td>\n",
       "      <td>365</td>\n",
       "      <td>0</td>\n",
       "      <td>A lot of folks are buzzing about 17-year-old S...</td>\n",
       "      <td>0</td>\n",
       "    </tr>\n",
       "    <tr>\n",
       "      <th>...</th>\n",
       "      <td>...</td>\n",
       "      <td>...</td>\n",
       "      <td>...</td>\n",
       "      <td>...</td>\n",
       "      <td>...</td>\n",
       "    </tr>\n",
       "    <tr>\n",
       "      <th>20381</th>\n",
       "      <td>Strange mark turns out to be tropical spider b...</td>\n",
       "      <td>2338</td>\n",
       "      <td>2</td>\n",
       "      <td>AUSTRALIA — A man in Australia has been dubbed...</td>\n",
       "      <td>1</td>\n",
       "    </tr>\n",
       "    <tr>\n",
       "      <th>40527</th>\n",
       "      <td>Pentagon confirms al-Shabab leader killed in a...</td>\n",
       "      <td>1610</td>\n",
       "      <td>1</td>\n",
       "      <td>Ahmed Abdi Godane — the leader of al Shabab, t...</td>\n",
       "      <td>1</td>\n",
       "    </tr>\n",
       "    <tr>\n",
       "      <th>48262</th>\n",
       "      <td>BATMAN VS. SUPERMAN BATMOBILE STOLEN</td>\n",
       "      <td>2135</td>\n",
       "      <td>2</td>\n",
       "      <td>Rumours that the Caped Crusader's ride has bee...</td>\n",
       "      <td>1</td>\n",
       "    </tr>\n",
       "    <tr>\n",
       "      <th>19459</th>\n",
       "      <td>CNN Broadcasts Purported Audio Containing Guns...</td>\n",
       "      <td>2220</td>\n",
       "      <td>2</td>\n",
       "      <td>An unverified audio recording that may have ca...</td>\n",
       "      <td>1</td>\n",
       "    </tr>\n",
       "    <tr>\n",
       "      <th>27815</th>\n",
       "      <td>WHO investigates media reports ISIS fighters c...</td>\n",
       "      <td>1891</td>\n",
       "      <td>2</td>\n",
       "      <td>THERE are unconfirmed reports that jihadists f...</td>\n",
       "      <td>1</td>\n",
       "    </tr>\n",
       "  </tbody>\n",
       "</table>\n",
       "<p>14992 rows × 5 columns</p>\n",
       "</div>"
      ],
      "text/plain": [
       "                                                Headline  Body ID  Stance  \\\n",
       "38740  Militant Group Says It Killed American Journal...     2261       0   \n",
       "30369  In New York City, Marijuana May Mean Ticket, N...      269       0   \n",
       "883    Lawmaker Says ‘At Least 10′ Islamic State Figh...      570       0   \n",
       "29418  Meteorite Leaves House-Sized Crater in Nicarag...      649       0   \n",
       "21742        Lebanon detains wife and son of Al-Baghdadi      365       0   \n",
       "...                                                  ...      ...     ...   \n",
       "20381  Strange mark turns out to be tropical spider b...     2338       2   \n",
       "40527  Pentagon confirms al-Shabab leader killed in a...     1610       1   \n",
       "48262               BATMAN VS. SUPERMAN BATMOBILE STOLEN     2135       2   \n",
       "19459  CNN Broadcasts Purported Audio Containing Guns...     2220       2   \n",
       "27815  WHO investigates media reports ISIS fighters c...     1891       2   \n",
       "\n",
       "                                             articleBody  prediction  \n",
       "38740  From the midweek edition of the Morning Jolt:\\...           0  \n",
       "30369  Islamic State militants have released a video ...           0  \n",
       "883    You want a gold Apple Watch, you say? Then it'...           0  \n",
       "29418  A student has broken a 19-year silence and rev...           0  \n",
       "21742  A lot of folks are buzzing about 17-year-old S...           0  \n",
       "...                                                  ...         ...  \n",
       "20381  AUSTRALIA — A man in Australia has been dubbed...           1  \n",
       "40527  Ahmed Abdi Godane — the leader of al Shabab, t...           1  \n",
       "48262  Rumours that the Caped Crusader's ride has bee...           1  \n",
       "19459  An unverified audio recording that may have ca...           1  \n",
       "27815  THERE are unconfirmed reports that jihadists f...           1  \n",
       "\n",
       "[14992 rows x 5 columns]"
      ]
     },
     "execution_count": 214,
     "metadata": {},
     "output_type": "execute_result"
    }
   ],
   "source": [
    "# appending the result the test dataframe\n",
    "test_fn['prediction'] = Y_pred\n",
    "test_fn = test_fn.sort_values(by='prediction')\n",
    "test_fn"
   ]
  },
  {
   "cell_type": "code",
   "execution_count": 215,
   "id": "a71c621a",
   "metadata": {},
   "outputs": [],
   "source": [
    "# spliting the data by prediction result\n",
    "test_fn_related = test_fn.loc[test_fn['prediction']==1]\n",
    "test_fn_unrelated = test_fn.loc[test_fn['prediction']==0] "
   ]
  },
  {
   "cell_type": "code",
   "execution_count": 216,
   "id": "38f54901",
   "metadata": {},
   "outputs": [
    {
     "name": "stderr",
     "output_type": "stream",
     "text": [
      "<ipython-input-172-7044a453f4ef>:2: SettingWithCopyWarning: \n",
      "A value is trying to be set on a copy of a slice from a DataFrame.\n",
      "Try using .loc[row_indexer,col_indexer] = value instead\n",
      "\n",
      "See the caveats in the documentation: https://pandas.pydata.org/pandas-docs/stable/user_guide/indexing.html#returning-a-view-versus-a-copy\n",
      "  data['Headline'] = [clean_text(i) for i in data['Headline']]\n",
      "<ipython-input-172-7044a453f4ef>:3: SettingWithCopyWarning: \n",
      "A value is trying to be set on a copy of a slice from a DataFrame.\n",
      "Try using .loc[row_indexer,col_indexer] = value instead\n",
      "\n",
      "See the caveats in the documentation: https://pandas.pydata.org/pandas-docs/stable/user_guide/indexing.html#returning-a-view-versus-a-copy\n",
      "  data['articleBody'] = [clean_text(i) for i in data['articleBody']]\n"
     ]
    }
   ],
   "source": [
    "# taking the related prediction result from the fisrt model to prepare an imput for the second model\n",
    "X_test = test_fn_related[['Headline', 'articleBody']]\n",
    "X_test = clean_data(X_test)\n",
    "X_test_tfidf = stack_tfidf(X_test)\n",
    "X_test_tfidf = X_test_tfidf.toarray()\n",
    "X_test_tfidf = X_test_tfidf[:, None, :]"
   ]
  },
  {
   "cell_type": "code",
   "execution_count": 217,
   "id": "43cb3684",
   "metadata": {},
   "outputs": [],
   "source": [
    "# making sentiment prediction using the model from part b\n",
    "Y_pred_class = model5.predict_classes(X_test_tfidf)"
   ]
  },
  {
   "cell_type": "code",
   "execution_count": 218,
   "id": "ce885a4a",
   "metadata": {},
   "outputs": [
    {
     "name": "stderr",
     "output_type": "stream",
     "text": [
      "<ipython-input-218-419aea9f1209>:4: SettingWithCopyWarning: \n",
      "A value is trying to be set on a copy of a slice from a DataFrame.\n",
      "Try using .loc[row_indexer,col_indexer] = value instead\n",
      "\n",
      "See the caveats in the documentation: https://pandas.pydata.org/pandas-docs/stable/user_guide/indexing.html#returning-a-view-versus-a-copy\n",
      "  test_fn_related['prediction'] = Y_pred_class\n"
     ]
    }
   ],
   "source": [
    "# preparing the model output for evaluation\n",
    "Y_pred_class = Y_pred_class.reshape(len(Y_pred_class))\n",
    "Y_pred_class = Y_pred_class + 1\n",
    "test_fn_related['prediction'] = Y_pred_class"
   ]
  },
  {
   "cell_type": "code",
   "execution_count": 219,
   "id": "3a5f3088",
   "metadata": {},
   "outputs": [
    {
     "data": {
      "text/html": [
       "<div>\n",
       "<style scoped>\n",
       "    .dataframe tbody tr th:only-of-type {\n",
       "        vertical-align: middle;\n",
       "    }\n",
       "\n",
       "    .dataframe tbody tr th {\n",
       "        vertical-align: top;\n",
       "    }\n",
       "\n",
       "    .dataframe thead th {\n",
       "        text-align: right;\n",
       "    }\n",
       "</style>\n",
       "<table border=\"1\" class=\"dataframe\">\n",
       "  <thead>\n",
       "    <tr style=\"text-align: right;\">\n",
       "      <th></th>\n",
       "      <th>Headline</th>\n",
       "      <th>Body ID</th>\n",
       "      <th>Stance</th>\n",
       "      <th>articleBody</th>\n",
       "      <th>prediction</th>\n",
       "    </tr>\n",
       "  </thead>\n",
       "  <tbody>\n",
       "    <tr>\n",
       "      <th>38740</th>\n",
       "      <td>Militant Group Says It Killed American Journal...</td>\n",
       "      <td>2261</td>\n",
       "      <td>0</td>\n",
       "      <td>From the midweek edition of the Morning Jolt:\\...</td>\n",
       "      <td>0</td>\n",
       "    </tr>\n",
       "    <tr>\n",
       "      <th>30369</th>\n",
       "      <td>In New York City, Marijuana May Mean Ticket, N...</td>\n",
       "      <td>269</td>\n",
       "      <td>0</td>\n",
       "      <td>Islamic State militants have released a video ...</td>\n",
       "      <td>0</td>\n",
       "    </tr>\n",
       "    <tr>\n",
       "      <th>883</th>\n",
       "      <td>Lawmaker Says ‘At Least 10′ Islamic State Figh...</td>\n",
       "      <td>570</td>\n",
       "      <td>0</td>\n",
       "      <td>You want a gold Apple Watch, you say? Then it'...</td>\n",
       "      <td>0</td>\n",
       "    </tr>\n",
       "    <tr>\n",
       "      <th>29418</th>\n",
       "      <td>Meteorite Leaves House-Sized Crater in Nicarag...</td>\n",
       "      <td>649</td>\n",
       "      <td>0</td>\n",
       "      <td>A student has broken a 19-year silence and rev...</td>\n",
       "      <td>0</td>\n",
       "    </tr>\n",
       "    <tr>\n",
       "      <th>21742</th>\n",
       "      <td>Lebanon detains wife and son of Al-Baghdadi</td>\n",
       "      <td>365</td>\n",
       "      <td>0</td>\n",
       "      <td>A lot of folks are buzzing about 17-year-old S...</td>\n",
       "      <td>0</td>\n",
       "    </tr>\n",
       "    <tr>\n",
       "      <th>...</th>\n",
       "      <td>...</td>\n",
       "      <td>...</td>\n",
       "      <td>...</td>\n",
       "      <td>...</td>\n",
       "      <td>...</td>\n",
       "    </tr>\n",
       "    <tr>\n",
       "      <th>20381</th>\n",
       "      <td>Strange mark turns out to be tropical spider b...</td>\n",
       "      <td>2338</td>\n",
       "      <td>2</td>\n",
       "      <td>AUSTRALIA — A man in Australia has been dubbed...</td>\n",
       "      <td>3</td>\n",
       "    </tr>\n",
       "    <tr>\n",
       "      <th>40527</th>\n",
       "      <td>Pentagon confirms al-Shabab leader killed in a...</td>\n",
       "      <td>1610</td>\n",
       "      <td>1</td>\n",
       "      <td>Ahmed Abdi Godane — the leader of al Shabab, t...</td>\n",
       "      <td>2</td>\n",
       "    </tr>\n",
       "    <tr>\n",
       "      <th>48262</th>\n",
       "      <td>BATMAN VS. SUPERMAN BATMOBILE STOLEN</td>\n",
       "      <td>2135</td>\n",
       "      <td>2</td>\n",
       "      <td>Rumours that the Caped Crusader's ride has bee...</td>\n",
       "      <td>1</td>\n",
       "    </tr>\n",
       "    <tr>\n",
       "      <th>19459</th>\n",
       "      <td>CNN Broadcasts Purported Audio Containing Guns...</td>\n",
       "      <td>2220</td>\n",
       "      <td>2</td>\n",
       "      <td>An unverified audio recording that may have ca...</td>\n",
       "      <td>2</td>\n",
       "    </tr>\n",
       "    <tr>\n",
       "      <th>27815</th>\n",
       "      <td>WHO investigates media reports ISIS fighters c...</td>\n",
       "      <td>1891</td>\n",
       "      <td>2</td>\n",
       "      <td>THERE are unconfirmed reports that jihadists f...</td>\n",
       "      <td>2</td>\n",
       "    </tr>\n",
       "  </tbody>\n",
       "</table>\n",
       "<p>14992 rows × 5 columns</p>\n",
       "</div>"
      ],
      "text/plain": [
       "                                                Headline  Body ID  Stance  \\\n",
       "38740  Militant Group Says It Killed American Journal...     2261       0   \n",
       "30369  In New York City, Marijuana May Mean Ticket, N...      269       0   \n",
       "883    Lawmaker Says ‘At Least 10′ Islamic State Figh...      570       0   \n",
       "29418  Meteorite Leaves House-Sized Crater in Nicarag...      649       0   \n",
       "21742        Lebanon detains wife and son of Al-Baghdadi      365       0   \n",
       "...                                                  ...      ...     ...   \n",
       "20381  Strange mark turns out to be tropical spider b...     2338       2   \n",
       "40527  Pentagon confirms al-Shabab leader killed in a...     1610       1   \n",
       "48262               BATMAN VS. SUPERMAN BATMOBILE STOLEN     2135       2   \n",
       "19459  CNN Broadcasts Purported Audio Containing Guns...     2220       2   \n",
       "27815  WHO investigates media reports ISIS fighters c...     1891       2   \n",
       "\n",
       "                                             articleBody  prediction  \n",
       "38740  From the midweek edition of the Morning Jolt:\\...           0  \n",
       "30369  Islamic State militants have released a video ...           0  \n",
       "883    You want a gold Apple Watch, you say? Then it'...           0  \n",
       "29418  A student has broken a 19-year silence and rev...           0  \n",
       "21742  A lot of folks are buzzing about 17-year-old S...           0  \n",
       "...                                                  ...         ...  \n",
       "20381  AUSTRALIA — A man in Australia has been dubbed...           3  \n",
       "40527  Ahmed Abdi Godane — the leader of al Shabab, t...           2  \n",
       "48262  Rumours that the Caped Crusader's ride has bee...           1  \n",
       "19459  An unverified audio recording that may have ca...           2  \n",
       "27815  THERE are unconfirmed reports that jihadists f...           2  \n",
       "\n",
       "[14992 rows x 5 columns]"
      ]
     },
     "execution_count": 219,
     "metadata": {},
     "output_type": "execute_result"
    }
   ],
   "source": [
    "test_fn = pd.concat([test_fn_unrelated, test_fn_related], axis=0)\n",
    "test_fn"
   ]
  },
  {
   "cell_type": "code",
   "execution_count": 220,
   "id": "29b783a9",
   "metadata": {},
   "outputs": [],
   "source": [
    "Y_true = test_fn['Stance']\n",
    "Y_pred_all = test_fn['prediction']"
   ]
  },
  {
   "cell_type": "code",
   "execution_count": 221,
   "id": "69e4f30b",
   "metadata": {},
   "outputs": [
    {
     "name": "stdout",
     "output_type": "stream",
     "text": [
      "              precision    recall  f1-score   support\n",
      "\n",
      "           0      0.980     0.947     0.963     10956\n",
      "           1      0.493     0.573     0.530      1113\n",
      "           2      0.822     0.738     0.777      2686\n",
      "           3      0.228     0.675     0.340       237\n",
      "\n",
      "    accuracy                          0.877     14992\n",
      "   macro avg      0.631     0.733     0.653     14992\n",
      "weighted avg      0.904     0.877     0.888     14992\n",
      "\n"
     ]
    },
    {
     "data": {
      "image/png": "[encoded data removed]",
      "text/plain": [
       "<Figure size 432x288 with 2 Axes>"
      ]
     },
     "metadata": {},
     "output_type": "display_data"
    }
   ],
   "source": [
    "# final model results\n",
    "print(metrics.classification_report(Y_true, Y_pred_all, digits=3))\n",
    "plot_confussion_matrix(Y_true, Y_pred_all)"
   ]
  },
  {
   "cell_type": "code",
   "execution_count": null,
   "id": "5b70b835",
   "metadata": {},
   "outputs": [],
   "source": []
  }
 ],
 "metadata": {
  "kernelspec": {
   "display_name": "Python 3",
   "language": "python",
   "name": "python3"
  },
  "language_info": {
   "codemirror_mode": {
    "name": "ipython",
    "version": 3
   },
   "file_extension": ".py",
   "mimetype": "text/x-python",
   "name": "python",
   "nbconvert_exporter": "python",
   "pygments_lexer": "ipython3",
   "version": "3.8.8"
  }
 },
 "nbformat": 4,
 "nbformat_minor": 5
}
