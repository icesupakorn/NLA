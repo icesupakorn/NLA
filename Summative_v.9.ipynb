{
 "cells": [
  {
   "cell_type": "markdown",
   "id": "75463ead",
   "metadata": {},
   "source": [
    "# COMP42115: Natural Language Analysis\n",
    "## Sumative Assesment: Sentiment Analysis Model"
   ]
  },
  {
   "cell_type": "code",
   "execution_count": 1,
   "id": "97a6f823",
   "metadata": {},
   "outputs": [],
   "source": [
    "# importing the nescessary libraies\n",
    "import pandas as pd\n",
    "import numpy as np\n",
    "import os\n",
    "import matplotlib.pyplot as plt\n",
    "import seaborn as sn\n",
    "\n",
    "\n",
    "%matplotlib inline\n",
    "\n",
    "from bs4 import BeautifulSoup\n",
    "import re\n",
    "import string\n",
    "from gensim.parsing.preprocessing import remove_stopwords\n",
    "\n",
    "from sklearn.feature_extraction.text import CountVectorizer\n",
    "from sklearn.feature_extraction.text import TfidfVectorizer, CountVectorizer\n",
    "from sklearn.model_selection import train_test_split\n",
    "\n",
    "from sklearn import metrics\n",
    "from sklearn.metrics import confusion_matrix,accuracy_score,roc_auc_score,roc_curve,auc,f1_score\n",
    "\n",
    "from imblearn.under_sampling import RandomUnderSampler\n",
    "from scipy.sparse import hstack\n",
    "\n",
    "from sklearn.svm import SVC\n",
    "from sklearn.model_selection import GridSearchCV\n",
    "\n",
    "import tensorflow as tf\n",
    "from tensorflow import keras\n",
    "from scipy.sparse import csr_matrix\n",
    "import torch"
   ]
  },
  {
   "cell_type": "markdown",
   "id": "1de1b65b",
   "metadata": {},
   "source": [
    "### Data preprocessing"
   ]
  },
  {
   "cell_type": "code",
   "execution_count": 2,
   "id": "d62bb757",
   "metadata": {},
   "outputs": [],
   "source": [
    "# random seed\n",
    "seed = 555"
   ]
  },
  {
   "cell_type": "code",
   "execution_count": 3,
   "id": "4b15586e",
   "metadata": {},
   "outputs": [],
   "source": [
    "# loading the dataset\n",
    "body = pd.read_csv('data/train_bodies.csv')\n",
    "stance = pd.read_csv('data/train_stances.csv')"
   ]
  },
  {
   "cell_type": "code",
   "execution_count": 4,
   "id": "c72e710d",
   "metadata": {
    "scrolled": true
   },
   "outputs": [
    {
     "name": "stdout",
     "output_type": "stream",
     "text": [
      "(49972, 3)\n"
     ]
    },
    {
     "data": {
      "text/html": [
       "<div>\n",
       "<style scoped>\n",
       "    .dataframe tbody tr th:only-of-type {\n",
       "        vertical-align: middle;\n",
       "    }\n",
       "\n",
       "    .dataframe tbody tr th {\n",
       "        vertical-align: top;\n",
       "    }\n",
       "\n",
       "    .dataframe thead th {\n",
       "        text-align: right;\n",
       "    }\n",
       "</style>\n",
       "<table border=\"1\" class=\"dataframe\">\n",
       "  <thead>\n",
       "    <tr style=\"text-align: right;\">\n",
       "      <th></th>\n",
       "      <th>Headline</th>\n",
       "      <th>Body ID</th>\n",
       "      <th>Stance</th>\n",
       "    </tr>\n",
       "  </thead>\n",
       "  <tbody>\n",
       "    <tr>\n",
       "      <th>0</th>\n",
       "      <td>Police find mass graves with at least '15 bodi...</td>\n",
       "      <td>712</td>\n",
       "      <td>unrelated</td>\n",
       "    </tr>\n",
       "    <tr>\n",
       "      <th>1</th>\n",
       "      <td>Hundreds of Palestinians flee floods in Gaza a...</td>\n",
       "      <td>158</td>\n",
       "      <td>agree</td>\n",
       "    </tr>\n",
       "    <tr>\n",
       "      <th>2</th>\n",
       "      <td>Christian Bale passes on role of Steve Jobs, a...</td>\n",
       "      <td>137</td>\n",
       "      <td>unrelated</td>\n",
       "    </tr>\n",
       "    <tr>\n",
       "      <th>3</th>\n",
       "      <td>HBO and Apple in Talks for $15/Month Apple TV ...</td>\n",
       "      <td>1034</td>\n",
       "      <td>unrelated</td>\n",
       "    </tr>\n",
       "    <tr>\n",
       "      <th>4</th>\n",
       "      <td>Spider burrowed through tourist's stomach and ...</td>\n",
       "      <td>1923</td>\n",
       "      <td>disagree</td>\n",
       "    </tr>\n",
       "  </tbody>\n",
       "</table>\n",
       "</div>"
      ],
      "text/plain": [
       "                                            Headline  Body ID     Stance\n",
       "0  Police find mass graves with at least '15 bodi...      712  unrelated\n",
       "1  Hundreds of Palestinians flee floods in Gaza a...      158      agree\n",
       "2  Christian Bale passes on role of Steve Jobs, a...      137  unrelated\n",
       "3  HBO and Apple in Talks for $15/Month Apple TV ...     1034  unrelated\n",
       "4  Spider burrowed through tourist's stomach and ...     1923   disagree"
      ]
     },
     "execution_count": 4,
     "metadata": {},
     "output_type": "execute_result"
    }
   ],
   "source": [
    "print(stance.shape)\n",
    "stance.head()"
   ]
  },
  {
   "cell_type": "code",
   "execution_count": 5,
   "id": "563f7979",
   "metadata": {},
   "outputs": [
    {
     "name": "stdout",
     "output_type": "stream",
     "text": [
      "(1683, 2)\n"
     ]
    },
    {
     "data": {
      "text/html": [
       "<div>\n",
       "<style scoped>\n",
       "    .dataframe tbody tr th:only-of-type {\n",
       "        vertical-align: middle;\n",
       "    }\n",
       "\n",
       "    .dataframe tbody tr th {\n",
       "        vertical-align: top;\n",
       "    }\n",
       "\n",
       "    .dataframe thead th {\n",
       "        text-align: right;\n",
       "    }\n",
       "</style>\n",
       "<table border=\"1\" class=\"dataframe\">\n",
       "  <thead>\n",
       "    <tr style=\"text-align: right;\">\n",
       "      <th></th>\n",
       "      <th>Body ID</th>\n",
       "      <th>articleBody</th>\n",
       "    </tr>\n",
       "  </thead>\n",
       "  <tbody>\n",
       "    <tr>\n",
       "      <th>0</th>\n",
       "      <td>0</td>\n",
       "      <td>A small meteorite crashed into a wooded area i...</td>\n",
       "    </tr>\n",
       "    <tr>\n",
       "      <th>1</th>\n",
       "      <td>4</td>\n",
       "      <td>Last week we hinted at what was to come as Ebo...</td>\n",
       "    </tr>\n",
       "    <tr>\n",
       "      <th>2</th>\n",
       "      <td>5</td>\n",
       "      <td>(NEWSER) – Wonder how long a Quarter Pounder w...</td>\n",
       "    </tr>\n",
       "    <tr>\n",
       "      <th>3</th>\n",
       "      <td>6</td>\n",
       "      <td>Posting photos of a gun-toting child online, I...</td>\n",
       "    </tr>\n",
       "    <tr>\n",
       "      <th>4</th>\n",
       "      <td>7</td>\n",
       "      <td>At least 25 suspected Boko Haram insurgents we...</td>\n",
       "    </tr>\n",
       "  </tbody>\n",
       "</table>\n",
       "</div>"
      ],
      "text/plain": [
       "   Body ID                                        articleBody\n",
       "0        0  A small meteorite crashed into a wooded area i...\n",
       "1        4  Last week we hinted at what was to come as Ebo...\n",
       "2        5  (NEWSER) – Wonder how long a Quarter Pounder w...\n",
       "3        6  Posting photos of a gun-toting child online, I...\n",
       "4        7  At least 25 suspected Boko Haram insurgents we..."
      ]
     },
     "execution_count": 5,
     "metadata": {},
     "output_type": "execute_result"
    }
   ],
   "source": [
    "print(body.shape)\n",
    "body.head()"
   ]
  },
  {
   "cell_type": "code",
   "execution_count": 6,
   "id": "25194186",
   "metadata": {
    "scrolled": true
   },
   "outputs": [],
   "source": [
    "# merging the dataset\n",
    "def merge_stance_body(stance, body):\n",
    "    merged_data = pd.merge(stance, body, on='Body ID')\n",
    "    return merged_data\n",
    "\n",
    "df = merge_stance_body(stance, body)"
   ]
  },
  {
   "cell_type": "code",
   "execution_count": 7,
   "id": "73b71d82",
   "metadata": {},
   "outputs": [],
   "source": [
    "# spliting the data into train, test and validation\n",
    "train, test = train_test_split(df, test_size=0.30, random_state=seed)\n",
    "train, val = train_test_split(train, test_size=0.20, random_state=seed)"
   ]
  },
  {
   "cell_type": "code",
   "execution_count": 8,
   "id": "bfd27ff1",
   "metadata": {
    "scrolled": false
   },
   "outputs": [
    {
     "name": "stdout",
     "output_type": "stream",
     "text": [
      "(27984, 4)\n"
     ]
    },
    {
     "data": {
      "text/html": [
       "<div>\n",
       "<style scoped>\n",
       "    .dataframe tbody tr th:only-of-type {\n",
       "        vertical-align: middle;\n",
       "    }\n",
       "\n",
       "    .dataframe tbody tr th {\n",
       "        vertical-align: top;\n",
       "    }\n",
       "\n",
       "    .dataframe thead th {\n",
       "        text-align: right;\n",
       "    }\n",
       "</style>\n",
       "<table border=\"1\" class=\"dataframe\">\n",
       "  <thead>\n",
       "    <tr style=\"text-align: right;\">\n",
       "      <th></th>\n",
       "      <th>Headline</th>\n",
       "      <th>Body ID</th>\n",
       "      <th>Stance</th>\n",
       "      <th>articleBody</th>\n",
       "    </tr>\n",
       "  </thead>\n",
       "  <tbody>\n",
       "    <tr>\n",
       "      <th>23952</th>\n",
       "      <td>Media outlets identify 'Jihadi John'</td>\n",
       "      <td>1346</td>\n",
       "      <td>discuss</td>\n",
       "      <td>THE ISLAMIC State murderer dubbed 'Jihadi John...</td>\n",
       "    </tr>\n",
       "    <tr>\n",
       "      <th>34151</th>\n",
       "      <td>Rats at Vogue's NYC offices - watch your step,...</td>\n",
       "      <td>2498</td>\n",
       "      <td>agree</td>\n",
       "      <td>In case you missed it, Vogue Magazine, one of ...</td>\n",
       "    </tr>\n",
       "    <tr>\n",
       "      <th>33468</th>\n",
       "      <td>US drones hunt Isis leader in Syria</td>\n",
       "      <td>2443</td>\n",
       "      <td>discuss</td>\n",
       "      <td>There have been reports of predator drones bei...</td>\n",
       "    </tr>\n",
       "    <tr>\n",
       "      <th>43150</th>\n",
       "      <td>Apple Watch Gold Edition may cost as much as $...</td>\n",
       "      <td>2471</td>\n",
       "      <td>unrelated</td>\n",
       "      <td>Gill Rosenberg is reported to have been captur...</td>\n",
       "    </tr>\n",
       "    <tr>\n",
       "      <th>36227</th>\n",
       "      <td>HBO and Apple in Talks for $15/Month Apple TV ...</td>\n",
       "      <td>516</td>\n",
       "      <td>unrelated</td>\n",
       "      <td>A married Russian TV star woke up one day to d...</td>\n",
       "    </tr>\n",
       "  </tbody>\n",
       "</table>\n",
       "</div>"
      ],
      "text/plain": [
       "                                                Headline  Body ID     Stance  \\\n",
       "23952               Media outlets identify 'Jihadi John'     1346    discuss   \n",
       "34151  Rats at Vogue's NYC offices - watch your step,...     2498      agree   \n",
       "33468                US drones hunt Isis leader in Syria     2443    discuss   \n",
       "43150  Apple Watch Gold Edition may cost as much as $...     2471  unrelated   \n",
       "36227  HBO and Apple in Talks for $15/Month Apple TV ...      516  unrelated   \n",
       "\n",
       "                                             articleBody  \n",
       "23952  THE ISLAMIC State murderer dubbed 'Jihadi John...  \n",
       "34151  In case you missed it, Vogue Magazine, one of ...  \n",
       "33468  There have been reports of predator drones bei...  \n",
       "43150  Gill Rosenberg is reported to have been captur...  \n",
       "36227  A married Russian TV star woke up one day to d...  "
      ]
     },
     "execution_count": 8,
     "metadata": {},
     "output_type": "execute_result"
    }
   ],
   "source": [
    "print(train.shape)\n",
    "train.head()"
   ]
  },
  {
   "cell_type": "code",
   "execution_count": 9,
   "id": "90aee1cd",
   "metadata": {},
   "outputs": [
    {
     "name": "stdout",
     "output_type": "stream",
     "text": [
      "(6996, 4)\n"
     ]
    },
    {
     "data": {
      "text/html": [
       "<div>\n",
       "<style scoped>\n",
       "    .dataframe tbody tr th:only-of-type {\n",
       "        vertical-align: middle;\n",
       "    }\n",
       "\n",
       "    .dataframe tbody tr th {\n",
       "        vertical-align: top;\n",
       "    }\n",
       "\n",
       "    .dataframe thead th {\n",
       "        text-align: right;\n",
       "    }\n",
       "</style>\n",
       "<table border=\"1\" class=\"dataframe\">\n",
       "  <thead>\n",
       "    <tr style=\"text-align: right;\">\n",
       "      <th></th>\n",
       "      <th>Headline</th>\n",
       "      <th>Body ID</th>\n",
       "      <th>Stance</th>\n",
       "      <th>articleBody</th>\n",
       "    </tr>\n",
       "  </thead>\n",
       "  <tbody>\n",
       "    <tr>\n",
       "      <th>16486</th>\n",
       "      <td>US officials: Video shows American's execution</td>\n",
       "      <td>298</td>\n",
       "      <td>unrelated</td>\n",
       "      <td>Although Canadian police have not released the...</td>\n",
       "    </tr>\n",
       "    <tr>\n",
       "      <th>33030</th>\n",
       "      <td>Isilkulskom student has gained superhero power...</td>\n",
       "      <td>1503</td>\n",
       "      <td>unrelated</td>\n",
       "      <td>The internet is buzzing this morning with news...</td>\n",
       "    </tr>\n",
       "    <tr>\n",
       "      <th>18150</th>\n",
       "      <td>Iraqi social-media rumors claim IS leader slain</td>\n",
       "      <td>1631</td>\n",
       "      <td>unrelated</td>\n",
       "      <td>This is Sergeant-at-Arms Kevin Vickers who rep...</td>\n",
       "    </tr>\n",
       "    <tr>\n",
       "      <th>24707</th>\n",
       "      <td>Report: Israeli-Canadian woman fighting Islami...</td>\n",
       "      <td>2002</td>\n",
       "      <td>unrelated</td>\n",
       "      <td>BAGHDAD — Three hundred Iraqi soldiers died in...</td>\n",
       "    </tr>\n",
       "    <tr>\n",
       "      <th>2712</th>\n",
       "      <td>Pope Francis turns out not to have made pets i...</td>\n",
       "      <td>1905</td>\n",
       "      <td>disagree</td>\n",
       "      <td>NEW YORK — Pope Francis has given hope to gays...</td>\n",
       "    </tr>\n",
       "  </tbody>\n",
       "</table>\n",
       "</div>"
      ],
      "text/plain": [
       "                                                Headline  Body ID     Stance  \\\n",
       "16486     US officials: Video shows American's execution      298  unrelated   \n",
       "33030  Isilkulskom student has gained superhero power...     1503  unrelated   \n",
       "18150    Iraqi social-media rumors claim IS leader slain     1631  unrelated   \n",
       "24707  Report: Israeli-Canadian woman fighting Islami...     2002  unrelated   \n",
       "2712   Pope Francis turns out not to have made pets i...     1905   disagree   \n",
       "\n",
       "                                             articleBody  \n",
       "16486  Although Canadian police have not released the...  \n",
       "33030  The internet is buzzing this morning with news...  \n",
       "18150  This is Sergeant-at-Arms Kevin Vickers who rep...  \n",
       "24707  BAGHDAD — Three hundred Iraqi soldiers died in...  \n",
       "2712   NEW YORK — Pope Francis has given hope to gays...  "
      ]
     },
     "execution_count": 9,
     "metadata": {},
     "output_type": "execute_result"
    }
   ],
   "source": [
    "print(val.shape)\n",
    "val.head()"
   ]
  },
  {
   "cell_type": "code",
   "execution_count": 10,
   "id": "51bcfa0e",
   "metadata": {
    "scrolled": true
   },
   "outputs": [
    {
     "name": "stdout",
     "output_type": "stream",
     "text": [
      "(14992, 4)\n"
     ]
    },
    {
     "data": {
      "text/html": [
       "<div>\n",
       "<style scoped>\n",
       "    .dataframe tbody tr th:only-of-type {\n",
       "        vertical-align: middle;\n",
       "    }\n",
       "\n",
       "    .dataframe tbody tr th {\n",
       "        vertical-align: top;\n",
       "    }\n",
       "\n",
       "    .dataframe thead th {\n",
       "        text-align: right;\n",
       "    }\n",
       "</style>\n",
       "<table border=\"1\" class=\"dataframe\">\n",
       "  <thead>\n",
       "    <tr style=\"text-align: right;\">\n",
       "      <th></th>\n",
       "      <th>Headline</th>\n",
       "      <th>Body ID</th>\n",
       "      <th>Stance</th>\n",
       "      <th>articleBody</th>\n",
       "    </tr>\n",
       "  </thead>\n",
       "  <tbody>\n",
       "    <tr>\n",
       "      <th>38740</th>\n",
       "      <td>Militant Group Says It Killed American Journal...</td>\n",
       "      <td>2261</td>\n",
       "      <td>unrelated</td>\n",
       "      <td>From the midweek edition of the Morning Jolt:\\...</td>\n",
       "    </tr>\n",
       "    <tr>\n",
       "      <th>13806</th>\n",
       "      <td>Michael Zehaf-Bibeau, slain Ottawa shooter, ha...</td>\n",
       "      <td>186</td>\n",
       "      <td>unrelated</td>\n",
       "      <td>The sound of 10 or 11 shots from the gun of Fe...</td>\n",
       "    </tr>\n",
       "    <tr>\n",
       "      <th>7047</th>\n",
       "      <td>REPORT: Alleged New Audio of Michael Brown Sho...</td>\n",
       "      <td>345</td>\n",
       "      <td>unrelated</td>\n",
       "      <td>UTAH COUNTY — Over the years, holiday office C...</td>\n",
       "    </tr>\n",
       "    <tr>\n",
       "      <th>14746</th>\n",
       "      <td>Kim Jong-un Broke Both Ankles and Is Hospitali...</td>\n",
       "      <td>859</td>\n",
       "      <td>discuss</td>\n",
       "      <td>Kim Jong-Un had ankle surgery and is now recov...</td>\n",
       "    </tr>\n",
       "    <tr>\n",
       "      <th>49782</th>\n",
       "      <td>Report: Amazon to Launch Ad-Supported Streamin...</td>\n",
       "      <td>2442</td>\n",
       "      <td>unrelated</td>\n",
       "      <td>Google leased all 1.9 million square feet of M...</td>\n",
       "    </tr>\n",
       "  </tbody>\n",
       "</table>\n",
       "</div>"
      ],
      "text/plain": [
       "                                                Headline  Body ID     Stance  \\\n",
       "38740  Militant Group Says It Killed American Journal...     2261  unrelated   \n",
       "13806  Michael Zehaf-Bibeau, slain Ottawa shooter, ha...      186  unrelated   \n",
       "7047   REPORT: Alleged New Audio of Michael Brown Sho...      345  unrelated   \n",
       "14746  Kim Jong-un Broke Both Ankles and Is Hospitali...      859    discuss   \n",
       "49782  Report: Amazon to Launch Ad-Supported Streamin...     2442  unrelated   \n",
       "\n",
       "                                             articleBody  \n",
       "38740  From the midweek edition of the Morning Jolt:\\...  \n",
       "13806  The sound of 10 or 11 shots from the gun of Fe...  \n",
       "7047   UTAH COUNTY — Over the years, holiday office C...  \n",
       "14746  Kim Jong-Un had ankle surgery and is now recov...  \n",
       "49782  Google leased all 1.9 million square feet of M...  "
      ]
     },
     "execution_count": 10,
     "metadata": {},
     "output_type": "execute_result"
    }
   ],
   "source": [
    "print(test.shape)\n",
    "test.head()"
   ]
  },
  {
   "cell_type": "code",
   "execution_count": 12,
   "id": "e6754290",
   "metadata": {},
   "outputs": [],
   "source": [
    "# spliting the data into X, Y\n",
    "def split(data):\n",
    "    X = data.drop(['Body ID','Stance'], axis=1)\n",
    "    Y = data['Stance']\n",
    "    return X,Y\n",
    "\n",
    "X_train, Y_train = split(train)\n",
    "X_val, Y_val = split(val)\n",
    "X_test, Y_test = split(test)"
   ]
  },
  {
   "cell_type": "code",
   "execution_count": 13,
   "id": "10730c86",
   "metadata": {},
   "outputs": [],
   "source": [
    "# cleaning texts\n",
    "def clean_text(text):\n",
    "    text = BeautifulSoup(text, \"lxml\").text\n",
    "    text = text.replace('\\n','')\n",
    "    text = text.translate(str.maketrans('', '', string.punctuation))\n",
    "    text = re.sub(r'\\|\\|\\|', r' ', text) \n",
    "    text = re.sub(r'http\\S+', r'<URL>', text)\n",
    "    text = text.lower()\n",
    "    text = text.replace('x', '')\n",
    "    text = remove_stopwords(text)\n",
    "    return text"
   ]
  },
  {
   "cell_type": "code",
   "execution_count": 14,
   "id": "e5eeb2db",
   "metadata": {},
   "outputs": [],
   "source": [
    "def clean_data(data):\n",
    "    data['Headline'] = [clean_text(i) for i in data['Headline']]\n",
    "    data['articleBody'] = [clean_text(i) for i in data['articleBody']]\n",
    "    return data\n",
    "\n",
    "X_train = clean_data(X_train)\n",
    "X_val = clean_data(X_val)\n",
    "X_test = clean_data(X_test)"
   ]
  },
  {
   "cell_type": "code",
   "execution_count": 14,
   "id": "a9b253dd",
   "metadata": {},
   "outputs": [
    {
     "data": {
      "text/html": [
       "<div>\n",
       "<style scoped>\n",
       "    .dataframe tbody tr th:only-of-type {\n",
       "        vertical-align: middle;\n",
       "    }\n",
       "\n",
       "    .dataframe tbody tr th {\n",
       "        vertical-align: top;\n",
       "    }\n",
       "\n",
       "    .dataframe thead th {\n",
       "        text-align: right;\n",
       "    }\n",
       "</style>\n",
       "<table border=\"1\" class=\"dataframe\">\n",
       "  <thead>\n",
       "    <tr style=\"text-align: right;\">\n",
       "      <th></th>\n",
       "      <th>Headline</th>\n",
       "      <th>articleBody</th>\n",
       "    </tr>\n",
       "  </thead>\n",
       "  <tbody>\n",
       "    <tr>\n",
       "      <th>23952</th>\n",
       "      <td>media outlets identify jihadi john</td>\n",
       "      <td>islamic state murderer dubbed jihadi john name...</td>\n",
       "    </tr>\n",
       "    <tr>\n",
       "      <th>34151</th>\n",
       "      <td>rats vogues nyc offices watch step anna wintour</td>\n",
       "      <td>case missed vogue magazine glamorous instituti...</td>\n",
       "    </tr>\n",
       "    <tr>\n",
       "      <th>33468</th>\n",
       "      <td>drones hunt isis leader syria</td>\n",
       "      <td>reports predator drones launched iraq reports ...</td>\n",
       "    </tr>\n",
       "    <tr>\n",
       "      <th>43150</th>\n",
       "      <td>apple watch gold edition cost 5000</td>\n",
       "      <td>gill rosenberg reported captured women fightin...</td>\n",
       "    </tr>\n",
       "    <tr>\n",
       "      <th>36227</th>\n",
       "      <td>hbo apple talks 15month apple tv streaming ser...</td>\n",
       "      <td>married russian tv star woke day discover test...</td>\n",
       "    </tr>\n",
       "  </tbody>\n",
       "</table>\n",
       "</div>"
      ],
      "text/plain": [
       "                                                Headline  \\\n",
       "23952                 media outlets identify jihadi john   \n",
       "34151    rats vogues nyc offices watch step anna wintour   \n",
       "33468                      drones hunt isis leader syria   \n",
       "43150                 apple watch gold edition cost 5000   \n",
       "36227  hbo apple talks 15month apple tv streaming ser...   \n",
       "\n",
       "                                             articleBody  \n",
       "23952  islamic state murderer dubbed jihadi john name...  \n",
       "34151  case missed vogue magazine glamorous instituti...  \n",
       "33468  reports predator drones launched iraq reports ...  \n",
       "43150  gill rosenberg reported captured women fightin...  \n",
       "36227  married russian tv star woke day discover test...  "
      ]
     },
     "execution_count": 14,
     "metadata": {},
     "output_type": "execute_result"
    }
   ],
   "source": [
    "X_train.head()"
   ]
  },
  {
   "cell_type": "markdown",
   "id": "fa4ad314",
   "metadata": {},
   "source": [
    "### Task 1 preparation"
   ]
  },
  {
   "cell_type": "code",
   "execution_count": 15,
   "id": "c2811ed2",
   "metadata": {
    "scrolled": true
   },
   "outputs": [
    {
     "data": {
      "text/plain": [
       "unrelated    20460\n",
       "discuss       4993\n",
       "agree         2057\n",
       "disagree       474\n",
       "Name: Stance, dtype: int64"
      ]
     },
     "execution_count": 15,
     "metadata": {},
     "output_type": "execute_result"
    },
    {
     "data": {
      "image/png": "[encoded data removed]",
      "text/plain": [
       "<Figure size 432x288 with 1 Axes>"
      ]
     },
     "metadata": {
      "needs_background": "light"
     },
     "output_type": "display_data"
    }
   ],
   "source": [
    "# plotting out the classes\n",
    "sn.countplot(data=train, x='Stance')\n",
    "train['Stance'].value_counts()"
   ]
  },
  {
   "cell_type": "code",
   "execution_count": 16,
   "id": "537eaa52",
   "metadata": {},
   "outputs": [],
   "source": [
    "# replacing agree, disagree, and discuss with related\n",
    "def get_relation(y):\n",
    "    related = {'agree': 1,\n",
    "               'discuss': 1,\n",
    "               'disagree': 1,\n",
    "               'unrelated': 0}\n",
    "    y = y.replace(related)\n",
    "    return y\n",
    "\n",
    "Y_train = get_relation(Y_train)\n",
    "Y_val = get_relation(Y_val)\n",
    "Y_test = get_relation(Y_test)"
   ]
  },
  {
   "cell_type": "code",
   "execution_count": 17,
   "id": "d2bcb4f1",
   "metadata": {
    "scrolled": false
   },
   "outputs": [
    {
     "data": {
      "text/plain": [
       "0    20460\n",
       "1     7524\n",
       "Name: Stance, dtype: int64"
      ]
     },
     "execution_count": 17,
     "metadata": {},
     "output_type": "execute_result"
    },
    {
     "data": {
      "image/png": "[encoded data removed]",
      "text/plain": [
       "<Figure size 432x288 with 1 Axes>"
      ]
     },
     "metadata": {
      "needs_background": "light"
     },
     "output_type": "display_data"
    }
   ],
   "source": [
    "# plotting out the modified classes\n",
    "sn.countplot(x=Y_train)\n",
    "Y_train.value_counts()"
   ]
  },
  {
   "cell_type": "code",
   "execution_count": 18,
   "id": "805556f2",
   "metadata": {
    "scrolled": true
   },
   "outputs": [],
   "source": [
    "# using random under samplier to resample the dataset\n",
    "rus = RandomUnderSampler(sampling_strategy='not minority', random_state=seed)\n",
    "X_train, Y_train = rus.fit_resample(X_train, Y_train)\n",
    "temp_df = X_train\n",
    "temp_df['Stance'] = Y_train\n",
    "temp_df = temp_df.sample(frac=1, random_state=seed)\n",
    "X_train = temp_df.drop(['Stance'], axis=1)\n",
    "Y_train = temp_df['Stance']"
   ]
  },
  {
   "cell_type": "code",
   "execution_count": 19,
   "id": "604773e4",
   "metadata": {},
   "outputs": [
    {
     "data": {
      "text/plain": [
       "0    7524\n",
       "1    7524\n",
       "Name: Stance, dtype: int64"
      ]
     },
     "execution_count": 19,
     "metadata": {},
     "output_type": "execute_result"
    },
    {
     "data": {
      "image/png": "[encoded data removed]",
      "text/plain": [
       "<Figure size 432x288 with 1 Axes>"
      ]
     },
     "metadata": {
      "needs_background": "light"
     },
     "output_type": "display_data"
    }
   ],
   "source": [
    "# checking for classes count again\n",
    "sn.countplot(x=Y_train)\n",
    "Y_train.value_counts()"
   ]
  },
  {
   "cell_type": "markdown",
   "id": "8362db16",
   "metadata": {},
   "source": [
    "### TFIDF vecterisation"
   ]
  },
  {
   "cell_type": "code",
   "execution_count": 74,
   "id": "d6e31e7e",
   "metadata": {
    "scrolled": true
   },
   "outputs": [
    {
     "data": {
      "text/plain": [
       "TfidfVectorizer(decode_error='ignore', max_features=500, min_df=2)"
      ]
     },
     "execution_count": 74,
     "metadata": {},
     "output_type": "execute_result"
    }
   ],
   "source": [
    "# training tfidf vectoriser\n",
    "tfidf_vec = pd.concat([X_test['articleBody'], X_train['articleBody']])\n",
    "tfidf = TfidfVectorizer(decode_error='ignore', lowercase = True, min_df=2, max_features=500)\n",
    "tfidf.fit(tfidf_vec)"
   ]
  },
  {
   "cell_type": "code",
   "execution_count": 75,
   "id": "d24eaa32",
   "metadata": {
    "scrolled": true
   },
   "outputs": [
    {
     "name": "stdout",
     "output_type": "stream",
     "text": [
      "['state' 'groups' 'woods' 'appears' 'came' 'september' 'arrested' 'staff'\n",
      " 'known' 'york' 'officer' 'comment' 'children' 'staff' 'claim' 'they'\n",
      " 'carried' 'wanted' 'amazon' 'wearing' 'blumenthal' 'later' '20'\n",
      " 'hostages' 'dog' 'kobani' 'woods' 'spoke' 'he' 'caught' 'second'\n",
      " 'possible' 'called' 'middle' 'white' 'president' 'held' 'youtube'\n",
      " 'interview' 'love' 'daily' 'media' 'launch' 'took' 'man' 'air'\n",
      " 'statement' 'francis' 'mosul' 'rumors']\n"
     ]
    },
    {
     "name": "stderr",
     "output_type": "stream",
     "text": [
      "C:\\Users\\Ice\\anaconda3\\lib\\site-packages\\sklearn\\utils\\deprecation.py:87: FutureWarning: Function get_feature_names is deprecated; get_feature_names is deprecated in 1.0 and will be removed in 1.2. Please use get_feature_names_out instead.\n",
      "  warnings.warn(msg, category=FutureWarning)\n"
     ]
    }
   ],
   "source": [
    "# selecting random words from tfidf dictionary\n",
    "dictionary = np.asarray(tfidf.get_feature_names())\n",
    "print(dictionary[np.random.randint(0,len(dictionary),size=50)])"
   ]
  },
  {
   "cell_type": "code",
   "execution_count": 76,
   "id": "51b9caba",
   "metadata": {},
   "outputs": [],
   "source": [
    "# transfroming data into vectors by stacking 2 tfidfs vectors, to differentiate headline from body\n",
    "def stack_tfidf(X):\n",
    "    header_tfidf = tfidf.transform(X['Headline'].values.astype('U'))\n",
    "    body_tfidf = tfidf.transform(X['articleBody'].values.astype('U'))\n",
    "    stacked_tfidf = hstack([header_tfidf, body_tfidf])\n",
    "    return stacked_tfidf\n",
    "\n",
    "X_train_tfidf = stack_tfidf(X_train)\n",
    "X_val_tfidf = stack_tfidf(X_val)\n",
    "X_test_tfidf = stack_tfidf(X_test)"
   ]
  },
  {
   "cell_type": "code",
   "execution_count": 77,
   "id": "53e7142f",
   "metadata": {},
   "outputs": [
    {
     "name": "stdout",
     "output_type": "stream",
     "text": [
      "tfidf_size: (14992, 2)\n"
     ]
    }
   ],
   "source": [
    "tfidf_size = X_test.shape\n",
    "print('tfidf_size:', tfidf_size)"
   ]
  },
  {
   "cell_type": "markdown",
   "id": "86bdb98d",
   "metadata": {},
   "source": [
    "### preparting the scoring model"
   ]
  },
  {
   "cell_type": "code",
   "execution_count": 78,
   "id": "c517e4a0",
   "metadata": {},
   "outputs": [],
   "source": [
    "# creating the confussion matrix\n",
    "def plot_confussion_matrix(y_test, y_pred):\n",
    "    cm = confusion_matrix(y_test, y_pred)\n",
    "    df_cm = pd.DataFrame(cm, range(cm.shape[0]),\n",
    "                  range(cm.shape[1]))\n",
    "    sn.set(font_scale=1.4)\n",
    "    sn.heatmap(df_cm, annot=True,fmt='.0f',cmap=\"YlGnBu\",annot_kws={\"size\": 10})# font size\n",
    "    plt.show()"
   ]
  },
  {
   "cell_type": "code",
   "execution_count": 79,
   "id": "568ff471",
   "metadata": {},
   "outputs": [],
   "source": [
    "# creating the ROC Curve\n",
    "def plot_roc_curve(y_test, y_pred):\n",
    "    fpr, tpr, thresholds = roc_curve(y_test, y_pred, pos_label=1)\n",
    "    roc_auc= auc(fpr,tpr)\n",
    "    plt.figure(figsize=(12, 12))\n",
    "    ax = plt.subplot(121)\n",
    "    ax.set_aspect(1)\n",
    "    \n",
    "    plt.title('Receiver Operating Characteristic')\n",
    "    plt.plot(fpr, tpr, 'b', label = 'AUC = %0.2f' % roc_auc)\n",
    "    plt.legend(loc = 'lower right')\n",
    "    plt.plot([0, 1], [0, 1],'r--')\n",
    "    plt.xlim([0, 1])\n",
    "    plt.ylim([0, 1])\n",
    "    plt.ylabel('True Positive Rate')\n",
    "    plt.xlabel('False Positive Rate')\n",
    "    plt.show()"
   ]
  },
  {
   "cell_type": "markdown",
   "id": "d9c45767",
   "metadata": {},
   "source": [
    "### a.1.1: TDIF-SVM"
   ]
  },
  {
   "cell_type": "code",
   "execution_count": 80,
   "id": "bb6b3ce7",
   "metadata": {},
   "outputs": [
    {
     "data": {
      "text/plain": [
       "GridSearchCV(cv=3, estimator=SVC(), n_jobs=-1,\n",
       "             param_grid={'C': [1.0, 10], 'gamma': [1, 'auto']})"
      ]
     },
     "execution_count": 80,
     "metadata": {},
     "output_type": "execute_result"
    }
   ],
   "source": [
    "# building the SVM model\n",
    "parameters = { \n",
    "    'C': [1.0, 10],\n",
    "    'gamma': [1, 'auto']}\n",
    "model = GridSearchCV(SVC(kernel='rbf'), parameters, cv=3, n_jobs=-1)\n",
    "model.fit(X_train_tfidf, Y_train)"
   ]
  },
  {
   "cell_type": "code",
   "execution_count": 81,
   "id": "1430e3c6",
   "metadata": {},
   "outputs": [
    {
     "data": {
      "text/plain": [
       "{'C': 10, 'gamma': 1}"
      ]
     },
     "execution_count": 81,
     "metadata": {},
     "output_type": "execute_result"
    }
   ],
   "source": [
    "# gridsearch parameter results\n",
    "model = model.best_params_"
   ]
  },
  {
   "cell_type": "code",
   "execution_count": 82,
   "id": "c3927bdc",
   "metadata": {},
   "outputs": [],
   "source": [
    "model = model.best_estimator_"
   ]
  },
  {
   "cell_type": "code",
   "execution_count": 83,
   "id": "7cbf5ce6",
   "metadata": {},
   "outputs": [
    {
     "name": "stdout",
     "output_type": "stream",
     "text": [
      "              precision    recall  f1-score   support\n",
      "\n",
      "           0       0.99      0.97      0.98     10956\n",
      "           1       0.91      0.96      0.94      4036\n",
      "\n",
      "    accuracy                           0.97     14992\n",
      "   macro avg       0.95      0.97      0.96     14992\n",
      "weighted avg       0.97      0.97      0.97     14992\n",
      "\n"
     ]
    },
    {
     "data": {
      "image/png": "[encoded data removed]",
      "text/plain": [
       "<Figure size 432x288 with 2 Axes>"
      ]
     },
     "metadata": {},
     "output_type": "display_data"
    },
    {
     "data": {
      "image/png": "[encoded data removed]",
      "text/plain": [
       "<Figure size 864x864 with 1 Axes>"
      ]
     },
     "metadata": {},
     "output_type": "display_data"
    }
   ],
   "source": [
    "# predicting the test data\n",
    "Y_svm = model.predict(X_test_tfidf)\n",
    "print(metrics.classification_report(Y_test, Y_svm))\n",
    "plot_confussion_matrix(Y_test, Y_svm)\n",
    "plot_roc_curve(Y_test, Y_svm)"
   ]
  },
  {
   "cell_type": "markdown",
   "id": "169a1882",
   "metadata": {},
   "source": [
    "### a.2.1: TFIDF-LSTM"
   ]
  },
  {
   "cell_type": "code",
   "execution_count": 84,
   "id": "47ffda4d",
   "metadata": {},
   "outputs": [],
   "source": [
    "def prepare_lstm_tfidf(x):\n",
    "    header_tfidf = tfidf.transform(x['Headline'].values.astype('U'))\n",
    "    body_tfidf = tfidf.transform(x['articleBody'].values.astype('U'))\n",
    "    header_tfidf = header_tfidf.toarray()\n",
    "    body_tfidf = body_tfidf.toarray()\n",
    "    output = np.stack((header_tfidf, body_tfidf), axis=1)\n",
    "    return output"
   ]
  },
  {
   "cell_type": "code",
   "execution_count": 85,
   "id": "6618fc7b",
   "metadata": {},
   "outputs": [],
   "source": [
    "X_tf_ls_train = prepare_lstm_tfidf(X_train)\n",
    "X_tf_ls_val = prepare_lstm_tfidf(X_val)\n",
    "X_tf_ls_test = prepare_lstm_tfidf(X_test)"
   ]
  },
  {
   "cell_type": "code",
   "execution_count": 86,
   "id": "35685a8f",
   "metadata": {},
   "outputs": [],
   "source": [
    "Y_train = np.array(Y_train)\n",
    "Y_val = np.array(Y_val)\n",
    "Y_test = np.array(Y_test)"
   ]
  },
  {
   "cell_type": "code",
   "execution_count": 87,
   "id": "39a71eb2",
   "metadata": {},
   "outputs": [
    {
     "data": {
      "text/plain": [
       "(15048, 2, 500)"
      ]
     },
     "execution_count": 87,
     "metadata": {},
     "output_type": "execute_result"
    }
   ],
   "source": [
    "# input now transformed into 3-d array\n",
    "X_tf_ls_train.shape"
   ]
  },
  {
   "cell_type": "code",
   "execution_count": 88,
   "id": "e9e0edf5",
   "metadata": {},
   "outputs": [
    {
     "data": {
      "text/plain": [
       "(15048,)"
      ]
     },
     "execution_count": 88,
     "metadata": {},
     "output_type": "execute_result"
    }
   ],
   "source": [
    "Y_train.shape"
   ]
  },
  {
   "cell_type": "code",
   "execution_count": 98,
   "id": "2287fc19",
   "metadata": {},
   "outputs": [
    {
     "name": "stdout",
     "output_type": "stream",
     "text": [
      "Epoch 1/4\n",
      "7524/7524 [==============================] - 87s 12ms/step - loss: 0.5902 - accuracy: 0.6335 - val_loss: 0.5048 - val_accuracy: 0.7041\n",
      "Epoch 2/4\n",
      "7524/7524 [==============================] - 87s 12ms/step - loss: 0.4773 - accuracy: 0.7099 - val_loss: 0.5043 - val_accuracy: 0.6599\n",
      "Epoch 3/4\n",
      "7524/7524 [==============================] - 87s 12ms/step - loss: 0.4280 - accuracy: 0.7443 - val_loss: 0.4401 - val_accuracy: 0.7254\n",
      "Epoch 4/4\n",
      "7524/7524 [==============================] - 88s 12ms/step - loss: 0.4004 - accuracy: 0.7575 - val_loss: 0.4127 - val_accuracy: 0.7575\n"
     ]
    },
    {
     "data": {
      "image/png": "[encoded data removed]",
      "text/plain": [
       "<Figure size 576x360 with 1 Axes>"
      ]
     },
     "metadata": {},
     "output_type": "display_data"
    }
   ],
   "source": [
    "# creating an lstm model on Keras without the embedding layer\n",
    "# the model bypass the embedding layer and take input directly from the tfidf vecter\n",
    "keras.backend.clear_session()\n",
    "np.random.seed(seed)\n",
    "tf.random.set_seed(seed)\n",
    "\n",
    "model2 = keras.models.Sequential()\n",
    "model2.add(keras.layers.LSTM(500,\n",
    "                            input_shape=(None, 500),\n",
    "                            return_sequences=True))\n",
    "model2.add(keras.layers.Dropout(0.2))\n",
    "model2.add(keras.layers.Dense(1, activation='sigmoid'))\n",
    "model2.compile(\n",
    "    loss='binary_crossentropy', \n",
    "    optimizer='adam', \n",
    "    metrics = ['accuracy'])\n",
    "model2.fit(X_tf_ls_train, Y_train, \n",
    "           validation_data=(X_tf_ls_val, Y_val),\n",
    "           epochs=4, batch_size=2, verbose=1)"
   ]
  },
  {
   "cell_type": "code",
   "execution_count": 99,
   "id": "e37da159",
   "metadata": {},
   "outputs": [],
   "source": [
    "# predicting the test data\n",
    "Y_lstm = model2.predict(X_tf_ls_test)"
   ]
  },
  {
   "cell_type": "code",
   "execution_count": 100,
   "id": "e3e7838d",
   "metadata": {},
   "outputs": [],
   "source": [
    "Y_lstm = Y_lstm.mean(axis=1)\n",
    "Y_lstm = np.rint(Y_lstm)"
   ]
  },
  {
   "cell_type": "code",
   "execution_count": 101,
   "id": "797cee8b",
   "metadata": {},
   "outputs": [
    {
     "name": "stdout",
     "output_type": "stream",
     "text": [
      "              precision    recall  f1-score   support\n",
      "\n",
      "           0      0.963     0.951     0.957     10956\n",
      "           1      0.872     0.900     0.886      4036\n",
      "\n",
      "    accuracy                          0.938     14992\n",
      "   macro avg      0.918     0.926     0.922     14992\n",
      "weighted avg      0.938     0.938     0.938     14992\n",
      "\n"
     ]
    },
    {
     "data": {
      "image/png": "[encoded data removed]",
      "text/plain": [
       "<Figure size 432x288 with 2 Axes>"
      ]
     },
     "metadata": {},
     "output_type": "display_data"
    },
    {
     "data": {
      "image/png": "[encoded data removed]",
      "text/plain": [
       "<Figure size 864x864 with 1 Axes>"
      ]
     },
     "metadata": {},
     "output_type": "display_data"
    }
   ],
   "source": [
    "# model results\n",
    "print(metrics.classification_report(Y_test, Y_lstm.reshape(len(Y_lstm)), digits=3))\n",
    "plot_confussion_matrix(Y_test, Y_lstm.reshape(len(Y_lstm)))\n",
    "plot_roc_curve(Y_test, Y_lstm.reshape(len(Y_lstm)))"
   ]
  },
  {
   "cell_type": "markdown",
   "id": "ec9c78cf",
   "metadata": {},
   "source": [
    "### a.1.2: Bert-SVM"
   ]
  },
  {
   "cell_type": "code",
   "execution_count": 102,
   "id": "c07df393",
   "metadata": {
    "scrolled": true
   },
   "outputs": [
    {
     "data": {
      "application/vnd.jupyter.widget-view+json": {
       "model_id": "e180060b22fc49c3b3d0564159e55d00",
       "version_major": 2,
       "version_minor": 0
      },
      "text/plain": [
       "Downloading:   0%|          | 0.00/483 [00:00<?, ?B/s]"
      ]
     },
     "metadata": {},
     "output_type": "display_data"
    },
    {
     "name": "stderr",
     "output_type": "stream",
     "text": [
      "You are using a model of type distilbert to instantiate a model of type bert. This is not supported for all configurations of models and can yield errors.\n"
     ]
    },
    {
     "data": {
      "application/vnd.jupyter.widget-view+json": {
       "model_id": "d142d88292614014bb0b96f53cce24ae",
       "version_major": 2,
       "version_minor": 0
      },
      "text/plain": [
       "Downloading:   0%|          | 0.00/256M [00:00<?, ?B/s]"
      ]
     },
     "metadata": {},
     "output_type": "display_data"
    },
    {
     "name": "stderr",
     "output_type": "stream",
     "text": [
      "Some weights of the model checkpoint at distilbert-base-uncased were not used when initializing BertModel: ['distilbert.transformer.layer.0.attention.out_lin.bias', 'distilbert.transformer.layer.3.attention.v_lin.weight', 'distilbert.transformer.layer.2.attention.out_lin.bias', 'distilbert.transformer.layer.4.sa_layer_norm.bias', 'distilbert.transformer.layer.5.sa_layer_norm.bias', 'distilbert.transformer.layer.5.output_layer_norm.bias', 'vocab_projector.weight', 'distilbert.transformer.layer.3.attention.out_lin.bias', 'distilbert.embeddings.position_embeddings.weight', 'distilbert.transformer.layer.2.output_layer_norm.weight', 'distilbert.transformer.layer.1.attention.k_lin.weight', 'distilbert.transformer.layer.0.attention.q_lin.weight', 'distilbert.transformer.layer.2.attention.q_lin.weight', 'distilbert.transformer.layer.4.sa_layer_norm.weight', 'distilbert.transformer.layer.0.ffn.lin1.bias', 'distilbert.transformer.layer.0.ffn.lin2.weight', 'distilbert.transformer.layer.0.sa_layer_norm.weight', 'distilbert.transformer.layer.1.ffn.lin2.bias', 'distilbert.transformer.layer.0.output_layer_norm.bias', 'distilbert.transformer.layer.0.attention.k_lin.weight', 'distilbert.transformer.layer.4.attention.q_lin.weight', 'distilbert.transformer.layer.4.attention.out_lin.weight', 'distilbert.transformer.layer.5.attention.v_lin.bias', 'distilbert.embeddings.LayerNorm.bias', 'distilbert.transformer.layer.3.attention.out_lin.weight', 'distilbert.transformer.layer.2.ffn.lin2.weight', 'distilbert.transformer.layer.1.attention.v_lin.bias', 'distilbert.transformer.layer.3.sa_layer_norm.weight', 'distilbert.transformer.layer.0.attention.k_lin.bias', 'vocab_layer_norm.weight', 'distilbert.transformer.layer.1.ffn.lin2.weight', 'distilbert.transformer.layer.3.attention.q_lin.weight', 'distilbert.transformer.layer.0.attention.q_lin.bias', 'distilbert.transformer.layer.1.attention.out_lin.weight', 'distilbert.transformer.layer.2.ffn.lin1.weight', 'distilbert.transformer.layer.5.ffn.lin2.weight', 'distilbert.transformer.layer.3.attention.k_lin.bias', 'distilbert.transformer.layer.0.ffn.lin1.weight', 'distilbert.transformer.layer.4.ffn.lin2.weight', 'distilbert.transformer.layer.4.attention.v_lin.weight', 'distilbert.transformer.layer.2.ffn.lin1.bias', 'distilbert.transformer.layer.4.attention.v_lin.bias', 'distilbert.transformer.layer.3.ffn.lin2.bias', 'distilbert.transformer.layer.3.output_layer_norm.bias', 'distilbert.transformer.layer.4.output_layer_norm.weight', 'distilbert.transformer.layer.0.attention.v_lin.bias', 'distilbert.transformer.layer.2.sa_layer_norm.weight', 'distilbert.transformer.layer.2.sa_layer_norm.bias', 'distilbert.transformer.layer.4.attention.out_lin.bias', 'distilbert.transformer.layer.3.ffn.lin1.weight', 'distilbert.transformer.layer.3.output_layer_norm.weight', 'distilbert.transformer.layer.0.ffn.lin2.bias', 'distilbert.transformer.layer.0.attention.out_lin.weight', 'distilbert.transformer.layer.2.attention.v_lin.weight', 'distilbert.transformer.layer.5.ffn.lin1.weight', 'distilbert.transformer.layer.2.ffn.lin2.bias', 'distilbert.transformer.layer.2.attention.k_lin.weight', 'distilbert.transformer.layer.1.attention.k_lin.bias', 'distilbert.embeddings.LayerNorm.weight', 'distilbert.transformer.layer.5.attention.k_lin.weight', 'distilbert.embeddings.word_embeddings.weight', 'distilbert.transformer.layer.4.attention.q_lin.bias', 'distilbert.transformer.layer.1.attention.q_lin.bias', 'distilbert.transformer.layer.1.attention.q_lin.weight', 'distilbert.transformer.layer.5.attention.q_lin.bias', 'distilbert.transformer.layer.5.attention.k_lin.bias', 'distilbert.transformer.layer.0.output_layer_norm.weight', 'distilbert.transformer.layer.5.attention.q_lin.weight', 'distilbert.transformer.layer.4.attention.k_lin.bias', 'vocab_transform.weight', 'distilbert.transformer.layer.2.attention.v_lin.bias', 'distilbert.transformer.layer.3.attention.v_lin.bias', 'vocab_layer_norm.bias', 'distilbert.transformer.layer.5.ffn.lin2.bias', 'distilbert.transformer.layer.3.sa_layer_norm.bias', 'distilbert.transformer.layer.4.output_layer_norm.bias', 'distilbert.transformer.layer.5.attention.out_lin.bias', 'distilbert.transformer.layer.1.ffn.lin1.bias', 'distilbert.transformer.layer.5.attention.out_lin.weight', 'distilbert.transformer.layer.3.ffn.lin1.bias', 'distilbert.transformer.layer.4.ffn.lin1.weight', 'distilbert.transformer.layer.2.attention.out_lin.weight', 'distilbert.transformer.layer.2.output_layer_norm.bias', 'distilbert.transformer.layer.3.attention.k_lin.weight', 'vocab_transform.bias', 'distilbert.transformer.layer.1.sa_layer_norm.weight', 'distilbert.transformer.layer.2.attention.q_lin.bias', 'distilbert.transformer.layer.5.attention.v_lin.weight', 'distilbert.transformer.layer.4.attention.k_lin.weight', 'distilbert.transformer.layer.1.ffn.lin1.weight', 'distilbert.transformer.layer.1.output_layer_norm.weight', 'distilbert.transformer.layer.4.ffn.lin2.bias', 'distilbert.transformer.layer.5.ffn.lin1.bias', 'distilbert.transformer.layer.5.output_layer_norm.weight', 'distilbert.transformer.layer.2.attention.k_lin.bias', 'distilbert.transformer.layer.1.attention.out_lin.bias', 'distilbert.transformer.layer.1.output_layer_norm.bias', 'distilbert.transformer.layer.3.attention.q_lin.bias', 'distilbert.transformer.layer.5.sa_layer_norm.weight', 'vocab_projector.bias', 'distilbert.transformer.layer.3.ffn.lin2.weight', 'distilbert.transformer.layer.4.ffn.lin1.bias', 'distilbert.transformer.layer.1.sa_layer_norm.bias', 'distilbert.transformer.layer.0.attention.v_lin.weight', 'distilbert.transformer.layer.0.sa_layer_norm.bias', 'distilbert.transformer.layer.1.attention.v_lin.weight']\n",
      "- This IS expected if you are initializing BertModel from the checkpoint of a model trained on another task or with another architecture (e.g. initializing a BertForSequenceClassification model from a BertForPreTraining model).\n",
      "- This IS NOT expected if you are initializing BertModel from the checkpoint of a model that you expect to be exactly identical (initializing a BertForSequenceClassification model from a BertForSequenceClassification model).\n",
      "Some weights of BertModel were not initialized from the model checkpoint at distilbert-base-uncased and are newly initialized: ['encoder.layer.1.attention.self.value.weight', 'encoder.layer.11.output.LayerNorm.weight', 'encoder.layer.6.attention.self.key.bias', 'encoder.layer.1.attention.output.LayerNorm.bias', 'encoder.layer.4.attention.self.value.weight', 'encoder.layer.6.attention.output.LayerNorm.weight', 'encoder.layer.1.attention.self.query.bias', 'encoder.layer.7.attention.output.LayerNorm.weight', 'encoder.layer.4.attention.output.dense.bias', 'encoder.layer.9.attention.self.value.bias', 'encoder.layer.5.output.dense.weight', 'encoder.layer.9.intermediate.dense.weight', 'encoder.layer.1.attention.output.dense.bias', 'encoder.layer.2.output.LayerNorm.bias', 'encoder.layer.2.intermediate.dense.weight', 'encoder.layer.10.output.LayerNorm.weight', 'encoder.layer.3.output.LayerNorm.bias', 'encoder.layer.3.intermediate.dense.bias', 'encoder.layer.5.intermediate.dense.weight', 'encoder.layer.0.output.LayerNorm.bias', 'encoder.layer.7.attention.output.dense.bias', 'encoder.layer.8.intermediate.dense.bias', 'encoder.layer.11.output.dense.bias', 'encoder.layer.7.attention.self.query.weight', 'encoder.layer.1.attention.self.query.weight', 'encoder.layer.5.attention.output.dense.bias', 'encoder.layer.9.attention.output.dense.bias', 'encoder.layer.4.attention.output.LayerNorm.weight', 'encoder.layer.8.attention.self.value.bias', 'encoder.layer.10.attention.self.value.bias', 'encoder.layer.5.attention.self.value.bias', 'encoder.layer.5.intermediate.dense.bias', 'encoder.layer.10.intermediate.dense.weight', 'encoder.layer.4.intermediate.dense.bias', 'embeddings.LayerNorm.bias', 'encoder.layer.8.attention.self.value.weight', 'encoder.layer.8.attention.self.key.weight', 'encoder.layer.9.attention.self.query.weight', 'embeddings.word_embeddings.weight', 'encoder.layer.3.attention.self.value.bias', 'encoder.layer.10.output.dense.bias', 'encoder.layer.11.attention.output.LayerNorm.bias', 'encoder.layer.2.attention.output.LayerNorm.weight', 'encoder.layer.7.intermediate.dense.weight', 'encoder.layer.7.attention.output.dense.weight', 'encoder.layer.7.attention.self.query.bias', 'encoder.layer.2.output.dense.weight', 'encoder.layer.3.attention.self.key.bias', 'encoder.layer.8.attention.output.LayerNorm.bias', 'encoder.layer.11.attention.output.LayerNorm.weight', 'encoder.layer.3.attention.output.LayerNorm.weight', 'encoder.layer.3.output.dense.bias', 'encoder.layer.6.attention.self.key.weight', 'encoder.layer.11.intermediate.dense.bias', 'encoder.layer.0.attention.self.value.weight', 'encoder.layer.4.intermediate.dense.weight', 'encoder.layer.0.attention.output.LayerNorm.weight', 'encoder.layer.5.output.LayerNorm.weight', 'encoder.layer.1.attention.self.key.bias', 'encoder.layer.8.intermediate.dense.weight', 'encoder.layer.2.intermediate.dense.bias', 'encoder.layer.1.intermediate.dense.weight', 'encoder.layer.0.attention.self.key.weight', 'encoder.layer.5.output.LayerNorm.bias', 'encoder.layer.8.attention.self.query.weight', 'encoder.layer.9.output.LayerNorm.bias', 'encoder.layer.2.attention.output.LayerNorm.bias', 'encoder.layer.11.attention.self.query.weight', 'embeddings.position_embeddings.weight', 'encoder.layer.1.output.LayerNorm.weight', 'encoder.layer.0.attention.self.query.weight', 'encoder.layer.4.attention.self.query.bias', 'encoder.layer.9.attention.output.LayerNorm.weight', 'encoder.layer.1.attention.self.value.bias', 'encoder.layer.4.attention.self.value.bias', 'encoder.layer.0.intermediate.dense.bias', 'encoder.layer.5.attention.self.query.weight', 'encoder.layer.0.attention.output.dense.bias', 'encoder.layer.1.output.dense.bias', 'encoder.layer.6.output.LayerNorm.weight', 'encoder.layer.8.attention.output.dense.weight', 'encoder.layer.10.attention.output.dense.weight', 'encoder.layer.9.intermediate.dense.bias', 'encoder.layer.10.attention.self.key.weight', 'encoder.layer.7.attention.self.value.bias', 'encoder.layer.3.output.dense.weight', 'encoder.layer.7.intermediate.dense.bias', 'encoder.layer.11.output.dense.weight', 'encoder.layer.3.attention.output.dense.weight', 'encoder.layer.6.attention.output.dense.bias', 'encoder.layer.3.attention.self.query.bias', 'encoder.layer.4.attention.output.dense.weight', 'encoder.layer.2.attention.self.value.bias', 'encoder.layer.0.attention.output.LayerNorm.bias', 'encoder.layer.7.attention.output.LayerNorm.bias', 'encoder.layer.9.attention.output.dense.weight', 'encoder.layer.11.attention.output.dense.weight', 'encoder.layer.5.attention.output.dense.weight', 'encoder.layer.3.attention.self.key.weight', 'encoder.layer.10.attention.self.key.bias', 'encoder.layer.10.attention.self.query.weight', 'encoder.layer.11.output.LayerNorm.bias', 'pooler.dense.weight', 'encoder.layer.9.output.dense.weight', 'encoder.layer.6.attention.self.value.weight', 'encoder.layer.11.intermediate.dense.weight', 'encoder.layer.5.output.dense.bias', 'encoder.layer.6.output.LayerNorm.bias', 'encoder.layer.1.attention.output.LayerNorm.weight', 'encoder.layer.0.output.LayerNorm.weight', 'encoder.layer.6.attention.output.dense.weight', 'encoder.layer.1.attention.output.dense.weight', 'encoder.layer.7.attention.self.key.bias', 'encoder.layer.10.attention.output.LayerNorm.bias', 'encoder.layer.10.intermediate.dense.bias', 'encoder.layer.6.attention.self.query.weight', 'encoder.layer.4.attention.self.query.weight', 'encoder.layer.7.output.dense.bias', 'encoder.layer.6.attention.output.LayerNorm.bias', 'pooler.dense.bias', 'encoder.layer.11.attention.self.query.bias', 'encoder.layer.0.attention.self.value.bias', 'encoder.layer.8.attention.output.LayerNorm.weight', 'encoder.layer.1.output.LayerNorm.bias', 'encoder.layer.5.attention.output.LayerNorm.weight', 'encoder.layer.5.attention.self.value.weight', 'encoder.layer.11.attention.self.key.weight', 'encoder.layer.2.output.dense.bias', 'encoder.layer.1.attention.self.key.weight', 'encoder.layer.2.attention.self.key.weight', 'encoder.layer.8.output.dense.bias', 'encoder.layer.0.attention.self.key.bias', 'encoder.layer.5.attention.self.query.bias', 'encoder.layer.10.output.LayerNorm.bias', 'encoder.layer.11.attention.self.value.weight', 'encoder.layer.10.output.dense.weight', 'encoder.layer.2.attention.self.value.weight', 'encoder.layer.3.attention.output.dense.bias', 'encoder.layer.8.output.LayerNorm.weight', 'encoder.layer.6.attention.self.query.bias', 'encoder.layer.2.attention.self.key.bias', 'encoder.layer.4.attention.self.key.bias', 'encoder.layer.4.output.LayerNorm.bias', 'encoder.layer.3.attention.self.value.weight', 'encoder.layer.6.intermediate.dense.bias', 'encoder.layer.1.intermediate.dense.bias', 'encoder.layer.6.attention.self.value.bias', 'encoder.layer.3.attention.output.LayerNorm.bias', 'encoder.layer.10.attention.output.LayerNorm.weight', 'encoder.layer.10.attention.self.value.weight', 'encoder.layer.4.output.dense.weight', 'encoder.layer.9.output.LayerNorm.weight', 'encoder.layer.10.attention.output.dense.bias', 'embeddings.LayerNorm.weight', 'encoder.layer.0.attention.output.dense.weight', 'encoder.layer.6.output.dense.weight', 'encoder.layer.9.attention.self.query.bias', 'encoder.layer.7.output.LayerNorm.weight', 'encoder.layer.4.attention.self.key.weight', 'encoder.layer.3.output.LayerNorm.weight', 'encoder.layer.2.output.LayerNorm.weight', 'encoder.layer.4.attention.output.LayerNorm.bias', 'encoder.layer.9.attention.self.key.bias', 'encoder.layer.7.attention.self.key.weight', 'encoder.layer.8.attention.output.dense.bias', 'encoder.layer.3.attention.self.query.weight', 'encoder.layer.5.attention.self.key.bias', 'encoder.layer.3.intermediate.dense.weight', 'encoder.layer.11.attention.output.dense.bias', 'encoder.layer.10.attention.self.query.bias', 'encoder.layer.6.output.dense.bias', 'encoder.layer.2.attention.self.query.weight', 'encoder.layer.6.intermediate.dense.weight', 'encoder.layer.2.attention.self.query.bias', 'encoder.layer.11.attention.self.key.bias', 'encoder.layer.4.output.dense.bias', 'encoder.layer.7.attention.self.value.weight', 'encoder.layer.8.attention.self.query.bias', 'encoder.layer.5.attention.self.key.weight', 'encoder.layer.9.output.dense.bias', 'encoder.layer.0.attention.self.query.bias', 'encoder.layer.2.attention.output.dense.weight', 'encoder.layer.0.output.dense.weight', 'encoder.layer.9.attention.output.LayerNorm.bias', 'encoder.layer.0.intermediate.dense.weight', 'encoder.layer.2.attention.output.dense.bias', 'encoder.layer.7.output.LayerNorm.bias', 'encoder.layer.8.attention.self.key.bias', 'encoder.layer.8.output.dense.weight', 'encoder.layer.11.attention.self.value.bias', 'encoder.layer.7.output.dense.weight', 'encoder.layer.4.output.LayerNorm.weight', 'encoder.layer.9.attention.self.value.weight', 'encoder.layer.8.output.LayerNorm.bias', 'encoder.layer.0.output.dense.bias', 'encoder.layer.5.attention.output.LayerNorm.bias', 'encoder.layer.9.attention.self.key.weight', 'encoder.layer.1.output.dense.weight', 'embeddings.token_type_embeddings.weight']\n",
      "You should probably TRAIN this model on a down-stream task to be able to use it for predictions and inference.\n"
     ]
    }
   ],
   "source": [
    "# importing pretrained bert from 'bert-base-uncased'\n",
    "from transformers import BertTokenizer, BertModel\n",
    "from torch.utils.data import TensorDataset,DataLoader\n",
    "bert = BertModel.from_pretrained('distilbert-base-uncased',\n",
    "           output_hidden_states = True,)"
   ]
  },
  {
   "cell_type": "code",
   "execution_count": 103,
   "id": "829fe98c",
   "metadata": {},
   "outputs": [
    {
     "data": {
      "application/vnd.jupyter.widget-view+json": {
       "model_id": "a38bc8b13e174eb7b8d5a92c16ca5a2b",
       "version_major": 2,
       "version_minor": 0
      },
      "text/plain": [
       "Downloading:   0%|          | 0.00/226k [00:00<?, ?B/s]"
      ]
     },
     "metadata": {},
     "output_type": "display_data"
    },
    {
     "data": {
      "application/vnd.jupyter.widget-view+json": {
       "model_id": "a2792aa3aeb34492b4b2fd1365a56532",
       "version_major": 2,
       "version_minor": 0
      },
      "text/plain": [
       "Downloading:   0%|          | 0.00/28.0 [00:00<?, ?B/s]"
      ]
     },
     "metadata": {},
     "output_type": "display_data"
    },
    {
     "name": "stderr",
     "output_type": "stream",
     "text": [
      "The tokenizer class you load from this checkpoint is not the same type as the class this function is called from. It may result in unexpected tokenization. \n",
      "The tokenizer class you load from this checkpoint is 'DistilBertTokenizer'. \n",
      "The class this function is called from is 'BertTokenizer'.\n"
     ]
    }
   ],
   "source": [
    "tokenizer = BertTokenizer.from_pretrained('distilbert-base-uncased')"
   ]
  },
  {
   "cell_type": "code",
   "execution_count": 104,
   "id": "a7b5b259",
   "metadata": {},
   "outputs": [],
   "source": [
    "def prepare_embedding(text):\n",
    "    indexed_tokens_list = []\n",
    "    segments_ids_list = []\n",
    "    max_length = 512\n",
    "    for i in text:\n",
    "        indexed_tokens = tokenizer.encode(i, max_length=512)\n",
    "        padding_length = max_length - len(indexed_tokens)\n",
    "        indexed_tokens = indexed_tokens + [0]*padding_length\n",
    "        segments_ids = [1]*len(indexed_tokens)\n",
    "        indexed_tokens_list.append(indexed_tokens)\n",
    "        segments_ids_list.append(segments_ids)\n",
    "    tokens_tensor = torch.tensor(indexed_tokens_list)\n",
    "    segments_tensors = torch.tensor(segments_ids_list)\n",
    "    return tokens_tensor, segments_tensors"
   ]
  },
  {
   "cell_type": "code",
   "execution_count": 105,
   "id": "479caff7",
   "metadata": {},
   "outputs": [],
   "source": [
    "def get_embedding(tokens_tensor, segments_tensors):\n",
    "    dataset = TensorDataset(tokens_tensor,segments_tensors)\n",
    "    dataloader = DataLoader(dataset,batch_size=1,shuffle=False)\n",
    "    max_pool_embedding = []\n",
    "    with torch.no_grad():\n",
    "        for tokens_tensor,segments_tensors in dataloader:\n",
    "            outputs = bert(tokens_tensor, segments_tensors)\n",
    "            hidden_states = outputs[2][1:]\n",
    "            token_embeddings = hidden_states[-1]\n",
    "            token_embeddings = torch.squeeze(token_embeddings, dim=0)\n",
    "            list_token_embeddings = [token_embed.tolist() for token_embed in token_embeddings]\n",
    "            max_pool = list_token_embeddings[0]\n",
    "            max_pool_embedding.append(max_pool)\n",
    "    return max_pool_embedding"
   ]
  },
  {
   "cell_type": "code",
   "execution_count": 109,
   "id": "b3f16cdc",
   "metadata": {},
   "outputs": [],
   "source": [
    "headline = X_train['Headline'][:10000].values"
   ]
  },
  {
   "cell_type": "code",
   "execution_count": 110,
   "id": "3c1ea9ce",
   "metadata": {},
   "outputs": [],
   "source": [
    "body = X_train['articleBody'][:10000].values"
   ]
  },
  {
   "cell_type": "code",
   "execution_count": 111,
   "id": "9fa02760",
   "metadata": {},
   "outputs": [
    {
     "name": "stderr",
     "output_type": "stream",
     "text": [
      "Truncation was not explicitly activated but `max_length` is provided a specific value, please use `truncation=True` to explicitly truncate examples to max length. Defaulting to 'longest_first' truncation strategy. If you encode pairs of sequences (GLUE-style) with the tokenizer you can select this strategy more precisely by providing a specific strategy to `truncation`.\n"
     ]
    }
   ],
   "source": [
    "tokens_tensor_headline, segments_tensors_headline = prepare_embedding(headline)"
   ]
  },
  {
   "cell_type": "code",
   "execution_count": 112,
   "id": "f3665c96",
   "metadata": {},
   "outputs": [],
   "source": [
    "tokens_tensor_body, segments_tensors_body = prepare_embedding(body)"
   ]
  },
  {
   "cell_type": "code",
   "execution_count": 123,
   "id": "5e31f58d",
   "metadata": {},
   "outputs": [],
   "source": [
    "headline_embedding = get_embedding(tokens_tensor_headline, segments_tensors_headline)"
   ]
  },
  {
   "cell_type": "code",
   "execution_count": 124,
   "id": "c7f213d1",
   "metadata": {},
   "outputs": [],
   "source": [
    "body_embedding = get_embedding(tokens_tensor_body, segments_tensors_body)"
   ]
  },
  {
   "cell_type": "code",
   "execution_count": 139,
   "id": "20d377ca",
   "metadata": {},
   "outputs": [],
   "source": [
    "headline_embedding = np.array(headline_embedding)"
   ]
  },
  {
   "cell_type": "code",
   "execution_count": 140,
   "id": "7d9d0d84",
   "metadata": {},
   "outputs": [],
   "source": [
    "body_embedding = np.array(body_embedding)"
   ]
  },
  {
   "cell_type": "code",
   "execution_count": 143,
   "id": "99bd4180",
   "metadata": {},
   "outputs": [],
   "source": [
    "X_be_sv = np.concatenate((headline_embedding, body_embedding), axis=1)"
   ]
  },
  {
   "cell_type": "code",
   "execution_count": 144,
   "id": "5951640c",
   "metadata": {},
   "outputs": [
    {
     "data": {
      "text/plain": [
       "(10000, 1536)"
      ]
     },
     "execution_count": 144,
     "metadata": {},
     "output_type": "execute_result"
    }
   ],
   "source": [
    "X_be_sv.shape"
   ]
  },
  {
   "cell_type": "code",
   "execution_count": 146,
   "id": "3ef6c501",
   "metadata": {},
   "outputs": [],
   "source": [
    "X_be_sv_train = X_be_sv[:9000]\n",
    "X_be_sv_test = X_be_sv[9000:10000]"
   ]
  },
  {
   "cell_type": "code",
   "execution_count": 147,
   "id": "c55ed4a5",
   "metadata": {},
   "outputs": [],
   "source": [
    "Y_be_sv_train = Y_train[:9000]\n",
    "Y_be_sv_test = Y_train[9000:10000]"
   ]
  },
  {
   "cell_type": "code",
   "execution_count": 155,
   "id": "1f2756c8",
   "metadata": {},
   "outputs": [
    {
     "data": {
      "text/plain": [
       "GridSearchCV(cv=3, estimator=SVC(), n_jobs=-1,\n",
       "             param_grid={'C': [1.0, 10], 'gamma': [1, 'auto']})"
      ]
     },
     "execution_count": 155,
     "metadata": {},
     "output_type": "execute_result"
    }
   ],
   "source": [
    "# Building the SVM model\n",
    "parameters = { \n",
    "    'C': [1.0, 10],\n",
    "    'gamma': [1, 'auto']}\n",
    "model3 = GridSearchCV(SVC(kernel='rbf'), parameters, cv=3, n_jobs=-1)\n",
    "model3.fit(X_be_sv_train, Y_be_sv_train)"
   ]
  },
  {
   "cell_type": "code",
   "execution_count": 156,
   "id": "5c58504d",
   "metadata": {},
   "outputs": [],
   "source": [
    "model3 = model3.best_estimator_"
   ]
  },
  {
   "cell_type": "code",
   "execution_count": 157,
   "id": "0018c83c",
   "metadata": {},
   "outputs": [
    {
     "name": "stdout",
     "output_type": "stream",
     "text": [
      "              precision    recall  f1-score   support\n",
      "\n",
      "           0       0.71      0.79      0.75       479\n",
      "           1       0.78      0.70      0.74       521\n",
      "\n",
      "    accuracy                           0.74      1000\n",
      "   macro avg       0.75      0.75      0.74      1000\n",
      "weighted avg       0.75      0.74      0.74      1000\n",
      "\n"
     ]
    },
    {
     "data": {
      "image/png": "[encoded data removed]",
      "text/plain": [
       "<Figure size 432x288 with 2 Axes>"
      ]
     },
     "metadata": {},
     "output_type": "display_data"
    },
    {
     "data": {
      "image/png": "[encoded data removed]",
      "text/plain": [
       "<Figure size 864x864 with 1 Axes>"
      ]
     },
     "metadata": {},
     "output_type": "display_data"
    }
   ],
   "source": [
    "# predicting the test data\n",
    "Y_svm = model3.predict(X_be_sv_test)\n",
    "print(metrics.classification_report(Y_be_sv_test, Y_svm))\n",
    "plot_confussion_matrix(Y_be_sv_test, Y_svm)\n",
    "plot_roc_curve(Y_be_sv_test, Y_svm)"
   ]
  },
  {
   "cell_type": "markdown",
   "id": "6b34e6ba",
   "metadata": {},
   "source": [
    "### a.2.2: Bert-LSTM"
   ]
  },
  {
   "cell_type": "code",
   "execution_count": 159,
   "id": "efa1e22b",
   "metadata": {},
   "outputs": [],
   "source": [
    "X_be_ls = np.stack((headline_embedding, body_embedding), axis=1)"
   ]
  },
  {
   "cell_type": "code",
   "execution_count": 160,
   "id": "373081e5",
   "metadata": {},
   "outputs": [],
   "source": [
    "X_be_ls_train = X_be_ls[:9000]\n",
    "X_be_ls_test = X_be_ls[9000:10000]"
   ]
  },
  {
   "cell_type": "code",
   "execution_count": 162,
   "id": "064cf523",
   "metadata": {},
   "outputs": [],
   "source": [
    "Y_be_ls_train = Y_be_sv_train\n",
    "Y_be_ls_test = Y_be_sv_test"
   ]
  },
  {
   "cell_type": "code",
   "execution_count": 173,
   "id": "12a9ed09",
   "metadata": {},
   "outputs": [
    {
     "name": "stdout",
     "output_type": "stream",
     "text": [
      "Epoch 1/5\n",
      "500/500 [==============================] - 14s 28ms/step - loss: 0.7611 - accuracy: 0.4860 - val_loss: 0.6932 - val_accuracy: 0.5000\n",
      "Epoch 2/5\n",
      "500/500 [==============================] - 14s 28ms/step - loss: 0.7260 - accuracy: 0.5205 - val_loss: 0.6924 - val_accuracy: 0.5210\n",
      "Epoch 3/5\n",
      "500/500 [==============================] - 14s 28ms/step - loss: 0.7214 - accuracy: 0.5100 - val_loss: 0.6925 - val_accuracy: 0.5210\n",
      "Epoch 4/5\n",
      "500/500 [==============================] - 14s 28ms/step - loss: 0.7150 - accuracy: 0.5065 - val_loss: 0.6923 - val_accuracy: 0.5210\n",
      "Epoch 5/5\n",
      "500/500 [==============================] - 14s 28ms/step - loss: 0.7198 - accuracy: 0.4990 - val_loss: 0.7052 - val_accuracy: 0.5210\n"
     ]
    },
    {
     "data": {
      "text/plain": [
       "<tensorflow.python.keras.callbacks.History at 0x276f6ae8a30>"
      ]
     },
     "execution_count": 173,
     "metadata": {},
     "output_type": "execute_result"
    }
   ],
   "source": [
    "# building bert sltm model\n",
    "keras.backend.clear_session()\n",
    "np.random.seed(seed)\n",
    "tf.random.set_seed(seed)\n",
    "\n",
    "model4 = keras.models.Sequential()\n",
    "model4.add(keras.layers.LSTM(768,\n",
    "                            input_shape=(None, 768),\n",
    "                            return_sequences=True))\n",
    "model4.add(keras.layers.Dropout(0.4))\n",
    "model4.add(keras.layers.Dense(1, activation='sigmoid'))\n",
    "model4.compile(\n",
    "    loss='binary_crossentropy', \n",
    "    optimizer='adam', \n",
    "    metrics = ['accuracy'])\n",
    "model4.fit(X_be_ls_test, Y_be_ls_test, \n",
    "           validation_data=(X_be_ls_test, Y_be_ls_test),\n",
    "           epochs=5, batch_size=2, verbose=1)"
   ]
  },
  {
   "cell_type": "code",
   "execution_count": 209,
   "id": "7462c836",
   "metadata": {},
   "outputs": [],
   "source": [
    "# predicting the test data\n",
    "Y_lstm = model4.predict(X_be_ls_test)\n",
    "Y_lstm = Y_lstm.mean(axis=1)\n",
    "Y_lstm = np.rint(Y_lstm)"
   ]
  },
  {
   "cell_type": "code",
   "execution_count": 176,
   "id": "923c533f",
   "metadata": {},
   "outputs": [
    {
     "name": "stdout",
     "output_type": "stream",
     "text": [
      "              precision    recall  f1-score   support\n",
      "\n",
      "           0      0.000     0.000     0.000       479\n",
      "           1      0.521     1.000     0.685       521\n",
      "\n",
      "    accuracy                          0.521      1000\n",
      "   macro avg      0.261     0.500     0.343      1000\n",
      "weighted avg      0.271     0.521     0.357      1000\n",
      "\n"
     ]
    },
    {
     "name": "stderr",
     "output_type": "stream",
     "text": [
      "C:\\Users\\Ice\\anaconda3\\lib\\site-packages\\sklearn\\metrics\\_classification.py:1318: UndefinedMetricWarning: Precision and F-score are ill-defined and being set to 0.0 in labels with no predicted samples. Use `zero_division` parameter to control this behavior.\n",
      "  _warn_prf(average, modifier, msg_start, len(result))\n",
      "C:\\Users\\Ice\\anaconda3\\lib\\site-packages\\sklearn\\metrics\\_classification.py:1318: UndefinedMetricWarning: Precision and F-score are ill-defined and being set to 0.0 in labels with no predicted samples. Use `zero_division` parameter to control this behavior.\n",
      "  _warn_prf(average, modifier, msg_start, len(result))\n",
      "C:\\Users\\Ice\\anaconda3\\lib\\site-packages\\sklearn\\metrics\\_classification.py:1318: UndefinedMetricWarning: Precision and F-score are ill-defined and being set to 0.0 in labels with no predicted samples. Use `zero_division` parameter to control this behavior.\n",
      "  _warn_prf(average, modifier, msg_start, len(result))\n"
     ]
    },
    {
     "data": {
      "image/png": "[encoded data removed]",
      "text/plain": [
       "<Figure size 432x288 with 2 Axes>"
      ]
     },
     "metadata": {},
     "output_type": "display_data"
    },
    {
     "data": {
      "image/png": "[encoded data removed]",
      "text/plain": [
       "<Figure size 864x864 with 1 Axes>"
      ]
     },
     "metadata": {},
     "output_type": "display_data"
    }
   ],
   "source": [
    "# model results\n",
    "print(metrics.classification_report(Y_be_ls_test, Y_lstm, digits=3))\n",
    "plot_confussion_matrix(Y_be_ls_test, Y_lstm)\n",
    "plot_roc_curve(Y_be_ls_test, Y_lstm)"
   ]
  },
  {
   "cell_type": "markdown",
   "id": "774f2043",
   "metadata": {},
   "source": [
    "### Task 2 preparation"
   ]
  },
  {
   "cell_type": "code",
   "execution_count": 177,
   "id": "4df552cc",
   "metadata": {},
   "outputs": [],
   "source": [
    "# defining a fuction to prepare data for multiclass classification\n",
    "def prepare_stance(data):\n",
    "    df = data\n",
    "    related = {'agree': 1,\n",
    "               'discuss': 2,\n",
    "               'disagree': 3,\n",
    "               'unrelated': 0}\n",
    "    df['Stance'] = df['Stance'].replace(related)\n",
    "    df = df.drop(df[df['Stance']==0].index)\n",
    "    y = df[['Stance']]\n",
    "    x = df[['Headline', 'articleBody']]\n",
    "    return x, y"
   ]
  },
  {
   "cell_type": "code",
   "execution_count": 178,
   "id": "9763a7f7",
   "metadata": {
    "scrolled": true
   },
   "outputs": [],
   "source": [
    "X_train, Y_train = prepare_stance(train)\n",
    "X_val, Y_val = prepare_stance(val)\n",
    "X_test, Y_test = prepare_stance(test)"
   ]
  },
  {
   "cell_type": "code",
   "execution_count": 179,
   "id": "16fe4935",
   "metadata": {},
   "outputs": [],
   "source": [
    "# data cleaning\n",
    "X_train = clean_data(X_train)\n",
    "X_val = clean_data(X_val)\n",
    "X_test = clean_data(X_test)"
   ]
  },
  {
   "cell_type": "code",
   "execution_count": 180,
   "id": "e61151fa",
   "metadata": {},
   "outputs": [],
   "source": [
    "# resampling the train data using random under samplier\n",
    "X_train, Y_train = rus.fit_resample(X_train, Y_train)\n",
    "temp_df = X_train\n",
    "temp_df['Stance'] = Y_train\n",
    "temp_df = temp_df.sample(frac=1, random_state=seed)\n",
    "X_train = temp_df.drop(['Stance'], axis=1)\n",
    "Y_train = temp_df['Stance']"
   ]
  },
  {
   "cell_type": "code",
   "execution_count": 181,
   "id": "810eaf2a",
   "metadata": {},
   "outputs": [],
   "source": [
    "Y_val = Y_val['Stance']\n",
    "Y_test = Y_test['Stance']"
   ]
  },
  {
   "cell_type": "code",
   "execution_count": 182,
   "id": "dc97ecfd",
   "metadata": {
    "scrolled": true
   },
   "outputs": [
    {
     "data": {
      "text/plain": [
       "1    474\n",
       "2    474\n",
       "3    474\n",
       "Name: Stance, dtype: int64"
      ]
     },
     "execution_count": 182,
     "metadata": {},
     "output_type": "execute_result"
    },
    {
     "data": {
      "image/png": "[encoded data removed]",
      "text/plain": [
       "<Figure size 432x288 with 1 Axes>"
      ]
     },
     "metadata": {},
     "output_type": "display_data"
    }
   ],
   "source": [
    "# ploting out classes in the train data\n",
    "sn.countplot(x=Y_train)\n",
    "Y_train.value_counts()"
   ]
  },
  {
   "cell_type": "code",
   "execution_count": 183,
   "id": "4a4140b5",
   "metadata": {},
   "outputs": [],
   "source": [
    "# implimenting one-hot encoding on the classes\n",
    "Y_train = pd.get_dummies(Y_train)\n",
    "Y_val = pd.get_dummies(Y_val)\n",
    "Y_test = pd.get_dummies(Y_test)"
   ]
  },
  {
   "cell_type": "code",
   "execution_count": 184,
   "id": "86549806",
   "metadata": {},
   "outputs": [],
   "source": [
    "# creating tfidf vectors\n",
    "X_tf_ls_train = prepare_lstm_tfidf(X_train)\n",
    "X_tf_ls_val = prepare_lstm_tfidf(X_val)\n",
    "X_tf_ls_test = prepare_lstm_tfidf(X_test)"
   ]
  },
  {
   "cell_type": "markdown",
   "id": "d846680a",
   "metadata": {},
   "source": [
    "### b: TDIF-LSTM"
   ]
  },
  {
   "cell_type": "code",
   "execution_count": 192,
   "id": "68c12a29",
   "metadata": {},
   "outputs": [],
   "source": [
    "# matching y dimension with model output\n",
    "Y_tf_ls_train = np.stack((Y_train.values, Y_train.values), axis=1)\n",
    "Y_tf_ls_val = np.stack((Y_val.values, Y_val.values), axis=1)\n",
    "Y_tf_ls_test = np.stack((Y_test.values, Y_test.values), axis=1)"
   ]
  },
  {
   "cell_type": "code",
   "execution_count": 193,
   "id": "5c48d5c6",
   "metadata": {},
   "outputs": [
    {
     "data": {
      "text/plain": [
       "(1422, 2, 3)"
      ]
     },
     "execution_count": 193,
     "metadata": {},
     "output_type": "execute_result"
    }
   ],
   "source": [
    "Y_tf_ls_train.shape"
   ]
  },
  {
   "cell_type": "code",
   "execution_count": 194,
   "id": "6afff73b",
   "metadata": {},
   "outputs": [
    {
     "data": {
      "text/plain": [
       "(1422, 2, 500)"
      ]
     },
     "execution_count": 194,
     "metadata": {},
     "output_type": "execute_result"
    }
   ],
   "source": [
    "X_tf_ls_train.shape"
   ]
  },
  {
   "cell_type": "code",
   "execution_count": 197,
   "id": "06f5c42f",
   "metadata": {},
   "outputs": [
    {
     "name": "stdout",
     "output_type": "stream",
     "text": [
      "Epoch 1/6\n",
      "711/711 [==============================] - 10s 13ms/step - loss: 0.9155 - accuracy: 0.5942 - val_loss: 0.7928 - val_accuracy: 0.6725\n",
      "Epoch 2/6\n",
      "711/711 [==============================] - 9s 13ms/step - loss: 0.7094 - accuracy: 0.7004 - val_loss: 0.8750 - val_accuracy: 0.6229\n",
      "Epoch 3/6\n",
      "711/711 [==============================] - 9s 13ms/step - loss: 0.6161 - accuracy: 0.7409 - val_loss: 0.8104 - val_accuracy: 0.6551\n",
      "Epoch 4/6\n",
      "711/711 [==============================] - 9s 13ms/step - loss: 0.5662 - accuracy: 0.7595 - val_loss: 0.9303 - val_accuracy: 0.6320\n",
      "Epoch 5/6\n",
      "711/711 [==============================] - 9s 13ms/step - loss: 0.5237 - accuracy: 0.7831 - val_loss: 0.8420 - val_accuracy: 0.6709\n",
      "Epoch 6/6\n",
      "711/711 [==============================] - 9s 13ms/step - loss: 0.4994 - accuracy: 0.7873 - val_loss: 0.8446 - val_accuracy: 0.6837\n"
     ]
    },
    {
     "data": {
      "text/plain": [
       "<tensorflow.python.keras.callbacks.History at 0x276f6f8b640>"
      ]
     },
     "execution_count": 197,
     "metadata": {},
     "output_type": "execute_result"
    }
   ],
   "source": [
    "# building multiclass LSTM model\n",
    "keras.backend.clear_session()\n",
    "np.random.seed(seed)\n",
    "tf.random.set_seed(seed)\n",
    "\n",
    "model5 = keras.models.Sequential()\n",
    "model5.add(keras.layers.LSTM(500,\n",
    "                            input_shape=(None, 500),\n",
    "                            return_sequences=True))\n",
    "model5.add(keras.layers.Dropout(0.2))\n",
    "model5.add(keras.layers.Dense(3, activation='softmax'))\n",
    "model5.compile(\n",
    "    loss='categorical_crossentropy', \n",
    "    optimizer='adam', \n",
    "    metrics = ['accuracy'])\n",
    "model5.fit(X_tf_ls_train, Y_tf_ls_train, \n",
    "           validation_data=(X_tf_ls_val, Y_tf_ls_val),\n",
    "           epochs=6, batch_size=2, verbose=1)"
   ]
  },
  {
   "cell_type": "code",
   "execution_count": 219,
   "id": "9a0a491e",
   "metadata": {},
   "outputs": [],
   "source": [
    "# predicting test data\n",
    "Y_lstm = model5.predict_classes(X_tf_ls_test)\n",
    "Y_lstm = Y_lstm.mean(axis=1)\n",
    "Y_lstm = np.rint(Y_lstm) +1"
   ]
  },
  {
   "cell_type": "code",
   "execution_count": 221,
   "id": "a449d182",
   "metadata": {},
   "outputs": [],
   "source": [
    "# creating a comaprer for the predicted data\n",
    "Y_true = test.drop(test[test['Stance']==0].index)\n",
    "Y_true = Y_true['Stance']\n",
    "Y_true = np.array(Y_true)"
   ]
  },
  {
   "cell_type": "code",
   "execution_count": 222,
   "id": "e16ba3e9",
   "metadata": {},
   "outputs": [
    {
     "name": "stdout",
     "output_type": "stream",
     "text": [
      "              precision    recall  f1-score   support\n",
      "\n",
      "           1      0.514     0.572     0.542      1113\n",
      "           2      0.845     0.634     0.724      2686\n",
      "           3      0.201     0.662     0.308       237\n",
      "\n",
      "    accuracy                          0.619      4036\n",
      "   macro avg      0.520     0.623     0.525      4036\n",
      "weighted avg      0.716     0.619     0.650      4036\n",
      "\n"
     ]
    },
    {
     "data": {
      "image/png": "[encoded data removed]",
      "text/plain": [
       "<Figure size 432x288 with 2 Axes>"
      ]
     },
     "metadata": {},
     "output_type": "display_data"
    }
   ],
   "source": [
    "print(metrics.classification_report(Y_true, Y_lstm, digits=3))\n",
    "plot_confussion_matrix(Y_true, Y_lstm)"
   ]
  },
  {
   "cell_type": "markdown",
   "id": "85743957",
   "metadata": {},
   "source": [
    "### c: Finalised model"
   ]
  },
  {
   "cell_type": "code",
   "execution_count": 290,
   "id": "88184a56",
   "metadata": {},
   "outputs": [],
   "source": [
    "# creating a compy of test data\n",
    "df_fn = test"
   ]
  },
  {
   "cell_type": "code",
   "execution_count": 291,
   "id": "e3869717",
   "metadata": {},
   "outputs": [],
   "source": [
    "# replacing text clasification with numbers\n",
    "relation = {'agree': 1,\n",
    "           'discuss': 2,\n",
    "           'disagree': 3,\n",
    "           'unrelated': 0}\n",
    "df_fn['Stance'] = df_fn['Stance'].replace(relation)"
   ]
  },
  {
   "cell_type": "code",
   "execution_count": 292,
   "id": "af655456",
   "metadata": {},
   "outputs": [
    {
     "name": "stderr",
     "output_type": "stream",
     "text": [
      "<ipython-input-14-7044a453f4ef>:2: SettingWithCopyWarning: \n",
      "A value is trying to be set on a copy of a slice from a DataFrame.\n",
      "Try using .loc[row_indexer,col_indexer] = value instead\n",
      "\n",
      "See the caveats in the documentation: https://pandas.pydata.org/pandas-docs/stable/user_guide/indexing.html#returning-a-view-versus-a-copy\n",
      "  data['Headline'] = [clean_text(i) for i in data['Headline']]\n",
      "<ipython-input-14-7044a453f4ef>:3: SettingWithCopyWarning: \n",
      "A value is trying to be set on a copy of a slice from a DataFrame.\n",
      "Try using .loc[row_indexer,col_indexer] = value instead\n",
      "\n",
      "See the caveats in the documentation: https://pandas.pydata.org/pandas-docs/stable/user_guide/indexing.html#returning-a-view-versus-a-copy\n",
      "  data['articleBody'] = [clean_text(i) for i in data['articleBody']]\n"
     ]
    }
   ],
   "source": [
    "# preparing x input for LSTM model\n",
    "X = df_fn[['Headline', 'articleBody']]\n",
    "X = clean_data(X)\n",
    "X_tfidf = prepare_lstm_tfidf(X)"
   ]
  },
  {
   "cell_type": "code",
   "execution_count": 293,
   "id": "1ae773a7",
   "metadata": {},
   "outputs": [],
   "source": [
    "# using the model previously trained on part a.2.1 to make a binary prediction\n",
    "Y_pred = model2.predict(X_tfidf)\n",
    "Y_pred = Y_pred.mean(axis=1)\n",
    "Y_pred = np.rint(Y_pred)"
   ]
  },
  {
   "cell_type": "code",
   "execution_count": 294,
   "id": "2c76c774",
   "metadata": {},
   "outputs": [
    {
     "data": {
      "text/html": [
       "<div>\n",
       "<style scoped>\n",
       "    .dataframe tbody tr th:only-of-type {\n",
       "        vertical-align: middle;\n",
       "    }\n",
       "\n",
       "    .dataframe tbody tr th {\n",
       "        vertical-align: top;\n",
       "    }\n",
       "\n",
       "    .dataframe thead th {\n",
       "        text-align: right;\n",
       "    }\n",
       "</style>\n",
       "<table border=\"1\" class=\"dataframe\">\n",
       "  <thead>\n",
       "    <tr style=\"text-align: right;\">\n",
       "      <th></th>\n",
       "      <th>Headline</th>\n",
       "      <th>Body ID</th>\n",
       "      <th>Stance</th>\n",
       "      <th>articleBody</th>\n",
       "      <th>prediction</th>\n",
       "    </tr>\n",
       "  </thead>\n",
       "  <tbody>\n",
       "    <tr>\n",
       "      <th>38740</th>\n",
       "      <td>Militant Group Says It Killed American Journal...</td>\n",
       "      <td>2261</td>\n",
       "      <td>0</td>\n",
       "      <td>From the midweek edition of the Morning Jolt:\\...</td>\n",
       "      <td>0.0</td>\n",
       "    </tr>\n",
       "    <tr>\n",
       "      <th>3100</th>\n",
       "      <td>Thanks Uncle Sam, we have your weapons airdrop...</td>\n",
       "      <td>816</td>\n",
       "      <td>0</td>\n",
       "      <td>A previously unverified audio recording that a...</td>\n",
       "      <td>0.0</td>\n",
       "    </tr>\n",
       "    <tr>\n",
       "      <th>4774</th>\n",
       "      <td>ISIS Reportedly Beheads U.S. Journalist James ...</td>\n",
       "      <td>1720</td>\n",
       "      <td>0</td>\n",
       "      <td>A South American nun suddenly started experien...</td>\n",
       "      <td>0.0</td>\n",
       "    </tr>\n",
       "    <tr>\n",
       "      <th>6172</th>\n",
       "      <td>Oh Hey, Paul Rudd Was One Of The Dallas Airpor...</td>\n",
       "      <td>1212</td>\n",
       "      <td>0</td>\n",
       "      <td>Tiger Woods divorced Swedish model Elin Nordeg...</td>\n",
       "      <td>0.0</td>\n",
       "    </tr>\n",
       "    <tr>\n",
       "      <th>34662</th>\n",
       "      <td>Cloistered nun has a stomach ache  hospital gi...</td>\n",
       "      <td>359</td>\n",
       "      <td>0</td>\n",
       "      <td>There has long been speculation about the myth...</td>\n",
       "      <td>0.0</td>\n",
       "    </tr>\n",
       "    <tr>\n",
       "      <th>...</th>\n",
       "      <td>...</td>\n",
       "      <td>...</td>\n",
       "      <td>...</td>\n",
       "      <td>...</td>\n",
       "      <td>...</td>\n",
       "    </tr>\n",
       "    <tr>\n",
       "      <th>41924</th>\n",
       "      <td>Boko Haram Could Release Kidnapped Girls, Nige...</td>\n",
       "      <td>1430</td>\n",
       "      <td>2</td>\n",
       "      <td>Nigerian officials Friday announced they had a...</td>\n",
       "      <td>1.0</td>\n",
       "    </tr>\n",
       "    <tr>\n",
       "      <th>30909</th>\n",
       "      <td>Isis Syria News: Iraqi Pilots 'Training Isis F...</td>\n",
       "      <td>1606</td>\n",
       "      <td>2</td>\n",
       "      <td>(Reuters) - Iraqi pilots who have joined Islam...</td>\n",
       "      <td>1.0</td>\n",
       "    </tr>\n",
       "    <tr>\n",
       "      <th>49380</th>\n",
       "      <td>Mexico Says Missing Students Not Found In Firs...</td>\n",
       "      <td>1156</td>\n",
       "      <td>1</td>\n",
       "      <td>The bodies found in a mass grave were confirme...</td>\n",
       "      <td>1.0</td>\n",
       "    </tr>\n",
       "    <tr>\n",
       "      <th>48302</th>\n",
       "      <td>Hoax Busted: Report on Popular 'Dog Whisperer'...</td>\n",
       "      <td>1929</td>\n",
       "      <td>1</td>\n",
       "      <td>A report claiming that popular 'dog whisperer'...</td>\n",
       "      <td>1.0</td>\n",
       "    </tr>\n",
       "    <tr>\n",
       "      <th>27815</th>\n",
       "      <td>WHO investigates media reports ISIS fighters c...</td>\n",
       "      <td>1891</td>\n",
       "      <td>2</td>\n",
       "      <td>THERE are unconfirmed reports that jihadists f...</td>\n",
       "      <td>1.0</td>\n",
       "    </tr>\n",
       "  </tbody>\n",
       "</table>\n",
       "<p>14992 rows × 5 columns</p>\n",
       "</div>"
      ],
      "text/plain": [
       "                                                Headline  Body ID  Stance  \\\n",
       "38740  Militant Group Says It Killed American Journal...     2261       0   \n",
       "3100   Thanks Uncle Sam, we have your weapons airdrop...      816       0   \n",
       "4774   ISIS Reportedly Beheads U.S. Journalist James ...     1720       0   \n",
       "6172   Oh Hey, Paul Rudd Was One Of The Dallas Airpor...     1212       0   \n",
       "34662  Cloistered nun has a stomach ache  hospital gi...      359       0   \n",
       "...                                                  ...      ...     ...   \n",
       "41924  Boko Haram Could Release Kidnapped Girls, Nige...     1430       2   \n",
       "30909  Isis Syria News: Iraqi Pilots 'Training Isis F...     1606       2   \n",
       "49380  Mexico Says Missing Students Not Found In Firs...     1156       1   \n",
       "48302  Hoax Busted: Report on Popular 'Dog Whisperer'...     1929       1   \n",
       "27815  WHO investigates media reports ISIS fighters c...     1891       2   \n",
       "\n",
       "                                             articleBody  prediction  \n",
       "38740  From the midweek edition of the Morning Jolt:\\...         0.0  \n",
       "3100   A previously unverified audio recording that a...         0.0  \n",
       "4774   A South American nun suddenly started experien...         0.0  \n",
       "6172   Tiger Woods divorced Swedish model Elin Nordeg...         0.0  \n",
       "34662  There has long been speculation about the myth...         0.0  \n",
       "...                                                  ...         ...  \n",
       "41924  Nigerian officials Friday announced they had a...         1.0  \n",
       "30909  (Reuters) - Iraqi pilots who have joined Islam...         1.0  \n",
       "49380  The bodies found in a mass grave were confirme...         1.0  \n",
       "48302  A report claiming that popular 'dog whisperer'...         1.0  \n",
       "27815  THERE are unconfirmed reports that jihadists f...         1.0  \n",
       "\n",
       "[14992 rows x 5 columns]"
      ]
     },
     "execution_count": 294,
     "metadata": {},
     "output_type": "execute_result"
    }
   ],
   "source": [
    "# appending the result the test dataframe\n",
    "df_fn['prediction'] = Y_pred\n",
    "df_fn = df_fn.sort_values(by='prediction')\n",
    "df_fn"
   ]
  },
  {
   "cell_type": "code",
   "execution_count": 295,
   "id": "a71c621a",
   "metadata": {},
   "outputs": [],
   "source": [
    "# spliting the data by prediction result\n",
    "df_fn_related = df_fn.loc[df_fn['prediction']==1]\n",
    "df_fn_unrelated = df_fn.loc[df_fn['prediction']==0]"
   ]
  },
  {
   "cell_type": "code",
   "execution_count": 296,
   "id": "38f54901",
   "metadata": {},
   "outputs": [
    {
     "name": "stderr",
     "output_type": "stream",
     "text": [
      "<ipython-input-14-7044a453f4ef>:2: SettingWithCopyWarning: \n",
      "A value is trying to be set on a copy of a slice from a DataFrame.\n",
      "Try using .loc[row_indexer,col_indexer] = value instead\n",
      "\n",
      "See the caveats in the documentation: https://pandas.pydata.org/pandas-docs/stable/user_guide/indexing.html#returning-a-view-versus-a-copy\n",
      "  data['Headline'] = [clean_text(i) for i in data['Headline']]\n",
      "<ipython-input-14-7044a453f4ef>:3: SettingWithCopyWarning: \n",
      "A value is trying to be set on a copy of a slice from a DataFrame.\n",
      "Try using .loc[row_indexer,col_indexer] = value instead\n",
      "\n",
      "See the caveats in the documentation: https://pandas.pydata.org/pandas-docs/stable/user_guide/indexing.html#returning-a-view-versus-a-copy\n",
      "  data['articleBody'] = [clean_text(i) for i in data['articleBody']]\n"
     ]
    }
   ],
   "source": [
    "# taking the related prediction result from the fisrt model to prepare an imput for the second model\n",
    "X = df_fn_related[['Headline', 'articleBody']]\n",
    "X = clean_data(X)\n",
    "X_tfidf = prepare_lstm_tfidf(X)"
   ]
  },
  {
   "cell_type": "code",
   "execution_count": 297,
   "id": "43cb3684",
   "metadata": {},
   "outputs": [],
   "source": [
    "# making sentiment prediction using the model from part b\n",
    "Y_pred = model5.predict_classes(X_tfidf)"
   ]
  },
  {
   "cell_type": "code",
   "execution_count": 298,
   "id": "ce885a4a",
   "metadata": {},
   "outputs": [],
   "source": [
    "# preparing the model output for evaluation\n",
    "Y_pred = Y_pred.mean(axis=1)\n",
    "Y_pred = np.rint(Y_pred) +1"
   ]
  },
  {
   "cell_type": "code",
   "execution_count": 299,
   "id": "74d0c4d3",
   "metadata": {},
   "outputs": [
    {
     "name": "stderr",
     "output_type": "stream",
     "text": [
      "<ipython-input-299-9021792870d2>:1: SettingWithCopyWarning: \n",
      "A value is trying to be set on a copy of a slice from a DataFrame.\n",
      "Try using .loc[row_indexer,col_indexer] = value instead\n",
      "\n",
      "See the caveats in the documentation: https://pandas.pydata.org/pandas-docs/stable/user_guide/indexing.html#returning-a-view-versus-a-copy\n",
      "  df_fn_related['prediction'] = Y_pred\n"
     ]
    }
   ],
   "source": [
    "df_fn_related['prediction'] = Y_pred"
   ]
  },
  {
   "cell_type": "code",
   "execution_count": 300,
   "id": "3a5f3088",
   "metadata": {},
   "outputs": [
    {
     "data": {
      "text/html": [
       "<div>\n",
       "<style scoped>\n",
       "    .dataframe tbody tr th:only-of-type {\n",
       "        vertical-align: middle;\n",
       "    }\n",
       "\n",
       "    .dataframe tbody tr th {\n",
       "        vertical-align: top;\n",
       "    }\n",
       "\n",
       "    .dataframe thead th {\n",
       "        text-align: right;\n",
       "    }\n",
       "</style>\n",
       "<table border=\"1\" class=\"dataframe\">\n",
       "  <thead>\n",
       "    <tr style=\"text-align: right;\">\n",
       "      <th></th>\n",
       "      <th>Headline</th>\n",
       "      <th>Body ID</th>\n",
       "      <th>Stance</th>\n",
       "      <th>articleBody</th>\n",
       "      <th>prediction</th>\n",
       "    </tr>\n",
       "  </thead>\n",
       "  <tbody>\n",
       "    <tr>\n",
       "      <th>38740</th>\n",
       "      <td>Militant Group Says It Killed American Journal...</td>\n",
       "      <td>2261</td>\n",
       "      <td>0</td>\n",
       "      <td>From the midweek edition of the Morning Jolt:\\...</td>\n",
       "      <td>0.0</td>\n",
       "    </tr>\n",
       "    <tr>\n",
       "      <th>3100</th>\n",
       "      <td>Thanks Uncle Sam, we have your weapons airdrop...</td>\n",
       "      <td>816</td>\n",
       "      <td>0</td>\n",
       "      <td>A previously unverified audio recording that a...</td>\n",
       "      <td>0.0</td>\n",
       "    </tr>\n",
       "    <tr>\n",
       "      <th>4774</th>\n",
       "      <td>ISIS Reportedly Beheads U.S. Journalist James ...</td>\n",
       "      <td>1720</td>\n",
       "      <td>0</td>\n",
       "      <td>A South American nun suddenly started experien...</td>\n",
       "      <td>0.0</td>\n",
       "    </tr>\n",
       "    <tr>\n",
       "      <th>6172</th>\n",
       "      <td>Oh Hey, Paul Rudd Was One Of The Dallas Airpor...</td>\n",
       "      <td>1212</td>\n",
       "      <td>0</td>\n",
       "      <td>Tiger Woods divorced Swedish model Elin Nordeg...</td>\n",
       "      <td>0.0</td>\n",
       "    </tr>\n",
       "    <tr>\n",
       "      <th>34662</th>\n",
       "      <td>Cloistered nun has a stomach ache  hospital gi...</td>\n",
       "      <td>359</td>\n",
       "      <td>0</td>\n",
       "      <td>There has long been speculation about the myth...</td>\n",
       "      <td>0.0</td>\n",
       "    </tr>\n",
       "    <tr>\n",
       "      <th>...</th>\n",
       "      <td>...</td>\n",
       "      <td>...</td>\n",
       "      <td>...</td>\n",
       "      <td>...</td>\n",
       "      <td>...</td>\n",
       "    </tr>\n",
       "    <tr>\n",
       "      <th>41924</th>\n",
       "      <td>Boko Haram Could Release Kidnapped Girls, Nige...</td>\n",
       "      <td>1430</td>\n",
       "      <td>2</td>\n",
       "      <td>Nigerian officials Friday announced they had a...</td>\n",
       "      <td>2.0</td>\n",
       "    </tr>\n",
       "    <tr>\n",
       "      <th>30909</th>\n",
       "      <td>Isis Syria News: Iraqi Pilots 'Training Isis F...</td>\n",
       "      <td>1606</td>\n",
       "      <td>2</td>\n",
       "      <td>(Reuters) - Iraqi pilots who have joined Islam...</td>\n",
       "      <td>2.0</td>\n",
       "    </tr>\n",
       "    <tr>\n",
       "      <th>49380</th>\n",
       "      <td>Mexico Says Missing Students Not Found In Firs...</td>\n",
       "      <td>1156</td>\n",
       "      <td>1</td>\n",
       "      <td>The bodies found in a mass grave were confirme...</td>\n",
       "      <td>3.0</td>\n",
       "    </tr>\n",
       "    <tr>\n",
       "      <th>48302</th>\n",
       "      <td>Hoax Busted: Report on Popular 'Dog Whisperer'...</td>\n",
       "      <td>1929</td>\n",
       "      <td>1</td>\n",
       "      <td>A report claiming that popular 'dog whisperer'...</td>\n",
       "      <td>1.0</td>\n",
       "    </tr>\n",
       "    <tr>\n",
       "      <th>27815</th>\n",
       "      <td>WHO investigates media reports ISIS fighters c...</td>\n",
       "      <td>1891</td>\n",
       "      <td>2</td>\n",
       "      <td>THERE are unconfirmed reports that jihadists f...</td>\n",
       "      <td>2.0</td>\n",
       "    </tr>\n",
       "  </tbody>\n",
       "</table>\n",
       "<p>14992 rows × 5 columns</p>\n",
       "</div>"
      ],
      "text/plain": [
       "                                                Headline  Body ID  Stance  \\\n",
       "38740  Militant Group Says It Killed American Journal...     2261       0   \n",
       "3100   Thanks Uncle Sam, we have your weapons airdrop...      816       0   \n",
       "4774   ISIS Reportedly Beheads U.S. Journalist James ...     1720       0   \n",
       "6172   Oh Hey, Paul Rudd Was One Of The Dallas Airpor...     1212       0   \n",
       "34662  Cloistered nun has a stomach ache  hospital gi...      359       0   \n",
       "...                                                  ...      ...     ...   \n",
       "41924  Boko Haram Could Release Kidnapped Girls, Nige...     1430       2   \n",
       "30909  Isis Syria News: Iraqi Pilots 'Training Isis F...     1606       2   \n",
       "49380  Mexico Says Missing Students Not Found In Firs...     1156       1   \n",
       "48302  Hoax Busted: Report on Popular 'Dog Whisperer'...     1929       1   \n",
       "27815  WHO investigates media reports ISIS fighters c...     1891       2   \n",
       "\n",
       "                                             articleBody  prediction  \n",
       "38740  From the midweek edition of the Morning Jolt:\\...         0.0  \n",
       "3100   A previously unverified audio recording that a...         0.0  \n",
       "4774   A South American nun suddenly started experien...         0.0  \n",
       "6172   Tiger Woods divorced Swedish model Elin Nordeg...         0.0  \n",
       "34662  There has long been speculation about the myth...         0.0  \n",
       "...                                                  ...         ...  \n",
       "41924  Nigerian officials Friday announced they had a...         2.0  \n",
       "30909  (Reuters) - Iraqi pilots who have joined Islam...         2.0  \n",
       "49380  The bodies found in a mass grave were confirme...         3.0  \n",
       "48302  A report claiming that popular 'dog whisperer'...         1.0  \n",
       "27815  THERE are unconfirmed reports that jihadists f...         2.0  \n",
       "\n",
       "[14992 rows x 5 columns]"
      ]
     },
     "execution_count": 300,
     "metadata": {},
     "output_type": "execute_result"
    }
   ],
   "source": [
    "df_fn = pd.concat([df_fn_unrelated, df_fn_related], axis=0)\n",
    "df_fn"
   ]
  },
  {
   "cell_type": "code",
   "execution_count": 301,
   "id": "29b783a9",
   "metadata": {},
   "outputs": [],
   "source": [
    "Y_true = df_fn['Stance']\n",
    "Y_pred_all = df_fn['prediction']"
   ]
  },
  {
   "cell_type": "code",
   "execution_count": 302,
   "id": "69e4f30b",
   "metadata": {},
   "outputs": [
    {
     "name": "stdout",
     "output_type": "stream",
     "text": [
      "              precision    recall  f1-score   support\n",
      "\n",
      "           0      0.963     0.951     0.957     10956\n",
      "           1      0.411     0.493     0.448      1113\n",
      "           2      0.766     0.579     0.659      2686\n",
      "           3      0.185     0.624     0.285       237\n",
      "\n",
      "    accuracy                          0.845     14992\n",
      "   macro avg      0.581     0.662     0.587     14992\n",
      "weighted avg      0.874     0.845     0.855     14992\n",
      "\n"
     ]
    },
    {
     "data": {
      "image/png": "[encoded data removed]",
      "text/plain": [
       "<Figure size 432x288 with 2 Axes>"
      ]
     },
     "metadata": {},
     "output_type": "display_data"
    }
   ],
   "source": [
    "# final model results\n",
    "print(metrics.classification_report(Y_true, Y_pred_all, digits=3))\n",
    "plot_confussion_matrix(Y_true, Y_pred_all)"
   ]
  },
  {
   "cell_type": "code",
   "execution_count": null,
   "id": "5b70b835",
   "metadata": {},
   "outputs": [],
   "source": []
  }
 ],
 "metadata": {
  "kernelspec": {
   "display_name": "Python 3",
   "language": "python",
   "name": "python3"
  },
  "language_info": {
   "codemirror_mode": {
    "name": "ipython",
    "version": 3
   },
   "file_extension": ".py",
   "mimetype": "text/x-python",
   "name": "python",
   "nbconvert_exporter": "python",
   "pygments_lexer": "ipython3",
   "version": "3.8.8"
  }
 },
 "nbformat": 4,
 "nbformat_minor": 5
}
